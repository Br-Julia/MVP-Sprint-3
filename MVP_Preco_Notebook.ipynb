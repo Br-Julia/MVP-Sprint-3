{
  "cells": [
    {
      "cell_type": "markdown",
      "metadata": {
        "id": "view-in-github",
        "colab_type": "text"
      },
      "source": [
        "<a href=\"https://colab.research.google.com/github/Br-Julia/MVP-Sprint-3/blob/main/MVP_Preco_Notebook.ipynb\" target=\"_parent\"><img src=\"https://colab.research.google.com/assets/colab-badge.svg\" alt=\"Open In Colab\"/></a>"
      ]
    },
    {
      "cell_type": "markdown",
      "metadata": {
        "id": "6j_YUbWm6bpS"
      },
      "source": [
        "#PUC - RIO\n",
        "#MVP - Mínimo Produto Viável\n",
        "\n",
        "#Sprint Machine Learning & Analytics\n",
        "Profs. Patrick e Hugo Villamizar\n",
        "\n",
        "Aluna: Julia Bragança dos Santos Ferreira Lima"
      ]
    },
    {
      "cell_type": "markdown",
      "metadata": {
        "id": "SdQFoNQC7bZ0"
      },
      "source": [
        "#1 Apresentação e Objetivo do notebook"
      ]
    },
    {
      "cell_type": "markdown",
      "metadata": {
        "id": "VHpJ5StC8C_h"
      },
      "source": [
        "#1.1 Objetivo do Notebook"
      ]
    },
    {
      "cell_type": "markdown",
      "metadata": {
        "id": "Cxx4zJ_58NVR"
      },
      "source": [
        "O objetivo deste notebook foi realizar o treinamento de um modelo de Machine Learning para um modelo de regressão de um Dataset chamado \"Laptop Prices Based on its specifications\", este dataset foi retirado do portal KAGGLE, da seguinte fonte: https://www.kaggle.com/datasets/ara001/laptop-prices-based-on-its-specifications.\n",
        "\n",
        "A finalidade será realizar o treinamento do modelo por meio de um aprendizado supervisionado com o intuito de estimar o preço de um notebook de acordo com suas características.\n",
        "\n",
        "Serão realizadas as etapas de importações, estatísticas descritivas, preparação dos modelos, separação do modelo em dados de treinamento e teste, seleção de atributos, transformações nos dados, modelagem, otimização dos hiperparâmetros e avaliação dos resultados.\n",
        "\n",
        "A principal hipótese é que o modelo tenha um aumento do desempenho em cada etapa, principalmente ao realizar a transformação dos dados por intermédio da normalização e padronização.\n",
        "\n",
        "Para realizar a avaliação do modelo será utilizada a métrica de Erro quadrático médio e raiz do erro quadrático médio.\n",
        "\n",
        "Ao fim, espera-se que seja possível perceber uma melhora de desempenho do modelo com a finalidade de colocar o modelo para utilizá-lo em produção.\n",
        "\n"
      ]
    },
    {
      "cell_type": "markdown",
      "metadata": {
        "id": "O3XswPmw8GhQ"
      },
      "source": [
        "##1.2 Apresentação do Notebook"
      ]
    },
    {
      "cell_type": "markdown",
      "metadata": {
        "id": "C2dK3d5K8MxC"
      },
      "source": [
        "Os atributos do Dataset são os seguintes:\n",
        "\n",
        "* Marca: Marca do Notebook\n",
        "* Tipo: Tipo do Notebook, se ele é um Netbook, Notebook, Ultrabook, Gaming ou Workstation\n",
        "* Tam_tela: Tamanho da Tela (em polegadas)\n",
        "* Config_Tela: Qual a configuração da tela, como HD, 4k, Touchscream, etc\n",
        "* CPU: Se refere ao processador e suas configurações, se é da Intel, AMD, se é I3, I5, I7 e suas gerações\n",
        "* Ram: Memória Ram(GB), variando entre 2 e 64Gb\n",
        "* HD: Capacidade de armazenamento do HD, se tem somente 1HD, se é SSD, Flash Storage, com capacidades variadas, podendo ser em GB ou TB\n",
        "* Gpu: Placa de vídeo (Nvidia, Intel, AMD e suas variações)\n",
        "* OP_Sys: Sistema Operacional (Mac, Windows, Linux, Android e etc)\n",
        "* Peso: Peso em Kgs\n",
        "* Preço: Preço de venda do Notebook em Reais"
      ]
    },
    {
      "cell_type": "markdown",
      "metadata": {
        "id": "K12qZbOs15oT"
      },
      "source": [
        "#2 Importações"
      ]
    },
    {
      "cell_type": "markdown",
      "metadata": {
        "id": "-WJn8zHI2I80"
      },
      "source": [
        "##2.1 Instalação do Pandas Profiling"
      ]
    },
    {
      "cell_type": "code",
      "execution_count": 233,
      "metadata": {
        "colab": {
          "base_uri": "https://localhost:8080/"
        },
        "id": "qOlLX48GcW66",
        "outputId": "c1ac1465-e549-4ee1-9b84-a37bd0f32c4c"
      },
      "outputs": [
        {
          "output_type": "stream",
          "name": "stdout",
          "text": [
            "Collecting https://github.com/pandas-profiling/pandas-profiling/archive/master.zip\n",
            "  Using cached https://github.com/pandas-profiling/pandas-profiling/archive/master.zip\n",
            "  Preparing metadata (setup.py) ... \u001b[?25l\u001b[?25hdone\n",
            "Requirement already satisfied: scipy<1.12,>=1.4.1 in /usr/local/lib/python3.10/dist-packages (from ydata-profiling==0.0.dev0) (1.11.4)\n",
            "Requirement already satisfied: pandas!=1.4.0,<3,>1.1 in /usr/local/lib/python3.10/dist-packages (from ydata-profiling==0.0.dev0) (2.0.3)\n",
            "Requirement already satisfied: matplotlib<3.9,>=3.2 in /usr/local/lib/python3.10/dist-packages (from ydata-profiling==0.0.dev0) (3.7.1)\n",
            "Requirement already satisfied: pydantic>=2 in /usr/local/lib/python3.10/dist-packages (from ydata-profiling==0.0.dev0) (2.7.0)\n",
            "Requirement already satisfied: PyYAML<6.1,>=5.0.0 in /usr/local/lib/python3.10/dist-packages (from ydata-profiling==0.0.dev0) (6.0.1)\n",
            "Requirement already satisfied: jinja2<3.2,>=2.11.1 in /usr/local/lib/python3.10/dist-packages (from ydata-profiling==0.0.dev0) (3.1.3)\n",
            "Requirement already satisfied: visions[type_image_path]<0.7.7,>=0.7.5 in /usr/local/lib/python3.10/dist-packages (from ydata-profiling==0.0.dev0) (0.7.6)\n",
            "Requirement already satisfied: numpy<2,>=1.16.0 in /usr/local/lib/python3.10/dist-packages (from ydata-profiling==0.0.dev0) (1.25.2)\n",
            "Requirement already satisfied: htmlmin==0.1.12 in /usr/local/lib/python3.10/dist-packages (from ydata-profiling==0.0.dev0) (0.1.12)\n",
            "Requirement already satisfied: phik<0.13,>=0.11.1 in /usr/local/lib/python3.10/dist-packages (from ydata-profiling==0.0.dev0) (0.12.4)\n",
            "Requirement already satisfied: requests<3,>=2.24.0 in /usr/local/lib/python3.10/dist-packages (from ydata-profiling==0.0.dev0) (2.31.0)\n",
            "Requirement already satisfied: tqdm<5,>=4.48.2 in /usr/local/lib/python3.10/dist-packages (from ydata-profiling==0.0.dev0) (4.66.2)\n",
            "Requirement already satisfied: seaborn<0.13,>=0.10.1 in /usr/local/lib/python3.10/dist-packages (from ydata-profiling==0.0.dev0) (0.12.2)\n",
            "Requirement already satisfied: multimethod<2,>=1.4 in /usr/local/lib/python3.10/dist-packages (from ydata-profiling==0.0.dev0) (1.11.2)\n",
            "Requirement already satisfied: statsmodels<1,>=0.13.2 in /usr/local/lib/python3.10/dist-packages (from ydata-profiling==0.0.dev0) (0.14.2)\n",
            "Requirement already satisfied: typeguard<5,>=4.1.2 in /usr/local/lib/python3.10/dist-packages (from ydata-profiling==0.0.dev0) (4.2.1)\n",
            "Requirement already satisfied: imagehash==4.3.1 in /usr/local/lib/python3.10/dist-packages (from ydata-profiling==0.0.dev0) (4.3.1)\n",
            "Requirement already satisfied: wordcloud>=1.9.1 in /usr/local/lib/python3.10/dist-packages (from ydata-profiling==0.0.dev0) (1.9.3)\n",
            "Requirement already satisfied: dacite>=1.8 in /usr/local/lib/python3.10/dist-packages (from ydata-profiling==0.0.dev0) (1.8.1)\n",
            "Requirement already satisfied: numba<1,>=0.56.0 in /usr/local/lib/python3.10/dist-packages (from ydata-profiling==0.0.dev0) (0.58.1)\n",
            "Requirement already satisfied: PyWavelets in /usr/local/lib/python3.10/dist-packages (from imagehash==4.3.1->ydata-profiling==0.0.dev0) (1.6.0)\n",
            "Requirement already satisfied: pillow in /usr/local/lib/python3.10/dist-packages (from imagehash==4.3.1->ydata-profiling==0.0.dev0) (9.4.0)\n",
            "Requirement already satisfied: MarkupSafe>=2.0 in /usr/local/lib/python3.10/dist-packages (from jinja2<3.2,>=2.11.1->ydata-profiling==0.0.dev0) (2.1.5)\n",
            "Requirement already satisfied: contourpy>=1.0.1 in /usr/local/lib/python3.10/dist-packages (from matplotlib<3.9,>=3.2->ydata-profiling==0.0.dev0) (1.2.1)\n",
            "Requirement already satisfied: cycler>=0.10 in /usr/local/lib/python3.10/dist-packages (from matplotlib<3.9,>=3.2->ydata-profiling==0.0.dev0) (0.12.1)\n",
            "Requirement already satisfied: fonttools>=4.22.0 in /usr/local/lib/python3.10/dist-packages (from matplotlib<3.9,>=3.2->ydata-profiling==0.0.dev0) (4.51.0)\n",
            "Requirement already satisfied: kiwisolver>=1.0.1 in /usr/local/lib/python3.10/dist-packages (from matplotlib<3.9,>=3.2->ydata-profiling==0.0.dev0) (1.4.5)\n",
            "Requirement already satisfied: packaging>=20.0 in /usr/local/lib/python3.10/dist-packages (from matplotlib<3.9,>=3.2->ydata-profiling==0.0.dev0) (24.0)\n",
            "Requirement already satisfied: pyparsing>=2.3.1 in /usr/local/lib/python3.10/dist-packages (from matplotlib<3.9,>=3.2->ydata-profiling==0.0.dev0) (3.1.2)\n",
            "Requirement already satisfied: python-dateutil>=2.7 in /usr/local/lib/python3.10/dist-packages (from matplotlib<3.9,>=3.2->ydata-profiling==0.0.dev0) (2.8.2)\n",
            "Requirement already satisfied: llvmlite<0.42,>=0.41.0dev0 in /usr/local/lib/python3.10/dist-packages (from numba<1,>=0.56.0->ydata-profiling==0.0.dev0) (0.41.1)\n",
            "Requirement already satisfied: pytz>=2020.1 in /usr/local/lib/python3.10/dist-packages (from pandas!=1.4.0,<3,>1.1->ydata-profiling==0.0.dev0) (2023.4)\n",
            "Requirement already satisfied: tzdata>=2022.1 in /usr/local/lib/python3.10/dist-packages (from pandas!=1.4.0,<3,>1.1->ydata-profiling==0.0.dev0) (2024.1)\n",
            "Requirement already satisfied: joblib>=0.14.1 in /usr/local/lib/python3.10/dist-packages (from phik<0.13,>=0.11.1->ydata-profiling==0.0.dev0) (1.4.0)\n",
            "Requirement already satisfied: annotated-types>=0.4.0 in /usr/local/lib/python3.10/dist-packages (from pydantic>=2->ydata-profiling==0.0.dev0) (0.6.0)\n",
            "Requirement already satisfied: pydantic-core==2.18.1 in /usr/local/lib/python3.10/dist-packages (from pydantic>=2->ydata-profiling==0.0.dev0) (2.18.1)\n",
            "Requirement already satisfied: typing-extensions>=4.6.1 in /usr/local/lib/python3.10/dist-packages (from pydantic>=2->ydata-profiling==0.0.dev0) (4.11.0)\n",
            "Requirement already satisfied: charset-normalizer<4,>=2 in /usr/local/lib/python3.10/dist-packages (from requests<3,>=2.24.0->ydata-profiling==0.0.dev0) (3.3.2)\n",
            "Requirement already satisfied: idna<4,>=2.5 in /usr/local/lib/python3.10/dist-packages (from requests<3,>=2.24.0->ydata-profiling==0.0.dev0) (3.7)\n",
            "Requirement already satisfied: urllib3<3,>=1.21.1 in /usr/local/lib/python3.10/dist-packages (from requests<3,>=2.24.0->ydata-profiling==0.0.dev0) (2.0.7)\n",
            "Requirement already satisfied: certifi>=2017.4.17 in /usr/local/lib/python3.10/dist-packages (from requests<3,>=2.24.0->ydata-profiling==0.0.dev0) (2024.2.2)\n",
            "Requirement already satisfied: patsy>=0.5.6 in /usr/local/lib/python3.10/dist-packages (from statsmodels<1,>=0.13.2->ydata-profiling==0.0.dev0) (0.5.6)\n",
            "Requirement already satisfied: attrs>=19.3.0 in /usr/local/lib/python3.10/dist-packages (from visions[type_image_path]<0.7.7,>=0.7.5->ydata-profiling==0.0.dev0) (23.2.0)\n",
            "Requirement already satisfied: networkx>=2.4 in /usr/local/lib/python3.10/dist-packages (from visions[type_image_path]<0.7.7,>=0.7.5->ydata-profiling==0.0.dev0) (3.3)\n",
            "Requirement already satisfied: six in /usr/local/lib/python3.10/dist-packages (from patsy>=0.5.6->statsmodels<1,>=0.13.2->ydata-profiling==0.0.dev0) (1.16.0)\n"
          ]
        }
      ],
      "source": [
        "#Instalação do Pandas Profiling\n",
        "!pip install https://github.com/pandas-profiling/pandas-profiling/archive/master.zip"
      ]
    },
    {
      "cell_type": "markdown",
      "metadata": {
        "id": "8xtaGCFw2Mw9"
      },
      "source": [
        "##2.2 Importação das Bibliotecas"
      ]
    },
    {
      "cell_type": "code",
      "execution_count": 234,
      "metadata": {
        "id": "qVCz2sb9cerP"
      },
      "outputs": [],
      "source": [
        "#Configuração para não exibir os warnings\n",
        "import warnings\n",
        "warnings.filterwarnings(\"ignore\")\n",
        "\n",
        "#Imports Necessários\n",
        "import pandas as pd\n",
        "import numpy as np\n",
        "import matplotlib.pyplot as plt\n",
        "import seaborn as sns\n",
        "import re\n",
        "from sklearn import preprocessing\n",
        "from sklearn.preprocessing import MinMaxScaler\n",
        "from sklearn.preprocessing import StandardScaler\n",
        "from sklearn.preprocessing import OrdinalEncoder\n",
        "from sklearn.preprocessing import OneHotEncoder\n",
        "from sklearn.model_selection import train_test_split\n",
        "from sklearn.model_selection import KFold\n",
        "from sklearn.model_selection import StratifiedKFold\n",
        "from sklearn.model_selection import cross_val_score\n",
        "from sklearn.model_selection import GridSearchCV\n",
        "from sklearn.metrics import mean_squared_error\n",
        "from sklearn.metrics import r2_score\n",
        "from sklearn.linear_model import LinearRegression\n",
        "from sklearn.linear_model import LogisticRegression\n",
        "from sklearn.linear_model import Ridge\n",
        "from sklearn.linear_model import Lasso\n",
        "from sklearn.linear_model import LassoCV\n",
        "from sklearn.linear_model import RidgeCV\n",
        "from sklearn.feature_selection import RFE\n",
        "from sklearn.feature_selection import mutual_info_classif\n",
        "from sklearn.feature_selection import SelectFromModel\n",
        "from sklearn.feature_selection import SelectKBest\n",
        "from sklearn.feature_selection import f_regression\n",
        "from sklearn.neighbors import KNeighborsRegressor\n",
        "from sklearn.tree import DecisionTreeRegressor\n",
        "from sklearn.naive_bayes import GaussianNB\n",
        "from sklearn.svm import SVR\n",
        "from sklearn.ensemble import ExtraTreesRegressor\n",
        "from sklearn.ensemble import BaggingRegressor\n",
        "from sklearn.ensemble import RandomForestRegressor\n",
        "from sklearn.ensemble import ExtraTreesRegressor\n",
        "from sklearn.ensemble import VotingRegressor\n",
        "from sklearn.ensemble import AdaBoostRegressor\n",
        "from sklearn.ensemble import GradientBoostingRegressor\n",
        "from sklearn.pipeline import Pipeline\n"
      ]
    },
    {
      "cell_type": "markdown",
      "metadata": {
        "id": "7o9F7TZ52Ro_"
      },
      "source": [
        "##2.3 Importação do Dataset"
      ]
    },
    {
      "cell_type": "code",
      "execution_count": 235,
      "metadata": {
        "colab": {
          "base_uri": "https://localhost:8080/",
          "height": 206
        },
        "id": "01smfka7cgsi",
        "outputId": "4509017b-bd8b-4f03-f584-7548b09abb28"
      },
      "outputs": [
        {
          "output_type": "execute_result",
          "data": {
            "text/plain": [
              "   Marca       Tipo  Tam_tela                         Config_Tela  \\\n",
              "1  Apple  Ultrabook      13.3                            1440x900   \n",
              "2     HP   Notebook      15.6                   Full HD 1920x1080   \n",
              "3  Apple  Ultrabook      15.4  IPS Panel Retina Display 2880x1800   \n",
              "4  Apple  Ultrabook      13.3  IPS Panel Retina Display 2560x1600   \n",
              "5   Acer   Notebook      15.6                            1366x768   \n",
              "\n",
              "                          CPU   Ram                   HD  \\\n",
              "1        Intel Core i5 1.8GHz   8GB  128GB Flash Storage   \n",
              "2  Intel Core i5 7200U 2.5GHz   8GB            256GB SSD   \n",
              "3        Intel Core i7 2.7GHz  16GB            512GB SSD   \n",
              "4        Intel Core i5 3.1GHz   8GB            256GB SSD   \n",
              "5     AMD A9-Series 9420 3GHz   4GB            500GB HDD   \n",
              "\n",
              "                            Gpu      OP_Sys    Peso        Preço  \n",
              "1        Intel HD Graphics 6000       macOS  1.34kg   47895.5232  \n",
              "2         Intel HD Graphics 620       No OS  1.86kg   30636.0000  \n",
              "3            AMD Radeon Pro 455       macOS  1.83kg  135195.3360  \n",
              "4  Intel Iris Plus Graphics 650       macOS  1.37kg   96095.8080  \n",
              "5                 AMD Radeon R5  Windows 10   2.1kg   21312.0000  "
            ],
            "text/html": [
              "\n",
              "  <div id=\"df-175d7195-0ec6-4a8d-b542-c32e1634efb0\" class=\"colab-df-container\">\n",
              "    <div>\n",
              "<style scoped>\n",
              "    .dataframe tbody tr th:only-of-type {\n",
              "        vertical-align: middle;\n",
              "    }\n",
              "\n",
              "    .dataframe tbody tr th {\n",
              "        vertical-align: top;\n",
              "    }\n",
              "\n",
              "    .dataframe thead th {\n",
              "        text-align: right;\n",
              "    }\n",
              "</style>\n",
              "<table border=\"1\" class=\"dataframe\">\n",
              "  <thead>\n",
              "    <tr style=\"text-align: right;\">\n",
              "      <th></th>\n",
              "      <th>Marca</th>\n",
              "      <th>Tipo</th>\n",
              "      <th>Tam_tela</th>\n",
              "      <th>Config_Tela</th>\n",
              "      <th>CPU</th>\n",
              "      <th>Ram</th>\n",
              "      <th>HD</th>\n",
              "      <th>Gpu</th>\n",
              "      <th>OP_Sys</th>\n",
              "      <th>Peso</th>\n",
              "      <th>Preço</th>\n",
              "    </tr>\n",
              "  </thead>\n",
              "  <tbody>\n",
              "    <tr>\n",
              "      <th>1</th>\n",
              "      <td>Apple</td>\n",
              "      <td>Ultrabook</td>\n",
              "      <td>13.3</td>\n",
              "      <td>1440x900</td>\n",
              "      <td>Intel Core i5 1.8GHz</td>\n",
              "      <td>8GB</td>\n",
              "      <td>128GB Flash Storage</td>\n",
              "      <td>Intel HD Graphics 6000</td>\n",
              "      <td>macOS</td>\n",
              "      <td>1.34kg</td>\n",
              "      <td>47895.5232</td>\n",
              "    </tr>\n",
              "    <tr>\n",
              "      <th>2</th>\n",
              "      <td>HP</td>\n",
              "      <td>Notebook</td>\n",
              "      <td>15.6</td>\n",
              "      <td>Full HD 1920x1080</td>\n",
              "      <td>Intel Core i5 7200U 2.5GHz</td>\n",
              "      <td>8GB</td>\n",
              "      <td>256GB SSD</td>\n",
              "      <td>Intel HD Graphics 620</td>\n",
              "      <td>No OS</td>\n",
              "      <td>1.86kg</td>\n",
              "      <td>30636.0000</td>\n",
              "    </tr>\n",
              "    <tr>\n",
              "      <th>3</th>\n",
              "      <td>Apple</td>\n",
              "      <td>Ultrabook</td>\n",
              "      <td>15.4</td>\n",
              "      <td>IPS Panel Retina Display 2880x1800</td>\n",
              "      <td>Intel Core i7 2.7GHz</td>\n",
              "      <td>16GB</td>\n",
              "      <td>512GB SSD</td>\n",
              "      <td>AMD Radeon Pro 455</td>\n",
              "      <td>macOS</td>\n",
              "      <td>1.83kg</td>\n",
              "      <td>135195.3360</td>\n",
              "    </tr>\n",
              "    <tr>\n",
              "      <th>4</th>\n",
              "      <td>Apple</td>\n",
              "      <td>Ultrabook</td>\n",
              "      <td>13.3</td>\n",
              "      <td>IPS Panel Retina Display 2560x1600</td>\n",
              "      <td>Intel Core i5 3.1GHz</td>\n",
              "      <td>8GB</td>\n",
              "      <td>256GB SSD</td>\n",
              "      <td>Intel Iris Plus Graphics 650</td>\n",
              "      <td>macOS</td>\n",
              "      <td>1.37kg</td>\n",
              "      <td>96095.8080</td>\n",
              "    </tr>\n",
              "    <tr>\n",
              "      <th>5</th>\n",
              "      <td>Acer</td>\n",
              "      <td>Notebook</td>\n",
              "      <td>15.6</td>\n",
              "      <td>1366x768</td>\n",
              "      <td>AMD A9-Series 9420 3GHz</td>\n",
              "      <td>4GB</td>\n",
              "      <td>500GB HDD</td>\n",
              "      <td>AMD Radeon R5</td>\n",
              "      <td>Windows 10</td>\n",
              "      <td>2.1kg</td>\n",
              "      <td>21312.0000</td>\n",
              "    </tr>\n",
              "  </tbody>\n",
              "</table>\n",
              "</div>\n",
              "    <div class=\"colab-df-buttons\">\n",
              "\n",
              "  <div class=\"colab-df-container\">\n",
              "    <button class=\"colab-df-convert\" onclick=\"convertToInteractive('df-175d7195-0ec6-4a8d-b542-c32e1634efb0')\"\n",
              "            title=\"Convert this dataframe to an interactive table.\"\n",
              "            style=\"display:none;\">\n",
              "\n",
              "  <svg xmlns=\"http://www.w3.org/2000/svg\" height=\"24px\" viewBox=\"0 -960 960 960\">\n",
              "    <path d=\"M120-120v-720h720v720H120Zm60-500h600v-160H180v160Zm220 220h160v-160H400v160Zm0 220h160v-160H400v160ZM180-400h160v-160H180v160Zm440 0h160v-160H620v160ZM180-180h160v-160H180v160Zm440 0h160v-160H620v160Z\"/>\n",
              "  </svg>\n",
              "    </button>\n",
              "\n",
              "  <style>\n",
              "    .colab-df-container {\n",
              "      display:flex;\n",
              "      gap: 12px;\n",
              "    }\n",
              "\n",
              "    .colab-df-convert {\n",
              "      background-color: #E8F0FE;\n",
              "      border: none;\n",
              "      border-radius: 50%;\n",
              "      cursor: pointer;\n",
              "      display: none;\n",
              "      fill: #1967D2;\n",
              "      height: 32px;\n",
              "      padding: 0 0 0 0;\n",
              "      width: 32px;\n",
              "    }\n",
              "\n",
              "    .colab-df-convert:hover {\n",
              "      background-color: #E2EBFA;\n",
              "      box-shadow: 0px 1px 2px rgba(60, 64, 67, 0.3), 0px 1px 3px 1px rgba(60, 64, 67, 0.15);\n",
              "      fill: #174EA6;\n",
              "    }\n",
              "\n",
              "    .colab-df-buttons div {\n",
              "      margin-bottom: 4px;\n",
              "    }\n",
              "\n",
              "    [theme=dark] .colab-df-convert {\n",
              "      background-color: #3B4455;\n",
              "      fill: #D2E3FC;\n",
              "    }\n",
              "\n",
              "    [theme=dark] .colab-df-convert:hover {\n",
              "      background-color: #434B5C;\n",
              "      box-shadow: 0px 1px 3px 1px rgba(0, 0, 0, 0.15);\n",
              "      filter: drop-shadow(0px 1px 2px rgba(0, 0, 0, 0.3));\n",
              "      fill: #FFFFFF;\n",
              "    }\n",
              "  </style>\n",
              "\n",
              "    <script>\n",
              "      const buttonEl =\n",
              "        document.querySelector('#df-175d7195-0ec6-4a8d-b542-c32e1634efb0 button.colab-df-convert');\n",
              "      buttonEl.style.display =\n",
              "        google.colab.kernel.accessAllowed ? 'block' : 'none';\n",
              "\n",
              "      async function convertToInteractive(key) {\n",
              "        const element = document.querySelector('#df-175d7195-0ec6-4a8d-b542-c32e1634efb0');\n",
              "        const dataTable =\n",
              "          await google.colab.kernel.invokeFunction('convertToInteractive',\n",
              "                                                    [key], {});\n",
              "        if (!dataTable) return;\n",
              "\n",
              "        const docLinkHtml = 'Like what you see? Visit the ' +\n",
              "          '<a target=\"_blank\" href=https://colab.research.google.com/notebooks/data_table.ipynb>data table notebook</a>'\n",
              "          + ' to learn more about interactive tables.';\n",
              "        element.innerHTML = '';\n",
              "        dataTable['output_type'] = 'display_data';\n",
              "        await google.colab.output.renderOutput(dataTable, element);\n",
              "        const docLink = document.createElement('div');\n",
              "        docLink.innerHTML = docLinkHtml;\n",
              "        element.appendChild(docLink);\n",
              "      }\n",
              "    </script>\n",
              "  </div>\n",
              "\n",
              "\n",
              "<div id=\"df-21050560-de50-4e7b-8e9b-38ba9ea77186\">\n",
              "  <button class=\"colab-df-quickchart\" onclick=\"quickchart('df-21050560-de50-4e7b-8e9b-38ba9ea77186')\"\n",
              "            title=\"Suggest charts\"\n",
              "            style=\"display:none;\">\n",
              "\n",
              "<svg xmlns=\"http://www.w3.org/2000/svg\" height=\"24px\"viewBox=\"0 0 24 24\"\n",
              "     width=\"24px\">\n",
              "    <g>\n",
              "        <path d=\"M19 3H5c-1.1 0-2 .9-2 2v14c0 1.1.9 2 2 2h14c1.1 0 2-.9 2-2V5c0-1.1-.9-2-2-2zM9 17H7v-7h2v7zm4 0h-2V7h2v10zm4 0h-2v-4h2v4z\"/>\n",
              "    </g>\n",
              "</svg>\n",
              "  </button>\n",
              "\n",
              "<style>\n",
              "  .colab-df-quickchart {\n",
              "      --bg-color: #E8F0FE;\n",
              "      --fill-color: #1967D2;\n",
              "      --hover-bg-color: #E2EBFA;\n",
              "      --hover-fill-color: #174EA6;\n",
              "      --disabled-fill-color: #AAA;\n",
              "      --disabled-bg-color: #DDD;\n",
              "  }\n",
              "\n",
              "  [theme=dark] .colab-df-quickchart {\n",
              "      --bg-color: #3B4455;\n",
              "      --fill-color: #D2E3FC;\n",
              "      --hover-bg-color: #434B5C;\n",
              "      --hover-fill-color: #FFFFFF;\n",
              "      --disabled-bg-color: #3B4455;\n",
              "      --disabled-fill-color: #666;\n",
              "  }\n",
              "\n",
              "  .colab-df-quickchart {\n",
              "    background-color: var(--bg-color);\n",
              "    border: none;\n",
              "    border-radius: 50%;\n",
              "    cursor: pointer;\n",
              "    display: none;\n",
              "    fill: var(--fill-color);\n",
              "    height: 32px;\n",
              "    padding: 0;\n",
              "    width: 32px;\n",
              "  }\n",
              "\n",
              "  .colab-df-quickchart:hover {\n",
              "    background-color: var(--hover-bg-color);\n",
              "    box-shadow: 0 1px 2px rgba(60, 64, 67, 0.3), 0 1px 3px 1px rgba(60, 64, 67, 0.15);\n",
              "    fill: var(--button-hover-fill-color);\n",
              "  }\n",
              "\n",
              "  .colab-df-quickchart-complete:disabled,\n",
              "  .colab-df-quickchart-complete:disabled:hover {\n",
              "    background-color: var(--disabled-bg-color);\n",
              "    fill: var(--disabled-fill-color);\n",
              "    box-shadow: none;\n",
              "  }\n",
              "\n",
              "  .colab-df-spinner {\n",
              "    border: 2px solid var(--fill-color);\n",
              "    border-color: transparent;\n",
              "    border-bottom-color: var(--fill-color);\n",
              "    animation:\n",
              "      spin 1s steps(1) infinite;\n",
              "  }\n",
              "\n",
              "  @keyframes spin {\n",
              "    0% {\n",
              "      border-color: transparent;\n",
              "      border-bottom-color: var(--fill-color);\n",
              "      border-left-color: var(--fill-color);\n",
              "    }\n",
              "    20% {\n",
              "      border-color: transparent;\n",
              "      border-left-color: var(--fill-color);\n",
              "      border-top-color: var(--fill-color);\n",
              "    }\n",
              "    30% {\n",
              "      border-color: transparent;\n",
              "      border-left-color: var(--fill-color);\n",
              "      border-top-color: var(--fill-color);\n",
              "      border-right-color: var(--fill-color);\n",
              "    }\n",
              "    40% {\n",
              "      border-color: transparent;\n",
              "      border-right-color: var(--fill-color);\n",
              "      border-top-color: var(--fill-color);\n",
              "    }\n",
              "    60% {\n",
              "      border-color: transparent;\n",
              "      border-right-color: var(--fill-color);\n",
              "    }\n",
              "    80% {\n",
              "      border-color: transparent;\n",
              "      border-right-color: var(--fill-color);\n",
              "      border-bottom-color: var(--fill-color);\n",
              "    }\n",
              "    90% {\n",
              "      border-color: transparent;\n",
              "      border-bottom-color: var(--fill-color);\n",
              "    }\n",
              "  }\n",
              "</style>\n",
              "\n",
              "  <script>\n",
              "    async function quickchart(key) {\n",
              "      const quickchartButtonEl =\n",
              "        document.querySelector('#' + key + ' button');\n",
              "      quickchartButtonEl.disabled = true;  // To prevent multiple clicks.\n",
              "      quickchartButtonEl.classList.add('colab-df-spinner');\n",
              "      try {\n",
              "        const charts = await google.colab.kernel.invokeFunction(\n",
              "            'suggestCharts', [key], {});\n",
              "      } catch (error) {\n",
              "        console.error('Error during call to suggestCharts:', error);\n",
              "      }\n",
              "      quickchartButtonEl.classList.remove('colab-df-spinner');\n",
              "      quickchartButtonEl.classList.add('colab-df-quickchart-complete');\n",
              "    }\n",
              "    (() => {\n",
              "      let quickchartButtonEl =\n",
              "        document.querySelector('#df-21050560-de50-4e7b-8e9b-38ba9ea77186 button');\n",
              "      quickchartButtonEl.style.display =\n",
              "        google.colab.kernel.accessAllowed ? 'block' : 'none';\n",
              "    })();\n",
              "  </script>\n",
              "</div>\n",
              "\n",
              "    </div>\n",
              "  </div>\n"
            ],
            "application/vnd.google.colaboratory.intrinsic+json": {
              "type": "dataframe",
              "variable_name": "Dataset",
              "summary": "{\n  \"name\": \"Dataset\",\n  \"rows\": 1302,\n  \"fields\": [\n    {\n      \"column\": \"Marca\",\n      \"properties\": {\n        \"dtype\": \"category\",\n        \"num_unique_values\": 19,\n        \"samples\": [\n          \"Apple\",\n          \"Lenovo\",\n          \"Xiaomi\"\n        ],\n        \"semantic_type\": \"\",\n        \"description\": \"\"\n      }\n    },\n    {\n      \"column\": \"Tipo\",\n      \"properties\": {\n        \"dtype\": \"category\",\n        \"num_unique_values\": 6,\n        \"samples\": [\n          \"Ultrabook\",\n          \"Notebook\",\n          \"Workstation\"\n        ],\n        \"semantic_type\": \"\",\n        \"description\": \"\"\n      }\n    },\n    {\n      \"column\": \"Tam_tela\",\n      \"properties\": {\n        \"dtype\": \"number\",\n        \"std\": 1.4260570359454638,\n        \"min\": 10.1,\n        \"max\": 18.4,\n        \"num_unique_values\": 18,\n        \"samples\": [\n          13.3,\n          15.6,\n          13.5\n        ],\n        \"semantic_type\": \"\",\n        \"description\": \"\"\n      }\n    },\n    {\n      \"column\": \"Config_Tela\",\n      \"properties\": {\n        \"dtype\": \"category\",\n        \"num_unique_values\": 40,\n        \"samples\": [\n          \"IPS Panel 4K Ultra HD 3840x2160\",\n          \"4K Ultra HD / Touchscreen 3840x2160\",\n          \"IPS Panel Full HD 2160x1440\"\n        ],\n        \"semantic_type\": \"\",\n        \"description\": \"\"\n      }\n    },\n    {\n      \"column\": \"CPU\",\n      \"properties\": {\n        \"dtype\": \"category\",\n        \"num_unique_values\": 118,\n        \"samples\": [\n          \"Intel Celeron Dual Core 3855U 1.6GHz\",\n          \"AMD A6-Series 7310 2GHz\",\n          \"AMD A9-Series 9420 3GHz\"\n        ],\n        \"semantic_type\": \"\",\n        \"description\": \"\"\n      }\n    },\n    {\n      \"column\": \"Ram\",\n      \"properties\": {\n        \"dtype\": \"category\",\n        \"num_unique_values\": 9,\n        \"samples\": [\n          \"24GB\",\n          \"16GB\",\n          \"6GB\"\n        ],\n        \"semantic_type\": \"\",\n        \"description\": \"\"\n      }\n    },\n    {\n      \"column\": \"HD\",\n      \"properties\": {\n        \"dtype\": \"category\",\n        \"num_unique_values\": 39,\n        \"samples\": [\n          \"240GB SSD\",\n          \"1.0TB HDD\",\n          \"256GB Flash Storage\"\n        ],\n        \"semantic_type\": \"\",\n        \"description\": \"\"\n      }\n    },\n    {\n      \"column\": \"Gpu\",\n      \"properties\": {\n        \"dtype\": \"category\",\n        \"num_unique_values\": 110,\n        \"samples\": [\n          \"AMD Radeon R7\",\n          \"AMD Radeon R5 M430\",\n          \"AMD Radeon R5\"\n        ],\n        \"semantic_type\": \"\",\n        \"description\": \"\"\n      }\n    },\n    {\n      \"column\": \"OP_Sys\",\n      \"properties\": {\n        \"dtype\": \"category\",\n        \"num_unique_values\": 9,\n        \"samples\": [\n          \"Chrome OS\",\n          \"No OS\",\n          \"Android\"\n        ],\n        \"semantic_type\": \"\",\n        \"description\": \"\"\n      }\n    },\n    {\n      \"column\": \"Peso\",\n      \"properties\": {\n        \"dtype\": \"category\",\n        \"num_unique_values\": 179,\n        \"samples\": [\n          \"4.42kg\",\n          \"1.35kg\",\n          \"2.03kg\"\n        ],\n        \"semantic_type\": \"\",\n        \"description\": \"\"\n      }\n    },\n    {\n      \"column\": \"Pre\\u00e7o\",\n      \"properties\": {\n        \"dtype\": \"number\",\n        \"std\": 37256.1450208803,\n        \"min\": 9270.72,\n        \"max\": 324954.72,\n        \"num_unique_values\": 790,\n        \"samples\": [\n          128884.32,\n          79866.72,\n          24988.32\n        ],\n        \"semantic_type\": \"\",\n        \"description\": \"\"\n      }\n    }\n  ]\n}"
            }
          },
          "metadata": {},
          "execution_count": 235
        }
      ],
      "source": [
        "#Definindo o nome das colunas do dataset\n",
        "labels_atributos = [\"Marca\", \"Tipo\", \"Tam_tela\", \"Config_Tela\", \"CPU\", \"Ram\", \"HD\", \"Gpu\", \"OP_Sys\", \"Peso\", \"Preço\"]\n",
        "\n",
        "#Importando o Dataset Principal\n",
        "Dataset = pd.read_csv(\"https://raw.githubusercontent.com/Br-Julia/MVP-Sprint-3/main/laptop_data.csv\", names=labels_atributos, header=1)\n",
        "\n",
        "Dataset.head(5)"
      ]
    },
    {
      "cell_type": "markdown",
      "metadata": {
        "id": "kwiY3cBg2Xpo"
      },
      "source": [
        "#3 Estatísticas Descritivas"
      ]
    },
    {
      "cell_type": "code",
      "execution_count": 236,
      "metadata": {
        "colab": {
          "base_uri": "https://localhost:8080/"
        },
        "id": "SiUTREKYeY9Z",
        "outputId": "7e11fd68-d074-4b31-dd65-ed94ec9c43d3"
      },
      "outputs": [
        {
          "output_type": "stream",
          "name": "stdout",
          "text": [
            "<class 'pandas.core.frame.DataFrame'>\n",
            "Index: 1302 entries, 1 to 1302\n",
            "Data columns (total 11 columns):\n",
            " #   Column       Non-Null Count  Dtype  \n",
            "---  ------       --------------  -----  \n",
            " 0   Marca        1302 non-null   object \n",
            " 1   Tipo         1302 non-null   object \n",
            " 2   Tam_tela     1302 non-null   float64\n",
            " 3   Config_Tela  1302 non-null   object \n",
            " 4   CPU          1302 non-null   object \n",
            " 5   Ram          1302 non-null   object \n",
            " 6   HD           1302 non-null   object \n",
            " 7   Gpu          1302 non-null   object \n",
            " 8   OP_Sys       1302 non-null   object \n",
            " 9   Peso         1302 non-null   object \n",
            " 10  Preço        1302 non-null   float64\n",
            "dtypes: float64(2), object(9)\n",
            "memory usage: 122.1+ KB\n"
          ]
        }
      ],
      "source": [
        "Dataset.info()"
      ]
    },
    {
      "cell_type": "markdown",
      "metadata": {
        "id": "zDoAzzYu6LY8"
      },
      "source": [
        "O Dataset possui 11 colunas e 1302 linhas, sendo 9 colunas do tipo object e 2 colunas do tipo float."
      ]
    },
    {
      "cell_type": "code",
      "execution_count": 237,
      "metadata": {
        "colab": {
          "base_uri": "https://localhost:8080/",
          "height": 300
        },
        "id": "BgNp77gimNOb",
        "outputId": "4e2e21e8-0d0f-481e-997d-51c62b0fca2f"
      },
      "outputs": [
        {
          "output_type": "execute_result",
          "data": {
            "text/plain": [
              "          Tam_tela          Preço\n",
              "count  1302.000000    1302.000000\n",
              "mean     15.018510   59861.203709\n",
              "std       1.426057   37256.145021\n",
              "min      10.100000    9270.720000\n",
              "25%      14.000000   31914.720000\n",
              "50%      15.600000   52054.560000\n",
              "75%      15.600000   79303.816800\n",
              "max      18.400000  324954.720000"
            ],
            "text/html": [
              "\n",
              "  <div id=\"df-01c09acf-3f8a-4d84-98ab-32c417a30f21\" class=\"colab-df-container\">\n",
              "    <div>\n",
              "<style scoped>\n",
              "    .dataframe tbody tr th:only-of-type {\n",
              "        vertical-align: middle;\n",
              "    }\n",
              "\n",
              "    .dataframe tbody tr th {\n",
              "        vertical-align: top;\n",
              "    }\n",
              "\n",
              "    .dataframe thead th {\n",
              "        text-align: right;\n",
              "    }\n",
              "</style>\n",
              "<table border=\"1\" class=\"dataframe\">\n",
              "  <thead>\n",
              "    <tr style=\"text-align: right;\">\n",
              "      <th></th>\n",
              "      <th>Tam_tela</th>\n",
              "      <th>Preço</th>\n",
              "    </tr>\n",
              "  </thead>\n",
              "  <tbody>\n",
              "    <tr>\n",
              "      <th>count</th>\n",
              "      <td>1302.000000</td>\n",
              "      <td>1302.000000</td>\n",
              "    </tr>\n",
              "    <tr>\n",
              "      <th>mean</th>\n",
              "      <td>15.018510</td>\n",
              "      <td>59861.203709</td>\n",
              "    </tr>\n",
              "    <tr>\n",
              "      <th>std</th>\n",
              "      <td>1.426057</td>\n",
              "      <td>37256.145021</td>\n",
              "    </tr>\n",
              "    <tr>\n",
              "      <th>min</th>\n",
              "      <td>10.100000</td>\n",
              "      <td>9270.720000</td>\n",
              "    </tr>\n",
              "    <tr>\n",
              "      <th>25%</th>\n",
              "      <td>14.000000</td>\n",
              "      <td>31914.720000</td>\n",
              "    </tr>\n",
              "    <tr>\n",
              "      <th>50%</th>\n",
              "      <td>15.600000</td>\n",
              "      <td>52054.560000</td>\n",
              "    </tr>\n",
              "    <tr>\n",
              "      <th>75%</th>\n",
              "      <td>15.600000</td>\n",
              "      <td>79303.816800</td>\n",
              "    </tr>\n",
              "    <tr>\n",
              "      <th>max</th>\n",
              "      <td>18.400000</td>\n",
              "      <td>324954.720000</td>\n",
              "    </tr>\n",
              "  </tbody>\n",
              "</table>\n",
              "</div>\n",
              "    <div class=\"colab-df-buttons\">\n",
              "\n",
              "  <div class=\"colab-df-container\">\n",
              "    <button class=\"colab-df-convert\" onclick=\"convertToInteractive('df-01c09acf-3f8a-4d84-98ab-32c417a30f21')\"\n",
              "            title=\"Convert this dataframe to an interactive table.\"\n",
              "            style=\"display:none;\">\n",
              "\n",
              "  <svg xmlns=\"http://www.w3.org/2000/svg\" height=\"24px\" viewBox=\"0 -960 960 960\">\n",
              "    <path d=\"M120-120v-720h720v720H120Zm60-500h600v-160H180v160Zm220 220h160v-160H400v160Zm0 220h160v-160H400v160ZM180-400h160v-160H180v160Zm440 0h160v-160H620v160ZM180-180h160v-160H180v160Zm440 0h160v-160H620v160Z\"/>\n",
              "  </svg>\n",
              "    </button>\n",
              "\n",
              "  <style>\n",
              "    .colab-df-container {\n",
              "      display:flex;\n",
              "      gap: 12px;\n",
              "    }\n",
              "\n",
              "    .colab-df-convert {\n",
              "      background-color: #E8F0FE;\n",
              "      border: none;\n",
              "      border-radius: 50%;\n",
              "      cursor: pointer;\n",
              "      display: none;\n",
              "      fill: #1967D2;\n",
              "      height: 32px;\n",
              "      padding: 0 0 0 0;\n",
              "      width: 32px;\n",
              "    }\n",
              "\n",
              "    .colab-df-convert:hover {\n",
              "      background-color: #E2EBFA;\n",
              "      box-shadow: 0px 1px 2px rgba(60, 64, 67, 0.3), 0px 1px 3px 1px rgba(60, 64, 67, 0.15);\n",
              "      fill: #174EA6;\n",
              "    }\n",
              "\n",
              "    .colab-df-buttons div {\n",
              "      margin-bottom: 4px;\n",
              "    }\n",
              "\n",
              "    [theme=dark] .colab-df-convert {\n",
              "      background-color: #3B4455;\n",
              "      fill: #D2E3FC;\n",
              "    }\n",
              "\n",
              "    [theme=dark] .colab-df-convert:hover {\n",
              "      background-color: #434B5C;\n",
              "      box-shadow: 0px 1px 3px 1px rgba(0, 0, 0, 0.15);\n",
              "      filter: drop-shadow(0px 1px 2px rgba(0, 0, 0, 0.3));\n",
              "      fill: #FFFFFF;\n",
              "    }\n",
              "  </style>\n",
              "\n",
              "    <script>\n",
              "      const buttonEl =\n",
              "        document.querySelector('#df-01c09acf-3f8a-4d84-98ab-32c417a30f21 button.colab-df-convert');\n",
              "      buttonEl.style.display =\n",
              "        google.colab.kernel.accessAllowed ? 'block' : 'none';\n",
              "\n",
              "      async function convertToInteractive(key) {\n",
              "        const element = document.querySelector('#df-01c09acf-3f8a-4d84-98ab-32c417a30f21');\n",
              "        const dataTable =\n",
              "          await google.colab.kernel.invokeFunction('convertToInteractive',\n",
              "                                                    [key], {});\n",
              "        if (!dataTable) return;\n",
              "\n",
              "        const docLinkHtml = 'Like what you see? Visit the ' +\n",
              "          '<a target=\"_blank\" href=https://colab.research.google.com/notebooks/data_table.ipynb>data table notebook</a>'\n",
              "          + ' to learn more about interactive tables.';\n",
              "        element.innerHTML = '';\n",
              "        dataTable['output_type'] = 'display_data';\n",
              "        await google.colab.output.renderOutput(dataTable, element);\n",
              "        const docLink = document.createElement('div');\n",
              "        docLink.innerHTML = docLinkHtml;\n",
              "        element.appendChild(docLink);\n",
              "      }\n",
              "    </script>\n",
              "  </div>\n",
              "\n",
              "\n",
              "<div id=\"df-9778fb2d-2470-4aa1-b456-c8de0c2f7579\">\n",
              "  <button class=\"colab-df-quickchart\" onclick=\"quickchart('df-9778fb2d-2470-4aa1-b456-c8de0c2f7579')\"\n",
              "            title=\"Suggest charts\"\n",
              "            style=\"display:none;\">\n",
              "\n",
              "<svg xmlns=\"http://www.w3.org/2000/svg\" height=\"24px\"viewBox=\"0 0 24 24\"\n",
              "     width=\"24px\">\n",
              "    <g>\n",
              "        <path d=\"M19 3H5c-1.1 0-2 .9-2 2v14c0 1.1.9 2 2 2h14c1.1 0 2-.9 2-2V5c0-1.1-.9-2-2-2zM9 17H7v-7h2v7zm4 0h-2V7h2v10zm4 0h-2v-4h2v4z\"/>\n",
              "    </g>\n",
              "</svg>\n",
              "  </button>\n",
              "\n",
              "<style>\n",
              "  .colab-df-quickchart {\n",
              "      --bg-color: #E8F0FE;\n",
              "      --fill-color: #1967D2;\n",
              "      --hover-bg-color: #E2EBFA;\n",
              "      --hover-fill-color: #174EA6;\n",
              "      --disabled-fill-color: #AAA;\n",
              "      --disabled-bg-color: #DDD;\n",
              "  }\n",
              "\n",
              "  [theme=dark] .colab-df-quickchart {\n",
              "      --bg-color: #3B4455;\n",
              "      --fill-color: #D2E3FC;\n",
              "      --hover-bg-color: #434B5C;\n",
              "      --hover-fill-color: #FFFFFF;\n",
              "      --disabled-bg-color: #3B4455;\n",
              "      --disabled-fill-color: #666;\n",
              "  }\n",
              "\n",
              "  .colab-df-quickchart {\n",
              "    background-color: var(--bg-color);\n",
              "    border: none;\n",
              "    border-radius: 50%;\n",
              "    cursor: pointer;\n",
              "    display: none;\n",
              "    fill: var(--fill-color);\n",
              "    height: 32px;\n",
              "    padding: 0;\n",
              "    width: 32px;\n",
              "  }\n",
              "\n",
              "  .colab-df-quickchart:hover {\n",
              "    background-color: var(--hover-bg-color);\n",
              "    box-shadow: 0 1px 2px rgba(60, 64, 67, 0.3), 0 1px 3px 1px rgba(60, 64, 67, 0.15);\n",
              "    fill: var(--button-hover-fill-color);\n",
              "  }\n",
              "\n",
              "  .colab-df-quickchart-complete:disabled,\n",
              "  .colab-df-quickchart-complete:disabled:hover {\n",
              "    background-color: var(--disabled-bg-color);\n",
              "    fill: var(--disabled-fill-color);\n",
              "    box-shadow: none;\n",
              "  }\n",
              "\n",
              "  .colab-df-spinner {\n",
              "    border: 2px solid var(--fill-color);\n",
              "    border-color: transparent;\n",
              "    border-bottom-color: var(--fill-color);\n",
              "    animation:\n",
              "      spin 1s steps(1) infinite;\n",
              "  }\n",
              "\n",
              "  @keyframes spin {\n",
              "    0% {\n",
              "      border-color: transparent;\n",
              "      border-bottom-color: var(--fill-color);\n",
              "      border-left-color: var(--fill-color);\n",
              "    }\n",
              "    20% {\n",
              "      border-color: transparent;\n",
              "      border-left-color: var(--fill-color);\n",
              "      border-top-color: var(--fill-color);\n",
              "    }\n",
              "    30% {\n",
              "      border-color: transparent;\n",
              "      border-left-color: var(--fill-color);\n",
              "      border-top-color: var(--fill-color);\n",
              "      border-right-color: var(--fill-color);\n",
              "    }\n",
              "    40% {\n",
              "      border-color: transparent;\n",
              "      border-right-color: var(--fill-color);\n",
              "      border-top-color: var(--fill-color);\n",
              "    }\n",
              "    60% {\n",
              "      border-color: transparent;\n",
              "      border-right-color: var(--fill-color);\n",
              "    }\n",
              "    80% {\n",
              "      border-color: transparent;\n",
              "      border-right-color: var(--fill-color);\n",
              "      border-bottom-color: var(--fill-color);\n",
              "    }\n",
              "    90% {\n",
              "      border-color: transparent;\n",
              "      border-bottom-color: var(--fill-color);\n",
              "    }\n",
              "  }\n",
              "</style>\n",
              "\n",
              "  <script>\n",
              "    async function quickchart(key) {\n",
              "      const quickchartButtonEl =\n",
              "        document.querySelector('#' + key + ' button');\n",
              "      quickchartButtonEl.disabled = true;  // To prevent multiple clicks.\n",
              "      quickchartButtonEl.classList.add('colab-df-spinner');\n",
              "      try {\n",
              "        const charts = await google.colab.kernel.invokeFunction(\n",
              "            'suggestCharts', [key], {});\n",
              "      } catch (error) {\n",
              "        console.error('Error during call to suggestCharts:', error);\n",
              "      }\n",
              "      quickchartButtonEl.classList.remove('colab-df-spinner');\n",
              "      quickchartButtonEl.classList.add('colab-df-quickchart-complete');\n",
              "    }\n",
              "    (() => {\n",
              "      let quickchartButtonEl =\n",
              "        document.querySelector('#df-9778fb2d-2470-4aa1-b456-c8de0c2f7579 button');\n",
              "      quickchartButtonEl.style.display =\n",
              "        google.colab.kernel.accessAllowed ? 'block' : 'none';\n",
              "    })();\n",
              "  </script>\n",
              "</div>\n",
              "\n",
              "    </div>\n",
              "  </div>\n"
            ],
            "application/vnd.google.colaboratory.intrinsic+json": {
              "type": "dataframe",
              "summary": "{\n  \"name\": \"Dataset\",\n  \"rows\": 8,\n  \"fields\": [\n    {\n      \"column\": \"Tam_tela\",\n      \"properties\": {\n        \"dtype\": \"number\",\n        \"std\": 455.80330459298716,\n        \"min\": 1.4260570359454638,\n        \"max\": 1302.0,\n        \"num_unique_values\": 7,\n        \"samples\": [\n          1302.0,\n          15.018509984639014,\n          15.6\n        ],\n        \"semantic_type\": \"\",\n        \"description\": \"\"\n      }\n    },\n    {\n      \"column\": \"Pre\\u00e7o\",\n      \"properties\": {\n        \"dtype\": \"number\",\n        \"std\": 104390.8532505402,\n        \"min\": 1302.0,\n        \"max\": 324954.72,\n        \"num_unique_values\": 8,\n        \"samples\": [\n          59861.20370875576,\n          52054.56,\n          1302.0\n        ],\n        \"semantic_type\": \"\",\n        \"description\": \"\"\n      }\n    }\n  ]\n}"
            }
          },
          "metadata": {},
          "execution_count": 237
        }
      ],
      "source": [
        "Dataset.describe()"
      ]
    },
    {
      "cell_type": "markdown",
      "metadata": {
        "id": "IWpVFxrY6XKr"
      },
      "source": [
        "Por este comando é possível verificar a contagem de amostras, a média, o desvio padrão, valor máximo e mínimo das váriaveis numéricas.\n",
        "A nossa variavel Target será o preço e é possível visualizar que o valor máximo é 324.954,72 e o mínimo é 9.720,72."
      ]
    },
    {
      "cell_type": "code",
      "execution_count": 238,
      "metadata": {
        "colab": {
          "base_uri": "https://localhost:8080/"
        },
        "id": "T1w-CcEMebRF",
        "outputId": "9a9e9874-ae95-4433-c735-71cb3ea40b55"
      },
      "outputs": [
        {
          "output_type": "execute_result",
          "data": {
            "text/plain": [
              "Marca          0\n",
              "Tipo           0\n",
              "Tam_tela       0\n",
              "Config_Tela    0\n",
              "CPU            0\n",
              "Ram            0\n",
              "HD             0\n",
              "Gpu            0\n",
              "OP_Sys         0\n",
              "Peso           0\n",
              "Preço          0\n",
              "dtype: int64"
            ]
          },
          "metadata": {},
          "execution_count": 238
        }
      ],
      "source": [
        "#Verificação dos valores missing no Dataset\n",
        "Dataset.isnull().sum()"
      ]
    },
    {
      "cell_type": "markdown",
      "metadata": {
        "id": "__gpZ5bn6z2Z"
      },
      "source": [
        "Visualização do numero de valores nulos no Dataset, para verificar se será necessário realizar algum tratamento nos dados. Porém, como não há nenhum dado ausente, não serão realizadas tratativas nesse sentido."
      ]
    },
    {
      "cell_type": "markdown",
      "metadata": {
        "id": "kROBiS0c2qmW"
      },
      "source": [
        "#4 Ajustes do Dataset"
      ]
    },
    {
      "cell_type": "markdown",
      "metadata": {
        "id": "1Rcq8CmE7f25"
      },
      "source": [
        "Nesta etapa foram realizados os tratamentos necessários para a modelagem do Dataset em Machine Learning, isto inclui transformar os dados categóricos em numéricos."
      ]
    },
    {
      "cell_type": "markdown",
      "metadata": {
        "id": "xvTOFFO6d0ma"
      },
      "source": [
        "##4.1 Transformação das colunas em numéricas"
      ]
    },
    {
      "cell_type": "markdown",
      "metadata": {
        "id": "sIx-UoTw7uQr"
      },
      "source": [
        "Foram verificadas que algumas colunas continham os dados numéricos mas com a unidade de medida, portanto neste momento, foram retiradas as unidades de medida e transformados os dados de object para float."
      ]
    },
    {
      "cell_type": "code",
      "execution_count": 239,
      "metadata": {
        "colab": {
          "base_uri": "https://localhost:8080/",
          "height": 206
        },
        "id": "Eo7WVlHc89I7",
        "outputId": "d10f2ffe-5fce-48a4-8d0b-7905c6917dd7"
      },
      "outputs": [
        {
          "output_type": "execute_result",
          "data": {
            "text/plain": [
              "   Marca       Tipo  Tam_tela                         Config_Tela  \\\n",
              "1  Apple  Ultrabook      13.3                            1440x900   \n",
              "2     HP   Notebook      15.6                   Full HD 1920x1080   \n",
              "3  Apple  Ultrabook      15.4  IPS Panel Retina Display 2880x1800   \n",
              "4  Apple  Ultrabook      13.3  IPS Panel Retina Display 2560x1600   \n",
              "5   Acer   Notebook      15.6                            1366x768   \n",
              "\n",
              "                          CPU   Ram                   HD  \\\n",
              "1        Intel Core i5 1.8GHz   8GB  128GB Flash Storage   \n",
              "2  Intel Core i5 7200U 2.5GHz   8GB            256GB SSD   \n",
              "3        Intel Core i7 2.7GHz  16GB            512GB SSD   \n",
              "4        Intel Core i5 3.1GHz   8GB            256GB SSD   \n",
              "5     AMD A9-Series 9420 3GHz   4GB            500GB HDD   \n",
              "\n",
              "                            Gpu      OP_Sys  Peso        Preço  \n",
              "1        Intel HD Graphics 6000       macOS  1.34   47895.5232  \n",
              "2         Intel HD Graphics 620       No OS  1.86   30636.0000  \n",
              "3            AMD Radeon Pro 455       macOS  1.83  135195.3360  \n",
              "4  Intel Iris Plus Graphics 650       macOS  1.37   96095.8080  \n",
              "5                 AMD Radeon R5  Windows 10  2.10   21312.0000  "
            ],
            "text/html": [
              "\n",
              "  <div id=\"df-cad8f779-9435-423c-a215-5222cdb226c5\" class=\"colab-df-container\">\n",
              "    <div>\n",
              "<style scoped>\n",
              "    .dataframe tbody tr th:only-of-type {\n",
              "        vertical-align: middle;\n",
              "    }\n",
              "\n",
              "    .dataframe tbody tr th {\n",
              "        vertical-align: top;\n",
              "    }\n",
              "\n",
              "    .dataframe thead th {\n",
              "        text-align: right;\n",
              "    }\n",
              "</style>\n",
              "<table border=\"1\" class=\"dataframe\">\n",
              "  <thead>\n",
              "    <tr style=\"text-align: right;\">\n",
              "      <th></th>\n",
              "      <th>Marca</th>\n",
              "      <th>Tipo</th>\n",
              "      <th>Tam_tela</th>\n",
              "      <th>Config_Tela</th>\n",
              "      <th>CPU</th>\n",
              "      <th>Ram</th>\n",
              "      <th>HD</th>\n",
              "      <th>Gpu</th>\n",
              "      <th>OP_Sys</th>\n",
              "      <th>Peso</th>\n",
              "      <th>Preço</th>\n",
              "    </tr>\n",
              "  </thead>\n",
              "  <tbody>\n",
              "    <tr>\n",
              "      <th>1</th>\n",
              "      <td>Apple</td>\n",
              "      <td>Ultrabook</td>\n",
              "      <td>13.3</td>\n",
              "      <td>1440x900</td>\n",
              "      <td>Intel Core i5 1.8GHz</td>\n",
              "      <td>8GB</td>\n",
              "      <td>128GB Flash Storage</td>\n",
              "      <td>Intel HD Graphics 6000</td>\n",
              "      <td>macOS</td>\n",
              "      <td>1.34</td>\n",
              "      <td>47895.5232</td>\n",
              "    </tr>\n",
              "    <tr>\n",
              "      <th>2</th>\n",
              "      <td>HP</td>\n",
              "      <td>Notebook</td>\n",
              "      <td>15.6</td>\n",
              "      <td>Full HD 1920x1080</td>\n",
              "      <td>Intel Core i5 7200U 2.5GHz</td>\n",
              "      <td>8GB</td>\n",
              "      <td>256GB SSD</td>\n",
              "      <td>Intel HD Graphics 620</td>\n",
              "      <td>No OS</td>\n",
              "      <td>1.86</td>\n",
              "      <td>30636.0000</td>\n",
              "    </tr>\n",
              "    <tr>\n",
              "      <th>3</th>\n",
              "      <td>Apple</td>\n",
              "      <td>Ultrabook</td>\n",
              "      <td>15.4</td>\n",
              "      <td>IPS Panel Retina Display 2880x1800</td>\n",
              "      <td>Intel Core i7 2.7GHz</td>\n",
              "      <td>16GB</td>\n",
              "      <td>512GB SSD</td>\n",
              "      <td>AMD Radeon Pro 455</td>\n",
              "      <td>macOS</td>\n",
              "      <td>1.83</td>\n",
              "      <td>135195.3360</td>\n",
              "    </tr>\n",
              "    <tr>\n",
              "      <th>4</th>\n",
              "      <td>Apple</td>\n",
              "      <td>Ultrabook</td>\n",
              "      <td>13.3</td>\n",
              "      <td>IPS Panel Retina Display 2560x1600</td>\n",
              "      <td>Intel Core i5 3.1GHz</td>\n",
              "      <td>8GB</td>\n",
              "      <td>256GB SSD</td>\n",
              "      <td>Intel Iris Plus Graphics 650</td>\n",
              "      <td>macOS</td>\n",
              "      <td>1.37</td>\n",
              "      <td>96095.8080</td>\n",
              "    </tr>\n",
              "    <tr>\n",
              "      <th>5</th>\n",
              "      <td>Acer</td>\n",
              "      <td>Notebook</td>\n",
              "      <td>15.6</td>\n",
              "      <td>1366x768</td>\n",
              "      <td>AMD A9-Series 9420 3GHz</td>\n",
              "      <td>4GB</td>\n",
              "      <td>500GB HDD</td>\n",
              "      <td>AMD Radeon R5</td>\n",
              "      <td>Windows 10</td>\n",
              "      <td>2.10</td>\n",
              "      <td>21312.0000</td>\n",
              "    </tr>\n",
              "  </tbody>\n",
              "</table>\n",
              "</div>\n",
              "    <div class=\"colab-df-buttons\">\n",
              "\n",
              "  <div class=\"colab-df-container\">\n",
              "    <button class=\"colab-df-convert\" onclick=\"convertToInteractive('df-cad8f779-9435-423c-a215-5222cdb226c5')\"\n",
              "            title=\"Convert this dataframe to an interactive table.\"\n",
              "            style=\"display:none;\">\n",
              "\n",
              "  <svg xmlns=\"http://www.w3.org/2000/svg\" height=\"24px\" viewBox=\"0 -960 960 960\">\n",
              "    <path d=\"M120-120v-720h720v720H120Zm60-500h600v-160H180v160Zm220 220h160v-160H400v160Zm0 220h160v-160H400v160ZM180-400h160v-160H180v160Zm440 0h160v-160H620v160ZM180-180h160v-160H180v160Zm440 0h160v-160H620v160Z\"/>\n",
              "  </svg>\n",
              "    </button>\n",
              "\n",
              "  <style>\n",
              "    .colab-df-container {\n",
              "      display:flex;\n",
              "      gap: 12px;\n",
              "    }\n",
              "\n",
              "    .colab-df-convert {\n",
              "      background-color: #E8F0FE;\n",
              "      border: none;\n",
              "      border-radius: 50%;\n",
              "      cursor: pointer;\n",
              "      display: none;\n",
              "      fill: #1967D2;\n",
              "      height: 32px;\n",
              "      padding: 0 0 0 0;\n",
              "      width: 32px;\n",
              "    }\n",
              "\n",
              "    .colab-df-convert:hover {\n",
              "      background-color: #E2EBFA;\n",
              "      box-shadow: 0px 1px 2px rgba(60, 64, 67, 0.3), 0px 1px 3px 1px rgba(60, 64, 67, 0.15);\n",
              "      fill: #174EA6;\n",
              "    }\n",
              "\n",
              "    .colab-df-buttons div {\n",
              "      margin-bottom: 4px;\n",
              "    }\n",
              "\n",
              "    [theme=dark] .colab-df-convert {\n",
              "      background-color: #3B4455;\n",
              "      fill: #D2E3FC;\n",
              "    }\n",
              "\n",
              "    [theme=dark] .colab-df-convert:hover {\n",
              "      background-color: #434B5C;\n",
              "      box-shadow: 0px 1px 3px 1px rgba(0, 0, 0, 0.15);\n",
              "      filter: drop-shadow(0px 1px 2px rgba(0, 0, 0, 0.3));\n",
              "      fill: #FFFFFF;\n",
              "    }\n",
              "  </style>\n",
              "\n",
              "    <script>\n",
              "      const buttonEl =\n",
              "        document.querySelector('#df-cad8f779-9435-423c-a215-5222cdb226c5 button.colab-df-convert');\n",
              "      buttonEl.style.display =\n",
              "        google.colab.kernel.accessAllowed ? 'block' : 'none';\n",
              "\n",
              "      async function convertToInteractive(key) {\n",
              "        const element = document.querySelector('#df-cad8f779-9435-423c-a215-5222cdb226c5');\n",
              "        const dataTable =\n",
              "          await google.colab.kernel.invokeFunction('convertToInteractive',\n",
              "                                                    [key], {});\n",
              "        if (!dataTable) return;\n",
              "\n",
              "        const docLinkHtml = 'Like what you see? Visit the ' +\n",
              "          '<a target=\"_blank\" href=https://colab.research.google.com/notebooks/data_table.ipynb>data table notebook</a>'\n",
              "          + ' to learn more about interactive tables.';\n",
              "        element.innerHTML = '';\n",
              "        dataTable['output_type'] = 'display_data';\n",
              "        await google.colab.output.renderOutput(dataTable, element);\n",
              "        const docLink = document.createElement('div');\n",
              "        docLink.innerHTML = docLinkHtml;\n",
              "        element.appendChild(docLink);\n",
              "      }\n",
              "    </script>\n",
              "  </div>\n",
              "\n",
              "\n",
              "<div id=\"df-0b4908a3-f9fe-4ada-b7c1-2fc7618b2658\">\n",
              "  <button class=\"colab-df-quickchart\" onclick=\"quickchart('df-0b4908a3-f9fe-4ada-b7c1-2fc7618b2658')\"\n",
              "            title=\"Suggest charts\"\n",
              "            style=\"display:none;\">\n",
              "\n",
              "<svg xmlns=\"http://www.w3.org/2000/svg\" height=\"24px\"viewBox=\"0 0 24 24\"\n",
              "     width=\"24px\">\n",
              "    <g>\n",
              "        <path d=\"M19 3H5c-1.1 0-2 .9-2 2v14c0 1.1.9 2 2 2h14c1.1 0 2-.9 2-2V5c0-1.1-.9-2-2-2zM9 17H7v-7h2v7zm4 0h-2V7h2v10zm4 0h-2v-4h2v4z\"/>\n",
              "    </g>\n",
              "</svg>\n",
              "  </button>\n",
              "\n",
              "<style>\n",
              "  .colab-df-quickchart {\n",
              "      --bg-color: #E8F0FE;\n",
              "      --fill-color: #1967D2;\n",
              "      --hover-bg-color: #E2EBFA;\n",
              "      --hover-fill-color: #174EA6;\n",
              "      --disabled-fill-color: #AAA;\n",
              "      --disabled-bg-color: #DDD;\n",
              "  }\n",
              "\n",
              "  [theme=dark] .colab-df-quickchart {\n",
              "      --bg-color: #3B4455;\n",
              "      --fill-color: #D2E3FC;\n",
              "      --hover-bg-color: #434B5C;\n",
              "      --hover-fill-color: #FFFFFF;\n",
              "      --disabled-bg-color: #3B4455;\n",
              "      --disabled-fill-color: #666;\n",
              "  }\n",
              "\n",
              "  .colab-df-quickchart {\n",
              "    background-color: var(--bg-color);\n",
              "    border: none;\n",
              "    border-radius: 50%;\n",
              "    cursor: pointer;\n",
              "    display: none;\n",
              "    fill: var(--fill-color);\n",
              "    height: 32px;\n",
              "    padding: 0;\n",
              "    width: 32px;\n",
              "  }\n",
              "\n",
              "  .colab-df-quickchart:hover {\n",
              "    background-color: var(--hover-bg-color);\n",
              "    box-shadow: 0 1px 2px rgba(60, 64, 67, 0.3), 0 1px 3px 1px rgba(60, 64, 67, 0.15);\n",
              "    fill: var(--button-hover-fill-color);\n",
              "  }\n",
              "\n",
              "  .colab-df-quickchart-complete:disabled,\n",
              "  .colab-df-quickchart-complete:disabled:hover {\n",
              "    background-color: var(--disabled-bg-color);\n",
              "    fill: var(--disabled-fill-color);\n",
              "    box-shadow: none;\n",
              "  }\n",
              "\n",
              "  .colab-df-spinner {\n",
              "    border: 2px solid var(--fill-color);\n",
              "    border-color: transparent;\n",
              "    border-bottom-color: var(--fill-color);\n",
              "    animation:\n",
              "      spin 1s steps(1) infinite;\n",
              "  }\n",
              "\n",
              "  @keyframes spin {\n",
              "    0% {\n",
              "      border-color: transparent;\n",
              "      border-bottom-color: var(--fill-color);\n",
              "      border-left-color: var(--fill-color);\n",
              "    }\n",
              "    20% {\n",
              "      border-color: transparent;\n",
              "      border-left-color: var(--fill-color);\n",
              "      border-top-color: var(--fill-color);\n",
              "    }\n",
              "    30% {\n",
              "      border-color: transparent;\n",
              "      border-left-color: var(--fill-color);\n",
              "      border-top-color: var(--fill-color);\n",
              "      border-right-color: var(--fill-color);\n",
              "    }\n",
              "    40% {\n",
              "      border-color: transparent;\n",
              "      border-right-color: var(--fill-color);\n",
              "      border-top-color: var(--fill-color);\n",
              "    }\n",
              "    60% {\n",
              "      border-color: transparent;\n",
              "      border-right-color: var(--fill-color);\n",
              "    }\n",
              "    80% {\n",
              "      border-color: transparent;\n",
              "      border-right-color: var(--fill-color);\n",
              "      border-bottom-color: var(--fill-color);\n",
              "    }\n",
              "    90% {\n",
              "      border-color: transparent;\n",
              "      border-bottom-color: var(--fill-color);\n",
              "    }\n",
              "  }\n",
              "</style>\n",
              "\n",
              "  <script>\n",
              "    async function quickchart(key) {\n",
              "      const quickchartButtonEl =\n",
              "        document.querySelector('#' + key + ' button');\n",
              "      quickchartButtonEl.disabled = true;  // To prevent multiple clicks.\n",
              "      quickchartButtonEl.classList.add('colab-df-spinner');\n",
              "      try {\n",
              "        const charts = await google.colab.kernel.invokeFunction(\n",
              "            'suggestCharts', [key], {});\n",
              "      } catch (error) {\n",
              "        console.error('Error during call to suggestCharts:', error);\n",
              "      }\n",
              "      quickchartButtonEl.classList.remove('colab-df-spinner');\n",
              "      quickchartButtonEl.classList.add('colab-df-quickchart-complete');\n",
              "    }\n",
              "    (() => {\n",
              "      let quickchartButtonEl =\n",
              "        document.querySelector('#df-0b4908a3-f9fe-4ada-b7c1-2fc7618b2658 button');\n",
              "      quickchartButtonEl.style.display =\n",
              "        google.colab.kernel.accessAllowed ? 'block' : 'none';\n",
              "    })();\n",
              "  </script>\n",
              "</div>\n",
              "\n",
              "    </div>\n",
              "  </div>\n"
            ],
            "application/vnd.google.colaboratory.intrinsic+json": {
              "type": "dataframe",
              "variable_name": "Dataset",
              "summary": "{\n  \"name\": \"Dataset\",\n  \"rows\": 1302,\n  \"fields\": [\n    {\n      \"column\": \"Marca\",\n      \"properties\": {\n        \"dtype\": \"category\",\n        \"num_unique_values\": 19,\n        \"samples\": [\n          \"Apple\",\n          \"Lenovo\",\n          \"Xiaomi\"\n        ],\n        \"semantic_type\": \"\",\n        \"description\": \"\"\n      }\n    },\n    {\n      \"column\": \"Tipo\",\n      \"properties\": {\n        \"dtype\": \"category\",\n        \"num_unique_values\": 6,\n        \"samples\": [\n          \"Ultrabook\",\n          \"Notebook\",\n          \"Workstation\"\n        ],\n        \"semantic_type\": \"\",\n        \"description\": \"\"\n      }\n    },\n    {\n      \"column\": \"Tam_tela\",\n      \"properties\": {\n        \"dtype\": \"number\",\n        \"std\": 1.4260570359454638,\n        \"min\": 10.1,\n        \"max\": 18.4,\n        \"num_unique_values\": 18,\n        \"samples\": [\n          13.3,\n          15.6,\n          13.5\n        ],\n        \"semantic_type\": \"\",\n        \"description\": \"\"\n      }\n    },\n    {\n      \"column\": \"Config_Tela\",\n      \"properties\": {\n        \"dtype\": \"category\",\n        \"num_unique_values\": 40,\n        \"samples\": [\n          \"IPS Panel 4K Ultra HD 3840x2160\",\n          \"4K Ultra HD / Touchscreen 3840x2160\",\n          \"IPS Panel Full HD 2160x1440\"\n        ],\n        \"semantic_type\": \"\",\n        \"description\": \"\"\n      }\n    },\n    {\n      \"column\": \"CPU\",\n      \"properties\": {\n        \"dtype\": \"category\",\n        \"num_unique_values\": 118,\n        \"samples\": [\n          \"Intel Celeron Dual Core 3855U 1.6GHz\",\n          \"AMD A6-Series 7310 2GHz\",\n          \"AMD A9-Series 9420 3GHz\"\n        ],\n        \"semantic_type\": \"\",\n        \"description\": \"\"\n      }\n    },\n    {\n      \"column\": \"Ram\",\n      \"properties\": {\n        \"dtype\": \"category\",\n        \"num_unique_values\": 9,\n        \"samples\": [\n          \"24GB\",\n          \"16GB\",\n          \"6GB\"\n        ],\n        \"semantic_type\": \"\",\n        \"description\": \"\"\n      }\n    },\n    {\n      \"column\": \"HD\",\n      \"properties\": {\n        \"dtype\": \"category\",\n        \"num_unique_values\": 39,\n        \"samples\": [\n          \"240GB SSD\",\n          \"1.0TB HDD\",\n          \"256GB Flash Storage\"\n        ],\n        \"semantic_type\": \"\",\n        \"description\": \"\"\n      }\n    },\n    {\n      \"column\": \"Gpu\",\n      \"properties\": {\n        \"dtype\": \"category\",\n        \"num_unique_values\": 110,\n        \"samples\": [\n          \"AMD Radeon R7\",\n          \"AMD Radeon R5 M430\",\n          \"AMD Radeon R5\"\n        ],\n        \"semantic_type\": \"\",\n        \"description\": \"\"\n      }\n    },\n    {\n      \"column\": \"OP_Sys\",\n      \"properties\": {\n        \"dtype\": \"category\",\n        \"num_unique_values\": 9,\n        \"samples\": [\n          \"Chrome OS\",\n          \"No OS\",\n          \"Android\"\n        ],\n        \"semantic_type\": \"\",\n        \"description\": \"\"\n      }\n    },\n    {\n      \"column\": \"Peso\",\n      \"properties\": {\n        \"dtype\": \"number\",\n        \"std\": 0.6654718901357086,\n        \"min\": 0.69,\n        \"max\": 4.7,\n        \"num_unique_values\": 171,\n        \"samples\": [\n          2.6,\n          2.05,\n          1.32\n        ],\n        \"semantic_type\": \"\",\n        \"description\": \"\"\n      }\n    },\n    {\n      \"column\": \"Pre\\u00e7o\",\n      \"properties\": {\n        \"dtype\": \"number\",\n        \"std\": 37256.1450208803,\n        \"min\": 9270.72,\n        \"max\": 324954.72,\n        \"num_unique_values\": 790,\n        \"samples\": [\n          128884.32,\n          79866.72,\n          24988.32\n        ],\n        \"semantic_type\": \"\",\n        \"description\": \"\"\n      }\n    }\n  ]\n}"
            }
          },
          "metadata": {},
          "execution_count": 239
        }
      ],
      "source": [
        "#Realizando a retirada do texto Kg da coluna de peso\n",
        "Dataset['Peso'] = Dataset['Peso'].apply(lambda x: re.sub(r'kg', '', x))\n",
        "\n",
        "#Transformando o dado de object para numérico\n",
        "Dataset['Peso'] = Dataset['Peso'].str.replace('kgs', '').astype(float)\n",
        "\n",
        "#Exibindo as 5 primeiras linhas do dataset\n",
        "Dataset.head()"
      ]
    },
    {
      "cell_type": "code",
      "execution_count": 240,
      "metadata": {
        "colab": {
          "base_uri": "https://localhost:8080/",
          "height": 206
        },
        "id": "TcceLhkRBl-j",
        "outputId": "88a1ca2b-f115-4e96-c853-1a4f3ce49950"
      },
      "outputs": [
        {
          "output_type": "execute_result",
          "data": {
            "text/plain": [
              "   Marca       Tipo  Tam_tela                         Config_Tela  \\\n",
              "1  Apple  Ultrabook      13.3                            1440x900   \n",
              "2     HP   Notebook      15.6                   Full HD 1920x1080   \n",
              "3  Apple  Ultrabook      15.4  IPS Panel Retina Display 2880x1800   \n",
              "4  Apple  Ultrabook      13.3  IPS Panel Retina Display 2560x1600   \n",
              "5   Acer   Notebook      15.6                            1366x768   \n",
              "\n",
              "                          CPU  Ram                   HD  \\\n",
              "1        Intel Core i5 1.8GHz    8  128GB Flash Storage   \n",
              "2  Intel Core i5 7200U 2.5GHz    8            256GB SSD   \n",
              "3        Intel Core i7 2.7GHz   16            512GB SSD   \n",
              "4        Intel Core i5 3.1GHz    8            256GB SSD   \n",
              "5     AMD A9-Series 9420 3GHz    4            500GB HDD   \n",
              "\n",
              "                            Gpu      OP_Sys  Peso        Preço  \n",
              "1        Intel HD Graphics 6000       macOS  1.34   47895.5232  \n",
              "2         Intel HD Graphics 620       No OS  1.86   30636.0000  \n",
              "3            AMD Radeon Pro 455       macOS  1.83  135195.3360  \n",
              "4  Intel Iris Plus Graphics 650       macOS  1.37   96095.8080  \n",
              "5                 AMD Radeon R5  Windows 10  2.10   21312.0000  "
            ],
            "text/html": [
              "\n",
              "  <div id=\"df-0a256999-3301-4c6a-aeff-c2e2ceb75c3c\" class=\"colab-df-container\">\n",
              "    <div>\n",
              "<style scoped>\n",
              "    .dataframe tbody tr th:only-of-type {\n",
              "        vertical-align: middle;\n",
              "    }\n",
              "\n",
              "    .dataframe tbody tr th {\n",
              "        vertical-align: top;\n",
              "    }\n",
              "\n",
              "    .dataframe thead th {\n",
              "        text-align: right;\n",
              "    }\n",
              "</style>\n",
              "<table border=\"1\" class=\"dataframe\">\n",
              "  <thead>\n",
              "    <tr style=\"text-align: right;\">\n",
              "      <th></th>\n",
              "      <th>Marca</th>\n",
              "      <th>Tipo</th>\n",
              "      <th>Tam_tela</th>\n",
              "      <th>Config_Tela</th>\n",
              "      <th>CPU</th>\n",
              "      <th>Ram</th>\n",
              "      <th>HD</th>\n",
              "      <th>Gpu</th>\n",
              "      <th>OP_Sys</th>\n",
              "      <th>Peso</th>\n",
              "      <th>Preço</th>\n",
              "    </tr>\n",
              "  </thead>\n",
              "  <tbody>\n",
              "    <tr>\n",
              "      <th>1</th>\n",
              "      <td>Apple</td>\n",
              "      <td>Ultrabook</td>\n",
              "      <td>13.3</td>\n",
              "      <td>1440x900</td>\n",
              "      <td>Intel Core i5 1.8GHz</td>\n",
              "      <td>8</td>\n",
              "      <td>128GB Flash Storage</td>\n",
              "      <td>Intel HD Graphics 6000</td>\n",
              "      <td>macOS</td>\n",
              "      <td>1.34</td>\n",
              "      <td>47895.5232</td>\n",
              "    </tr>\n",
              "    <tr>\n",
              "      <th>2</th>\n",
              "      <td>HP</td>\n",
              "      <td>Notebook</td>\n",
              "      <td>15.6</td>\n",
              "      <td>Full HD 1920x1080</td>\n",
              "      <td>Intel Core i5 7200U 2.5GHz</td>\n",
              "      <td>8</td>\n",
              "      <td>256GB SSD</td>\n",
              "      <td>Intel HD Graphics 620</td>\n",
              "      <td>No OS</td>\n",
              "      <td>1.86</td>\n",
              "      <td>30636.0000</td>\n",
              "    </tr>\n",
              "    <tr>\n",
              "      <th>3</th>\n",
              "      <td>Apple</td>\n",
              "      <td>Ultrabook</td>\n",
              "      <td>15.4</td>\n",
              "      <td>IPS Panel Retina Display 2880x1800</td>\n",
              "      <td>Intel Core i7 2.7GHz</td>\n",
              "      <td>16</td>\n",
              "      <td>512GB SSD</td>\n",
              "      <td>AMD Radeon Pro 455</td>\n",
              "      <td>macOS</td>\n",
              "      <td>1.83</td>\n",
              "      <td>135195.3360</td>\n",
              "    </tr>\n",
              "    <tr>\n",
              "      <th>4</th>\n",
              "      <td>Apple</td>\n",
              "      <td>Ultrabook</td>\n",
              "      <td>13.3</td>\n",
              "      <td>IPS Panel Retina Display 2560x1600</td>\n",
              "      <td>Intel Core i5 3.1GHz</td>\n",
              "      <td>8</td>\n",
              "      <td>256GB SSD</td>\n",
              "      <td>Intel Iris Plus Graphics 650</td>\n",
              "      <td>macOS</td>\n",
              "      <td>1.37</td>\n",
              "      <td>96095.8080</td>\n",
              "    </tr>\n",
              "    <tr>\n",
              "      <th>5</th>\n",
              "      <td>Acer</td>\n",
              "      <td>Notebook</td>\n",
              "      <td>15.6</td>\n",
              "      <td>1366x768</td>\n",
              "      <td>AMD A9-Series 9420 3GHz</td>\n",
              "      <td>4</td>\n",
              "      <td>500GB HDD</td>\n",
              "      <td>AMD Radeon R5</td>\n",
              "      <td>Windows 10</td>\n",
              "      <td>2.10</td>\n",
              "      <td>21312.0000</td>\n",
              "    </tr>\n",
              "  </tbody>\n",
              "</table>\n",
              "</div>\n",
              "    <div class=\"colab-df-buttons\">\n",
              "\n",
              "  <div class=\"colab-df-container\">\n",
              "    <button class=\"colab-df-convert\" onclick=\"convertToInteractive('df-0a256999-3301-4c6a-aeff-c2e2ceb75c3c')\"\n",
              "            title=\"Convert this dataframe to an interactive table.\"\n",
              "            style=\"display:none;\">\n",
              "\n",
              "  <svg xmlns=\"http://www.w3.org/2000/svg\" height=\"24px\" viewBox=\"0 -960 960 960\">\n",
              "    <path d=\"M120-120v-720h720v720H120Zm60-500h600v-160H180v160Zm220 220h160v-160H400v160Zm0 220h160v-160H400v160ZM180-400h160v-160H180v160Zm440 0h160v-160H620v160ZM180-180h160v-160H180v160Zm440 0h160v-160H620v160Z\"/>\n",
              "  </svg>\n",
              "    </button>\n",
              "\n",
              "  <style>\n",
              "    .colab-df-container {\n",
              "      display:flex;\n",
              "      gap: 12px;\n",
              "    }\n",
              "\n",
              "    .colab-df-convert {\n",
              "      background-color: #E8F0FE;\n",
              "      border: none;\n",
              "      border-radius: 50%;\n",
              "      cursor: pointer;\n",
              "      display: none;\n",
              "      fill: #1967D2;\n",
              "      height: 32px;\n",
              "      padding: 0 0 0 0;\n",
              "      width: 32px;\n",
              "    }\n",
              "\n",
              "    .colab-df-convert:hover {\n",
              "      background-color: #E2EBFA;\n",
              "      box-shadow: 0px 1px 2px rgba(60, 64, 67, 0.3), 0px 1px 3px 1px rgba(60, 64, 67, 0.15);\n",
              "      fill: #174EA6;\n",
              "    }\n",
              "\n",
              "    .colab-df-buttons div {\n",
              "      margin-bottom: 4px;\n",
              "    }\n",
              "\n",
              "    [theme=dark] .colab-df-convert {\n",
              "      background-color: #3B4455;\n",
              "      fill: #D2E3FC;\n",
              "    }\n",
              "\n",
              "    [theme=dark] .colab-df-convert:hover {\n",
              "      background-color: #434B5C;\n",
              "      box-shadow: 0px 1px 3px 1px rgba(0, 0, 0, 0.15);\n",
              "      filter: drop-shadow(0px 1px 2px rgba(0, 0, 0, 0.3));\n",
              "      fill: #FFFFFF;\n",
              "    }\n",
              "  </style>\n",
              "\n",
              "    <script>\n",
              "      const buttonEl =\n",
              "        document.querySelector('#df-0a256999-3301-4c6a-aeff-c2e2ceb75c3c button.colab-df-convert');\n",
              "      buttonEl.style.display =\n",
              "        google.colab.kernel.accessAllowed ? 'block' : 'none';\n",
              "\n",
              "      async function convertToInteractive(key) {\n",
              "        const element = document.querySelector('#df-0a256999-3301-4c6a-aeff-c2e2ceb75c3c');\n",
              "        const dataTable =\n",
              "          await google.colab.kernel.invokeFunction('convertToInteractive',\n",
              "                                                    [key], {});\n",
              "        if (!dataTable) return;\n",
              "\n",
              "        const docLinkHtml = 'Like what you see? Visit the ' +\n",
              "          '<a target=\"_blank\" href=https://colab.research.google.com/notebooks/data_table.ipynb>data table notebook</a>'\n",
              "          + ' to learn more about interactive tables.';\n",
              "        element.innerHTML = '';\n",
              "        dataTable['output_type'] = 'display_data';\n",
              "        await google.colab.output.renderOutput(dataTable, element);\n",
              "        const docLink = document.createElement('div');\n",
              "        docLink.innerHTML = docLinkHtml;\n",
              "        element.appendChild(docLink);\n",
              "      }\n",
              "    </script>\n",
              "  </div>\n",
              "\n",
              "\n",
              "<div id=\"df-0d6cac95-c933-46a7-826c-459cfddeab42\">\n",
              "  <button class=\"colab-df-quickchart\" onclick=\"quickchart('df-0d6cac95-c933-46a7-826c-459cfddeab42')\"\n",
              "            title=\"Suggest charts\"\n",
              "            style=\"display:none;\">\n",
              "\n",
              "<svg xmlns=\"http://www.w3.org/2000/svg\" height=\"24px\"viewBox=\"0 0 24 24\"\n",
              "     width=\"24px\">\n",
              "    <g>\n",
              "        <path d=\"M19 3H5c-1.1 0-2 .9-2 2v14c0 1.1.9 2 2 2h14c1.1 0 2-.9 2-2V5c0-1.1-.9-2-2-2zM9 17H7v-7h2v7zm4 0h-2V7h2v10zm4 0h-2v-4h2v4z\"/>\n",
              "    </g>\n",
              "</svg>\n",
              "  </button>\n",
              "\n",
              "<style>\n",
              "  .colab-df-quickchart {\n",
              "      --bg-color: #E8F0FE;\n",
              "      --fill-color: #1967D2;\n",
              "      --hover-bg-color: #E2EBFA;\n",
              "      --hover-fill-color: #174EA6;\n",
              "      --disabled-fill-color: #AAA;\n",
              "      --disabled-bg-color: #DDD;\n",
              "  }\n",
              "\n",
              "  [theme=dark] .colab-df-quickchart {\n",
              "      --bg-color: #3B4455;\n",
              "      --fill-color: #D2E3FC;\n",
              "      --hover-bg-color: #434B5C;\n",
              "      --hover-fill-color: #FFFFFF;\n",
              "      --disabled-bg-color: #3B4455;\n",
              "      --disabled-fill-color: #666;\n",
              "  }\n",
              "\n",
              "  .colab-df-quickchart {\n",
              "    background-color: var(--bg-color);\n",
              "    border: none;\n",
              "    border-radius: 50%;\n",
              "    cursor: pointer;\n",
              "    display: none;\n",
              "    fill: var(--fill-color);\n",
              "    height: 32px;\n",
              "    padding: 0;\n",
              "    width: 32px;\n",
              "  }\n",
              "\n",
              "  .colab-df-quickchart:hover {\n",
              "    background-color: var(--hover-bg-color);\n",
              "    box-shadow: 0 1px 2px rgba(60, 64, 67, 0.3), 0 1px 3px 1px rgba(60, 64, 67, 0.15);\n",
              "    fill: var(--button-hover-fill-color);\n",
              "  }\n",
              "\n",
              "  .colab-df-quickchart-complete:disabled,\n",
              "  .colab-df-quickchart-complete:disabled:hover {\n",
              "    background-color: var(--disabled-bg-color);\n",
              "    fill: var(--disabled-fill-color);\n",
              "    box-shadow: none;\n",
              "  }\n",
              "\n",
              "  .colab-df-spinner {\n",
              "    border: 2px solid var(--fill-color);\n",
              "    border-color: transparent;\n",
              "    border-bottom-color: var(--fill-color);\n",
              "    animation:\n",
              "      spin 1s steps(1) infinite;\n",
              "  }\n",
              "\n",
              "  @keyframes spin {\n",
              "    0% {\n",
              "      border-color: transparent;\n",
              "      border-bottom-color: var(--fill-color);\n",
              "      border-left-color: var(--fill-color);\n",
              "    }\n",
              "    20% {\n",
              "      border-color: transparent;\n",
              "      border-left-color: var(--fill-color);\n",
              "      border-top-color: var(--fill-color);\n",
              "    }\n",
              "    30% {\n",
              "      border-color: transparent;\n",
              "      border-left-color: var(--fill-color);\n",
              "      border-top-color: var(--fill-color);\n",
              "      border-right-color: var(--fill-color);\n",
              "    }\n",
              "    40% {\n",
              "      border-color: transparent;\n",
              "      border-right-color: var(--fill-color);\n",
              "      border-top-color: var(--fill-color);\n",
              "    }\n",
              "    60% {\n",
              "      border-color: transparent;\n",
              "      border-right-color: var(--fill-color);\n",
              "    }\n",
              "    80% {\n",
              "      border-color: transparent;\n",
              "      border-right-color: var(--fill-color);\n",
              "      border-bottom-color: var(--fill-color);\n",
              "    }\n",
              "    90% {\n",
              "      border-color: transparent;\n",
              "      border-bottom-color: var(--fill-color);\n",
              "    }\n",
              "  }\n",
              "</style>\n",
              "\n",
              "  <script>\n",
              "    async function quickchart(key) {\n",
              "      const quickchartButtonEl =\n",
              "        document.querySelector('#' + key + ' button');\n",
              "      quickchartButtonEl.disabled = true;  // To prevent multiple clicks.\n",
              "      quickchartButtonEl.classList.add('colab-df-spinner');\n",
              "      try {\n",
              "        const charts = await google.colab.kernel.invokeFunction(\n",
              "            'suggestCharts', [key], {});\n",
              "      } catch (error) {\n",
              "        console.error('Error during call to suggestCharts:', error);\n",
              "      }\n",
              "      quickchartButtonEl.classList.remove('colab-df-spinner');\n",
              "      quickchartButtonEl.classList.add('colab-df-quickchart-complete');\n",
              "    }\n",
              "    (() => {\n",
              "      let quickchartButtonEl =\n",
              "        document.querySelector('#df-0d6cac95-c933-46a7-826c-459cfddeab42 button');\n",
              "      quickchartButtonEl.style.display =\n",
              "        google.colab.kernel.accessAllowed ? 'block' : 'none';\n",
              "    })();\n",
              "  </script>\n",
              "</div>\n",
              "\n",
              "    </div>\n",
              "  </div>\n"
            ],
            "application/vnd.google.colaboratory.intrinsic+json": {
              "type": "dataframe",
              "variable_name": "Dataset",
              "summary": "{\n  \"name\": \"Dataset\",\n  \"rows\": 1302,\n  \"fields\": [\n    {\n      \"column\": \"Marca\",\n      \"properties\": {\n        \"dtype\": \"category\",\n        \"num_unique_values\": 19,\n        \"samples\": [\n          \"Apple\",\n          \"Lenovo\",\n          \"Xiaomi\"\n        ],\n        \"semantic_type\": \"\",\n        \"description\": \"\"\n      }\n    },\n    {\n      \"column\": \"Tipo\",\n      \"properties\": {\n        \"dtype\": \"category\",\n        \"num_unique_values\": 6,\n        \"samples\": [\n          \"Ultrabook\",\n          \"Notebook\",\n          \"Workstation\"\n        ],\n        \"semantic_type\": \"\",\n        \"description\": \"\"\n      }\n    },\n    {\n      \"column\": \"Tam_tela\",\n      \"properties\": {\n        \"dtype\": \"number\",\n        \"std\": 1.4260570359454638,\n        \"min\": 10.1,\n        \"max\": 18.4,\n        \"num_unique_values\": 18,\n        \"samples\": [\n          13.3,\n          15.6,\n          13.5\n        ],\n        \"semantic_type\": \"\",\n        \"description\": \"\"\n      }\n    },\n    {\n      \"column\": \"Config_Tela\",\n      \"properties\": {\n        \"dtype\": \"category\",\n        \"num_unique_values\": 40,\n        \"samples\": [\n          \"IPS Panel 4K Ultra HD 3840x2160\",\n          \"4K Ultra HD / Touchscreen 3840x2160\",\n          \"IPS Panel Full HD 2160x1440\"\n        ],\n        \"semantic_type\": \"\",\n        \"description\": \"\"\n      }\n    },\n    {\n      \"column\": \"CPU\",\n      \"properties\": {\n        \"dtype\": \"category\",\n        \"num_unique_values\": 118,\n        \"samples\": [\n          \"Intel Celeron Dual Core 3855U 1.6GHz\",\n          \"AMD A6-Series 7310 2GHz\",\n          \"AMD A9-Series 9420 3GHz\"\n        ],\n        \"semantic_type\": \"\",\n        \"description\": \"\"\n      }\n    },\n    {\n      \"column\": \"Ram\",\n      \"properties\": {\n        \"dtype\": \"number\",\n        \"std\": 5,\n        \"min\": 2,\n        \"max\": 64,\n        \"num_unique_values\": 9,\n        \"samples\": [\n          24,\n          16,\n          6\n        ],\n        \"semantic_type\": \"\",\n        \"description\": \"\"\n      }\n    },\n    {\n      \"column\": \"HD\",\n      \"properties\": {\n        \"dtype\": \"category\",\n        \"num_unique_values\": 39,\n        \"samples\": [\n          \"240GB SSD\",\n          \"1.0TB HDD\",\n          \"256GB Flash Storage\"\n        ],\n        \"semantic_type\": \"\",\n        \"description\": \"\"\n      }\n    },\n    {\n      \"column\": \"Gpu\",\n      \"properties\": {\n        \"dtype\": \"category\",\n        \"num_unique_values\": 110,\n        \"samples\": [\n          \"AMD Radeon R7\",\n          \"AMD Radeon R5 M430\",\n          \"AMD Radeon R5\"\n        ],\n        \"semantic_type\": \"\",\n        \"description\": \"\"\n      }\n    },\n    {\n      \"column\": \"OP_Sys\",\n      \"properties\": {\n        \"dtype\": \"category\",\n        \"num_unique_values\": 9,\n        \"samples\": [\n          \"Chrome OS\",\n          \"No OS\",\n          \"Android\"\n        ],\n        \"semantic_type\": \"\",\n        \"description\": \"\"\n      }\n    },\n    {\n      \"column\": \"Peso\",\n      \"properties\": {\n        \"dtype\": \"number\",\n        \"std\": 0.6654718901357086,\n        \"min\": 0.69,\n        \"max\": 4.7,\n        \"num_unique_values\": 171,\n        \"samples\": [\n          2.6,\n          2.05,\n          1.32\n        ],\n        \"semantic_type\": \"\",\n        \"description\": \"\"\n      }\n    },\n    {\n      \"column\": \"Pre\\u00e7o\",\n      \"properties\": {\n        \"dtype\": \"number\",\n        \"std\": 37256.1450208803,\n        \"min\": 9270.72,\n        \"max\": 324954.72,\n        \"num_unique_values\": 790,\n        \"samples\": [\n          128884.32,\n          79866.72,\n          24988.32\n        ],\n        \"semantic_type\": \"\",\n        \"description\": \"\"\n      }\n    }\n  ]\n}"
            }
          },
          "metadata": {},
          "execution_count": 240
        }
      ],
      "source": [
        "#Realizando a retirada da texto GB da coluna Ram\n",
        "Dataset['Ram'] = Dataset['Ram'].apply(lambda x: re.sub(r'GB', '', x))\n",
        "\n",
        "#Transformando o dado de object para numérico\n",
        "Dataset['Ram'] = Dataset['Ram'].str.replace('GB', '').astype(int)\n",
        "\n",
        "#Exibindo as 5 primeiras linhas do dataset\n",
        "Dataset.head()"
      ]
    },
    {
      "cell_type": "markdown",
      "metadata": {
        "id": "15IbpuN0BbUo"
      },
      "source": [
        "##4.2 Ordinal Encoder"
      ]
    },
    {
      "cell_type": "markdown",
      "metadata": {
        "id": "Z17Q-7EcEnmI"
      },
      "source": [
        "Abaixo foram realizadas a transformação dos dados categóricos em dados numéricos utilizando o Ordinal Encoder tendo em vista que há uma ordem do melhor desempenho para o pior nos dados dos atributos abaixo e a não utilização desse tipo de encoder poderia dificultar o modelo a realizar as análises de forma eficaz."
      ]
    },
    {
      "cell_type": "code",
      "execution_count": 241,
      "metadata": {
        "id": "z477U4rJqjaK"
      },
      "outputs": [],
      "source": [
        "#Colocando os valores da coluna HD em ordem do pior\n",
        "Dataset_Encoded = pd.DataFrame(Dataset)\n",
        "HD_ordem = ['8GB SSD',\n",
        "            '16GB Flash Storage',\n",
        "            '16GB SSD',\n",
        "            '32GB HDD',\n",
        "            '32GB Flash Storage',\n",
        "            '32GB SSD',\n",
        "            '64GB Flash Storage',\n",
        "            '64GB SSD',\n",
        "            '128GB HDD',\n",
        "            '128GB Flash Storage',\n",
        "            '128GB SSD',\n",
        "            '180GB SSD',\n",
        "            '256GB SSD +  256GB SSD',\n",
        "            '256GB Flash Storage',\n",
        "            '240GB SSD',\n",
        "            '256GB SSD',\n",
        "            '500GB HDD',\n",
        "            '512GB Flash Storage',\n",
        "            '508GB Hybrid',\n",
        "            '512GB SSD',\n",
        "            '128GB SSD +  1TB HDD',\n",
        "            '1.0TB HDD',\n",
        "            '1TB HDD',\n",
        "            '256GB SSD +  1TB HDD',\n",
        "            '2TB HDD',\n",
        "            '256GB SSD +  2TB HDD',\n",
        "            '512GB SSD +  256GB SSD',\n",
        "            '64GB Flash Storage +  1TB HDD',\n",
        "            '256GB SSD +  500GB HDD',\n",
        "            '128GB SSD +  2TB HDD',\n",
        "            '512GB SSD +  512GB SSD',\n",
        "            '1TB HDD +  1TB HDD',\n",
        "            '1.0TB Hybrid',\n",
        "            '1TB SSD',\n",
        "            '512GB SSD +  1TB HDD',\n",
        "            '256GB SSD +  1.0TB Hybrid',\n",
        "            '512GB SSD +  1.0TB Hybrid',\n",
        "            '512GB SSD +  2TB HDD',\n",
        "            '1TB SSD +  1TB HDD',\n",
        "]\n",
        "\n",
        "enc=OrdinalEncoder(categories = [HD_ordem])\n",
        "\n",
        "\n",
        "Dataset_Encoded[\"HD\"] = enc.fit_transform(Dataset_Encoded[[\"HD\"]])"
      ]
    },
    {
      "cell_type": "code",
      "execution_count": 242,
      "metadata": {
        "id": "cB1Tk2HxOtqG"
      },
      "outputs": [],
      "source": [
        "#Colocando os valores da coluna Config_Tela em ordem\n",
        "Tela_ordem = ['IPS Panel Retina Display 2880x1800',\n",
        "              'IPS Panel Retina Display 2560x1600',\n",
        "              'IPS Panel Retina Display 2304x1440',\n",
        "              'IPS Panel Full HD / Touchscreen 1920x1080',\n",
        "              'IPS Panel Full HD 1920x1080',\n",
        "              'Full HD / Touchscreen 1920x1080',\n",
        "              'Touchscreen / Quad HD+ 3200x1800',\n",
        "              'Quad HD+ / Touchscreen 3200x1800',\n",
        "              'Quad HD+ 3200x1800',\n",
        "              'IPS Panel Quad HD+ / Touchscreen 3200x1800',\n",
        "              'Touchscreen / 4K Ultra HD 3840x2160',\n",
        "              'IPS Panel 4K Ultra HD / Touchscreen 3840x2160',\n",
        "              '4K Ultra HD 3840x2160',\n",
        "              'IPS Panel Full HD 2160x1440',\n",
        "              '4K Ultra HD / Touchscreen 3840x2160',\n",
        "              'IPS Panel 4K Ultra HD 3840x2160',\n",
        "              'IPS Panel Full HD 2560x1440',\n",
        "              'IPS Panel Retina Display 2736x1824',\n",
        "              'Touchscreen 2400x1600',\n",
        "              '2560x1440',\n",
        "              'IPS Panel Quad HD+ 2560x1440',\n",
        "              'IPS Panel Quad HD+ 3200x1800',\n",
        "              'IPS Panel Touchscreen 2560x1440',\n",
        "              'IPS Panel 2560x1440',\n",
        "              'IPS Panel Touchscreen / 4K Ultra HD 3840x2160',\n",
        "              'Touchscreen 2256x1504',\n",
        "              'Touchscreen 2560x1440',\n",
        "              'IPS Panel Touchscreen 2400x1600',\n",
        "              'Touchscreen / Full HD 1920x1080',\n",
        "              'Full HD 1920x1080',\n",
        "              'IPS Panel Full HD 1920x1200',\n",
        "              'IPS Panel Full HD 1366x768',\n",
        "              'IPS Panel Touchscreen 1920x1200',\n",
        "              'IPS Panel 1366x768',\n",
        "              'IPS Panel Touchscreen 1366x768',\n",
        "              'Touchscreen 1366x768',\n",
        "              '1920x1080',\n",
        "              '1600x900',\n",
        "              '1440x900',\n",
        "              '1366x768'\n",
        "\n",
        "\n",
        "]\n",
        "\n",
        "enc=OrdinalEncoder(categories = [Tela_ordem])\n",
        "\n",
        "\n",
        "Dataset_Encoded[\"Config_Tela\"] = enc.fit_transform(Dataset_Encoded[[\"Config_Tela\"]])"
      ]
    },
    {
      "cell_type": "markdown",
      "metadata": {
        "id": "-tUmK3JbFEix"
      },
      "source": [
        "Alguns outros atributos possuiam uma importância ordinal nos seus dados, porém, devido a falta de conhecimento acerca do assunto e a dificuldade de colocá-los em ordem, foi decidido pela utilização do label encoder tendo em vista que uma classificação incorreta da ordem dos dados poderia piorar o desempenho do modelo."
      ]
    },
    {
      "cell_type": "code",
      "execution_count": 243,
      "metadata": {
        "colab": {
          "base_uri": "https://localhost:8080/",
          "height": 516
        },
        "id": "1vxzSbrY3loh",
        "outputId": "f42ae784-a198-419b-ebaf-53ced6548e57"
      },
      "outputs": [
        {
          "output_type": "execute_result",
          "data": {
            "text/plain": [
              "   Tam_tela  Config_Tela                         CPU  Ram    HD  \\\n",
              "1      13.3         38.0        Intel Core i5 1.8GHz    8   9.0   \n",
              "2      15.6         29.0  Intel Core i5 7200U 2.5GHz    8  15.0   \n",
              "3      15.4          0.0        Intel Core i7 2.7GHz   16  19.0   \n",
              "4      13.3          1.0        Intel Core i5 3.1GHz    8  15.0   \n",
              "5      15.6         39.0     AMD A9-Series 9420 3GHz    4  16.0   \n",
              "\n",
              "                            Gpu  Peso        Preço  Marca_Acer  Marca_Apple  \\\n",
              "1        Intel HD Graphics 6000  1.34   47895.5232       False         True   \n",
              "2         Intel HD Graphics 620  1.86   30636.0000       False        False   \n",
              "3            AMD Radeon Pro 455  1.83  135195.3360       False         True   \n",
              "4  Intel Iris Plus Graphics 650  1.37   96095.8080       False         True   \n",
              "5                 AMD Radeon R5  2.10   21312.0000        True        False   \n",
              "\n",
              "   ...  Tipo_Workstation  OP_Sys_Android  OP_Sys_Chrome OS  OP_Sys_Linux  \\\n",
              "1  ...             False           False             False         False   \n",
              "2  ...             False           False             False         False   \n",
              "3  ...             False           False             False         False   \n",
              "4  ...             False           False             False         False   \n",
              "5  ...             False           False             False         False   \n",
              "\n",
              "   OP_Sys_Mac OS X  OP_Sys_No OS  OP_Sys_Windows 10  OP_Sys_Windows 10 S  \\\n",
              "1            False         False              False                False   \n",
              "2            False          True              False                False   \n",
              "3            False         False              False                False   \n",
              "4            False         False              False                False   \n",
              "5            False         False               True                False   \n",
              "\n",
              "   OP_Sys_Windows 7  OP_Sys_macOS  \n",
              "1             False          True  \n",
              "2             False         False  \n",
              "3             False          True  \n",
              "4             False          True  \n",
              "5             False         False  \n",
              "\n",
              "[5 rows x 42 columns]"
            ],
            "text/html": [
              "\n",
              "  <div id=\"df-b31a0a7a-0438-480e-b0e8-0b476c502385\" class=\"colab-df-container\">\n",
              "    <div>\n",
              "<style scoped>\n",
              "    .dataframe tbody tr th:only-of-type {\n",
              "        vertical-align: middle;\n",
              "    }\n",
              "\n",
              "    .dataframe tbody tr th {\n",
              "        vertical-align: top;\n",
              "    }\n",
              "\n",
              "    .dataframe thead th {\n",
              "        text-align: right;\n",
              "    }\n",
              "</style>\n",
              "<table border=\"1\" class=\"dataframe\">\n",
              "  <thead>\n",
              "    <tr style=\"text-align: right;\">\n",
              "      <th></th>\n",
              "      <th>Tam_tela</th>\n",
              "      <th>Config_Tela</th>\n",
              "      <th>CPU</th>\n",
              "      <th>Ram</th>\n",
              "      <th>HD</th>\n",
              "      <th>Gpu</th>\n",
              "      <th>Peso</th>\n",
              "      <th>Preço</th>\n",
              "      <th>Marca_Acer</th>\n",
              "      <th>Marca_Apple</th>\n",
              "      <th>...</th>\n",
              "      <th>Tipo_Workstation</th>\n",
              "      <th>OP_Sys_Android</th>\n",
              "      <th>OP_Sys_Chrome OS</th>\n",
              "      <th>OP_Sys_Linux</th>\n",
              "      <th>OP_Sys_Mac OS X</th>\n",
              "      <th>OP_Sys_No OS</th>\n",
              "      <th>OP_Sys_Windows 10</th>\n",
              "      <th>OP_Sys_Windows 10 S</th>\n",
              "      <th>OP_Sys_Windows 7</th>\n",
              "      <th>OP_Sys_macOS</th>\n",
              "    </tr>\n",
              "  </thead>\n",
              "  <tbody>\n",
              "    <tr>\n",
              "      <th>1</th>\n",
              "      <td>13.3</td>\n",
              "      <td>38.0</td>\n",
              "      <td>Intel Core i5 1.8GHz</td>\n",
              "      <td>8</td>\n",
              "      <td>9.0</td>\n",
              "      <td>Intel HD Graphics 6000</td>\n",
              "      <td>1.34</td>\n",
              "      <td>47895.5232</td>\n",
              "      <td>False</td>\n",
              "      <td>True</td>\n",
              "      <td>...</td>\n",
              "      <td>False</td>\n",
              "      <td>False</td>\n",
              "      <td>False</td>\n",
              "      <td>False</td>\n",
              "      <td>False</td>\n",
              "      <td>False</td>\n",
              "      <td>False</td>\n",
              "      <td>False</td>\n",
              "      <td>False</td>\n",
              "      <td>True</td>\n",
              "    </tr>\n",
              "    <tr>\n",
              "      <th>2</th>\n",
              "      <td>15.6</td>\n",
              "      <td>29.0</td>\n",
              "      <td>Intel Core i5 7200U 2.5GHz</td>\n",
              "      <td>8</td>\n",
              "      <td>15.0</td>\n",
              "      <td>Intel HD Graphics 620</td>\n",
              "      <td>1.86</td>\n",
              "      <td>30636.0000</td>\n",
              "      <td>False</td>\n",
              "      <td>False</td>\n",
              "      <td>...</td>\n",
              "      <td>False</td>\n",
              "      <td>False</td>\n",
              "      <td>False</td>\n",
              "      <td>False</td>\n",
              "      <td>False</td>\n",
              "      <td>True</td>\n",
              "      <td>False</td>\n",
              "      <td>False</td>\n",
              "      <td>False</td>\n",
              "      <td>False</td>\n",
              "    </tr>\n",
              "    <tr>\n",
              "      <th>3</th>\n",
              "      <td>15.4</td>\n",
              "      <td>0.0</td>\n",
              "      <td>Intel Core i7 2.7GHz</td>\n",
              "      <td>16</td>\n",
              "      <td>19.0</td>\n",
              "      <td>AMD Radeon Pro 455</td>\n",
              "      <td>1.83</td>\n",
              "      <td>135195.3360</td>\n",
              "      <td>False</td>\n",
              "      <td>True</td>\n",
              "      <td>...</td>\n",
              "      <td>False</td>\n",
              "      <td>False</td>\n",
              "      <td>False</td>\n",
              "      <td>False</td>\n",
              "      <td>False</td>\n",
              "      <td>False</td>\n",
              "      <td>False</td>\n",
              "      <td>False</td>\n",
              "      <td>False</td>\n",
              "      <td>True</td>\n",
              "    </tr>\n",
              "    <tr>\n",
              "      <th>4</th>\n",
              "      <td>13.3</td>\n",
              "      <td>1.0</td>\n",
              "      <td>Intel Core i5 3.1GHz</td>\n",
              "      <td>8</td>\n",
              "      <td>15.0</td>\n",
              "      <td>Intel Iris Plus Graphics 650</td>\n",
              "      <td>1.37</td>\n",
              "      <td>96095.8080</td>\n",
              "      <td>False</td>\n",
              "      <td>True</td>\n",
              "      <td>...</td>\n",
              "      <td>False</td>\n",
              "      <td>False</td>\n",
              "      <td>False</td>\n",
              "      <td>False</td>\n",
              "      <td>False</td>\n",
              "      <td>False</td>\n",
              "      <td>False</td>\n",
              "      <td>False</td>\n",
              "      <td>False</td>\n",
              "      <td>True</td>\n",
              "    </tr>\n",
              "    <tr>\n",
              "      <th>5</th>\n",
              "      <td>15.6</td>\n",
              "      <td>39.0</td>\n",
              "      <td>AMD A9-Series 9420 3GHz</td>\n",
              "      <td>4</td>\n",
              "      <td>16.0</td>\n",
              "      <td>AMD Radeon R5</td>\n",
              "      <td>2.10</td>\n",
              "      <td>21312.0000</td>\n",
              "      <td>True</td>\n",
              "      <td>False</td>\n",
              "      <td>...</td>\n",
              "      <td>False</td>\n",
              "      <td>False</td>\n",
              "      <td>False</td>\n",
              "      <td>False</td>\n",
              "      <td>False</td>\n",
              "      <td>False</td>\n",
              "      <td>True</td>\n",
              "      <td>False</td>\n",
              "      <td>False</td>\n",
              "      <td>False</td>\n",
              "    </tr>\n",
              "  </tbody>\n",
              "</table>\n",
              "<p>5 rows × 42 columns</p>\n",
              "</div>\n",
              "    <div class=\"colab-df-buttons\">\n",
              "\n",
              "  <div class=\"colab-df-container\">\n",
              "    <button class=\"colab-df-convert\" onclick=\"convertToInteractive('df-b31a0a7a-0438-480e-b0e8-0b476c502385')\"\n",
              "            title=\"Convert this dataframe to an interactive table.\"\n",
              "            style=\"display:none;\">\n",
              "\n",
              "  <svg xmlns=\"http://www.w3.org/2000/svg\" height=\"24px\" viewBox=\"0 -960 960 960\">\n",
              "    <path d=\"M120-120v-720h720v720H120Zm60-500h600v-160H180v160Zm220 220h160v-160H400v160Zm0 220h160v-160H400v160ZM180-400h160v-160H180v160Zm440 0h160v-160H620v160ZM180-180h160v-160H180v160Zm440 0h160v-160H620v160Z\"/>\n",
              "  </svg>\n",
              "    </button>\n",
              "\n",
              "  <style>\n",
              "    .colab-df-container {\n",
              "      display:flex;\n",
              "      gap: 12px;\n",
              "    }\n",
              "\n",
              "    .colab-df-convert {\n",
              "      background-color: #E8F0FE;\n",
              "      border: none;\n",
              "      border-radius: 50%;\n",
              "      cursor: pointer;\n",
              "      display: none;\n",
              "      fill: #1967D2;\n",
              "      height: 32px;\n",
              "      padding: 0 0 0 0;\n",
              "      width: 32px;\n",
              "    }\n",
              "\n",
              "    .colab-df-convert:hover {\n",
              "      background-color: #E2EBFA;\n",
              "      box-shadow: 0px 1px 2px rgba(60, 64, 67, 0.3), 0px 1px 3px 1px rgba(60, 64, 67, 0.15);\n",
              "      fill: #174EA6;\n",
              "    }\n",
              "\n",
              "    .colab-df-buttons div {\n",
              "      margin-bottom: 4px;\n",
              "    }\n",
              "\n",
              "    [theme=dark] .colab-df-convert {\n",
              "      background-color: #3B4455;\n",
              "      fill: #D2E3FC;\n",
              "    }\n",
              "\n",
              "    [theme=dark] .colab-df-convert:hover {\n",
              "      background-color: #434B5C;\n",
              "      box-shadow: 0px 1px 3px 1px rgba(0, 0, 0, 0.15);\n",
              "      filter: drop-shadow(0px 1px 2px rgba(0, 0, 0, 0.3));\n",
              "      fill: #FFFFFF;\n",
              "    }\n",
              "  </style>\n",
              "\n",
              "    <script>\n",
              "      const buttonEl =\n",
              "        document.querySelector('#df-b31a0a7a-0438-480e-b0e8-0b476c502385 button.colab-df-convert');\n",
              "      buttonEl.style.display =\n",
              "        google.colab.kernel.accessAllowed ? 'block' : 'none';\n",
              "\n",
              "      async function convertToInteractive(key) {\n",
              "        const element = document.querySelector('#df-b31a0a7a-0438-480e-b0e8-0b476c502385');\n",
              "        const dataTable =\n",
              "          await google.colab.kernel.invokeFunction('convertToInteractive',\n",
              "                                                    [key], {});\n",
              "        if (!dataTable) return;\n",
              "\n",
              "        const docLinkHtml = 'Like what you see? Visit the ' +\n",
              "          '<a target=\"_blank\" href=https://colab.research.google.com/notebooks/data_table.ipynb>data table notebook</a>'\n",
              "          + ' to learn more about interactive tables.';\n",
              "        element.innerHTML = '';\n",
              "        dataTable['output_type'] = 'display_data';\n",
              "        await google.colab.output.renderOutput(dataTable, element);\n",
              "        const docLink = document.createElement('div');\n",
              "        docLink.innerHTML = docLinkHtml;\n",
              "        element.appendChild(docLink);\n",
              "      }\n",
              "    </script>\n",
              "  </div>\n",
              "\n",
              "\n",
              "<div id=\"df-88984af8-3de3-4b43-bd1c-58b3453bd947\">\n",
              "  <button class=\"colab-df-quickchart\" onclick=\"quickchart('df-88984af8-3de3-4b43-bd1c-58b3453bd947')\"\n",
              "            title=\"Suggest charts\"\n",
              "            style=\"display:none;\">\n",
              "\n",
              "<svg xmlns=\"http://www.w3.org/2000/svg\" height=\"24px\"viewBox=\"0 0 24 24\"\n",
              "     width=\"24px\">\n",
              "    <g>\n",
              "        <path d=\"M19 3H5c-1.1 0-2 .9-2 2v14c0 1.1.9 2 2 2h14c1.1 0 2-.9 2-2V5c0-1.1-.9-2-2-2zM9 17H7v-7h2v7zm4 0h-2V7h2v10zm4 0h-2v-4h2v4z\"/>\n",
              "    </g>\n",
              "</svg>\n",
              "  </button>\n",
              "\n",
              "<style>\n",
              "  .colab-df-quickchart {\n",
              "      --bg-color: #E8F0FE;\n",
              "      --fill-color: #1967D2;\n",
              "      --hover-bg-color: #E2EBFA;\n",
              "      --hover-fill-color: #174EA6;\n",
              "      --disabled-fill-color: #AAA;\n",
              "      --disabled-bg-color: #DDD;\n",
              "  }\n",
              "\n",
              "  [theme=dark] .colab-df-quickchart {\n",
              "      --bg-color: #3B4455;\n",
              "      --fill-color: #D2E3FC;\n",
              "      --hover-bg-color: #434B5C;\n",
              "      --hover-fill-color: #FFFFFF;\n",
              "      --disabled-bg-color: #3B4455;\n",
              "      --disabled-fill-color: #666;\n",
              "  }\n",
              "\n",
              "  .colab-df-quickchart {\n",
              "    background-color: var(--bg-color);\n",
              "    border: none;\n",
              "    border-radius: 50%;\n",
              "    cursor: pointer;\n",
              "    display: none;\n",
              "    fill: var(--fill-color);\n",
              "    height: 32px;\n",
              "    padding: 0;\n",
              "    width: 32px;\n",
              "  }\n",
              "\n",
              "  .colab-df-quickchart:hover {\n",
              "    background-color: var(--hover-bg-color);\n",
              "    box-shadow: 0 1px 2px rgba(60, 64, 67, 0.3), 0 1px 3px 1px rgba(60, 64, 67, 0.15);\n",
              "    fill: var(--button-hover-fill-color);\n",
              "  }\n",
              "\n",
              "  .colab-df-quickchart-complete:disabled,\n",
              "  .colab-df-quickchart-complete:disabled:hover {\n",
              "    background-color: var(--disabled-bg-color);\n",
              "    fill: var(--disabled-fill-color);\n",
              "    box-shadow: none;\n",
              "  }\n",
              "\n",
              "  .colab-df-spinner {\n",
              "    border: 2px solid var(--fill-color);\n",
              "    border-color: transparent;\n",
              "    border-bottom-color: var(--fill-color);\n",
              "    animation:\n",
              "      spin 1s steps(1) infinite;\n",
              "  }\n",
              "\n",
              "  @keyframes spin {\n",
              "    0% {\n",
              "      border-color: transparent;\n",
              "      border-bottom-color: var(--fill-color);\n",
              "      border-left-color: var(--fill-color);\n",
              "    }\n",
              "    20% {\n",
              "      border-color: transparent;\n",
              "      border-left-color: var(--fill-color);\n",
              "      border-top-color: var(--fill-color);\n",
              "    }\n",
              "    30% {\n",
              "      border-color: transparent;\n",
              "      border-left-color: var(--fill-color);\n",
              "      border-top-color: var(--fill-color);\n",
              "      border-right-color: var(--fill-color);\n",
              "    }\n",
              "    40% {\n",
              "      border-color: transparent;\n",
              "      border-right-color: var(--fill-color);\n",
              "      border-top-color: var(--fill-color);\n",
              "    }\n",
              "    60% {\n",
              "      border-color: transparent;\n",
              "      border-right-color: var(--fill-color);\n",
              "    }\n",
              "    80% {\n",
              "      border-color: transparent;\n",
              "      border-right-color: var(--fill-color);\n",
              "      border-bottom-color: var(--fill-color);\n",
              "    }\n",
              "    90% {\n",
              "      border-color: transparent;\n",
              "      border-bottom-color: var(--fill-color);\n",
              "    }\n",
              "  }\n",
              "</style>\n",
              "\n",
              "  <script>\n",
              "    async function quickchart(key) {\n",
              "      const quickchartButtonEl =\n",
              "        document.querySelector('#' + key + ' button');\n",
              "      quickchartButtonEl.disabled = true;  // To prevent multiple clicks.\n",
              "      quickchartButtonEl.classList.add('colab-df-spinner');\n",
              "      try {\n",
              "        const charts = await google.colab.kernel.invokeFunction(\n",
              "            'suggestCharts', [key], {});\n",
              "      } catch (error) {\n",
              "        console.error('Error during call to suggestCharts:', error);\n",
              "      }\n",
              "      quickchartButtonEl.classList.remove('colab-df-spinner');\n",
              "      quickchartButtonEl.classList.add('colab-df-quickchart-complete');\n",
              "    }\n",
              "    (() => {\n",
              "      let quickchartButtonEl =\n",
              "        document.querySelector('#df-88984af8-3de3-4b43-bd1c-58b3453bd947 button');\n",
              "      quickchartButtonEl.style.display =\n",
              "        google.colab.kernel.accessAllowed ? 'block' : 'none';\n",
              "    })();\n",
              "  </script>\n",
              "</div>\n",
              "\n",
              "    </div>\n",
              "  </div>\n"
            ],
            "application/vnd.google.colaboratory.intrinsic+json": {
              "type": "dataframe",
              "variable_name": "Dataset_Encoded"
            }
          },
          "metadata": {},
          "execution_count": 243
        }
      ],
      "source": [
        "# Aplicando o Dummy Encoding nas colunas Marca, Tipo e Op_Sys\n",
        "Dataset_Encoded = pd.get_dummies(Dataset_Encoded, columns=[\"Marca\", \"Tipo\", \"OP_Sys\"])\n",
        "\n",
        "#Exibindo as 5 primeiras linhas do dataset\n",
        "Dataset_Encoded.head()"
      ]
    },
    {
      "cell_type": "markdown",
      "metadata": {
        "id": "fj4t5yfFd62G"
      },
      "source": [
        "##4.2 Label Encoder"
      ]
    },
    {
      "cell_type": "markdown",
      "metadata": {
        "id": "xoTbc8k8Fhrr"
      },
      "source": [
        "Abaixo foi realizada a transformação dos dados categóricos em dados numericos por intermédio do label encoder. Alguns dados talvez pudessem ocasionar em um ganho de desempenho de modelo se fosse utilizado o método de One Hot Encoder ou Dummy Encoder, entretanto, optou-se por não realizar esses métodos devido ao aumento da dimensionalidade que causaria em função da grande quantidade de valores unicos nos atributos."
      ]
    },
    {
      "cell_type": "code",
      "execution_count": 244,
      "metadata": {
        "colab": {
          "base_uri": "https://localhost:8080/",
          "height": 273
        },
        "id": "ZeVnPTM8ffyX",
        "outputId": "df3f72c2-4319-4490-88ea-51e875498cd3"
      },
      "outputs": [
        {
          "output_type": "execute_result",
          "data": {
            "text/plain": [
              "   Tam_tela  Config_Tela  CPU  Ram    HD  Gpu  Peso        Preço  Marca_Acer  \\\n",
              "1      13.3         38.0   63    8   9.0   51  1.34   47895.5232       False   \n",
              "2      15.6         29.0   74    8  15.0   53  1.86   30636.0000       False   \n",
              "3      15.4          0.0   85   16  19.0    9  1.83  135195.3360       False   \n",
              "4      13.3          1.0   67    8  15.0   59  1.37   96095.8080       False   \n",
              "5      15.6         39.0   14    4  16.0   17  2.10   21312.0000        True   \n",
              "\n",
              "   Marca_Apple  ...  Tipo_Workstation  OP_Sys_Android  OP_Sys_Chrome OS  \\\n",
              "1         True  ...             False           False             False   \n",
              "2        False  ...             False           False             False   \n",
              "3         True  ...             False           False             False   \n",
              "4         True  ...             False           False             False   \n",
              "5        False  ...             False           False             False   \n",
              "\n",
              "   OP_Sys_Linux  OP_Sys_Mac OS X  OP_Sys_No OS  OP_Sys_Windows 10  \\\n",
              "1         False            False         False              False   \n",
              "2         False            False          True              False   \n",
              "3         False            False         False              False   \n",
              "4         False            False         False              False   \n",
              "5         False            False         False               True   \n",
              "\n",
              "   OP_Sys_Windows 10 S  OP_Sys_Windows 7  OP_Sys_macOS  \n",
              "1                False             False          True  \n",
              "2                False             False         False  \n",
              "3                False             False          True  \n",
              "4                False             False          True  \n",
              "5                False             False         False  \n",
              "\n",
              "[5 rows x 42 columns]"
            ],
            "text/html": [
              "\n",
              "  <div id=\"df-003211b9-2878-4d96-ad54-44152a331f27\" class=\"colab-df-container\">\n",
              "    <div>\n",
              "<style scoped>\n",
              "    .dataframe tbody tr th:only-of-type {\n",
              "        vertical-align: middle;\n",
              "    }\n",
              "\n",
              "    .dataframe tbody tr th {\n",
              "        vertical-align: top;\n",
              "    }\n",
              "\n",
              "    .dataframe thead th {\n",
              "        text-align: right;\n",
              "    }\n",
              "</style>\n",
              "<table border=\"1\" class=\"dataframe\">\n",
              "  <thead>\n",
              "    <tr style=\"text-align: right;\">\n",
              "      <th></th>\n",
              "      <th>Tam_tela</th>\n",
              "      <th>Config_Tela</th>\n",
              "      <th>CPU</th>\n",
              "      <th>Ram</th>\n",
              "      <th>HD</th>\n",
              "      <th>Gpu</th>\n",
              "      <th>Peso</th>\n",
              "      <th>Preço</th>\n",
              "      <th>Marca_Acer</th>\n",
              "      <th>Marca_Apple</th>\n",
              "      <th>...</th>\n",
              "      <th>Tipo_Workstation</th>\n",
              "      <th>OP_Sys_Android</th>\n",
              "      <th>OP_Sys_Chrome OS</th>\n",
              "      <th>OP_Sys_Linux</th>\n",
              "      <th>OP_Sys_Mac OS X</th>\n",
              "      <th>OP_Sys_No OS</th>\n",
              "      <th>OP_Sys_Windows 10</th>\n",
              "      <th>OP_Sys_Windows 10 S</th>\n",
              "      <th>OP_Sys_Windows 7</th>\n",
              "      <th>OP_Sys_macOS</th>\n",
              "    </tr>\n",
              "  </thead>\n",
              "  <tbody>\n",
              "    <tr>\n",
              "      <th>1</th>\n",
              "      <td>13.3</td>\n",
              "      <td>38.0</td>\n",
              "      <td>63</td>\n",
              "      <td>8</td>\n",
              "      <td>9.0</td>\n",
              "      <td>51</td>\n",
              "      <td>1.34</td>\n",
              "      <td>47895.5232</td>\n",
              "      <td>False</td>\n",
              "      <td>True</td>\n",
              "      <td>...</td>\n",
              "      <td>False</td>\n",
              "      <td>False</td>\n",
              "      <td>False</td>\n",
              "      <td>False</td>\n",
              "      <td>False</td>\n",
              "      <td>False</td>\n",
              "      <td>False</td>\n",
              "      <td>False</td>\n",
              "      <td>False</td>\n",
              "      <td>True</td>\n",
              "    </tr>\n",
              "    <tr>\n",
              "      <th>2</th>\n",
              "      <td>15.6</td>\n",
              "      <td>29.0</td>\n",
              "      <td>74</td>\n",
              "      <td>8</td>\n",
              "      <td>15.0</td>\n",
              "      <td>53</td>\n",
              "      <td>1.86</td>\n",
              "      <td>30636.0000</td>\n",
              "      <td>False</td>\n",
              "      <td>False</td>\n",
              "      <td>...</td>\n",
              "      <td>False</td>\n",
              "      <td>False</td>\n",
              "      <td>False</td>\n",
              "      <td>False</td>\n",
              "      <td>False</td>\n",
              "      <td>True</td>\n",
              "      <td>False</td>\n",
              "      <td>False</td>\n",
              "      <td>False</td>\n",
              "      <td>False</td>\n",
              "    </tr>\n",
              "    <tr>\n",
              "      <th>3</th>\n",
              "      <td>15.4</td>\n",
              "      <td>0.0</td>\n",
              "      <td>85</td>\n",
              "      <td>16</td>\n",
              "      <td>19.0</td>\n",
              "      <td>9</td>\n",
              "      <td>1.83</td>\n",
              "      <td>135195.3360</td>\n",
              "      <td>False</td>\n",
              "      <td>True</td>\n",
              "      <td>...</td>\n",
              "      <td>False</td>\n",
              "      <td>False</td>\n",
              "      <td>False</td>\n",
              "      <td>False</td>\n",
              "      <td>False</td>\n",
              "      <td>False</td>\n",
              "      <td>False</td>\n",
              "      <td>False</td>\n",
              "      <td>False</td>\n",
              "      <td>True</td>\n",
              "    </tr>\n",
              "    <tr>\n",
              "      <th>4</th>\n",
              "      <td>13.3</td>\n",
              "      <td>1.0</td>\n",
              "      <td>67</td>\n",
              "      <td>8</td>\n",
              "      <td>15.0</td>\n",
              "      <td>59</td>\n",
              "      <td>1.37</td>\n",
              "      <td>96095.8080</td>\n",
              "      <td>False</td>\n",
              "      <td>True</td>\n",
              "      <td>...</td>\n",
              "      <td>False</td>\n",
              "      <td>False</td>\n",
              "      <td>False</td>\n",
              "      <td>False</td>\n",
              "      <td>False</td>\n",
              "      <td>False</td>\n",
              "      <td>False</td>\n",
              "      <td>False</td>\n",
              "      <td>False</td>\n",
              "      <td>True</td>\n",
              "    </tr>\n",
              "    <tr>\n",
              "      <th>5</th>\n",
              "      <td>15.6</td>\n",
              "      <td>39.0</td>\n",
              "      <td>14</td>\n",
              "      <td>4</td>\n",
              "      <td>16.0</td>\n",
              "      <td>17</td>\n",
              "      <td>2.10</td>\n",
              "      <td>21312.0000</td>\n",
              "      <td>True</td>\n",
              "      <td>False</td>\n",
              "      <td>...</td>\n",
              "      <td>False</td>\n",
              "      <td>False</td>\n",
              "      <td>False</td>\n",
              "      <td>False</td>\n",
              "      <td>False</td>\n",
              "      <td>False</td>\n",
              "      <td>True</td>\n",
              "      <td>False</td>\n",
              "      <td>False</td>\n",
              "      <td>False</td>\n",
              "    </tr>\n",
              "  </tbody>\n",
              "</table>\n",
              "<p>5 rows × 42 columns</p>\n",
              "</div>\n",
              "    <div class=\"colab-df-buttons\">\n",
              "\n",
              "  <div class=\"colab-df-container\">\n",
              "    <button class=\"colab-df-convert\" onclick=\"convertToInteractive('df-003211b9-2878-4d96-ad54-44152a331f27')\"\n",
              "            title=\"Convert this dataframe to an interactive table.\"\n",
              "            style=\"display:none;\">\n",
              "\n",
              "  <svg xmlns=\"http://www.w3.org/2000/svg\" height=\"24px\" viewBox=\"0 -960 960 960\">\n",
              "    <path d=\"M120-120v-720h720v720H120Zm60-500h600v-160H180v160Zm220 220h160v-160H400v160Zm0 220h160v-160H400v160ZM180-400h160v-160H180v160Zm440 0h160v-160H620v160ZM180-180h160v-160H180v160Zm440 0h160v-160H620v160Z\"/>\n",
              "  </svg>\n",
              "    </button>\n",
              "\n",
              "  <style>\n",
              "    .colab-df-container {\n",
              "      display:flex;\n",
              "      gap: 12px;\n",
              "    }\n",
              "\n",
              "    .colab-df-convert {\n",
              "      background-color: #E8F0FE;\n",
              "      border: none;\n",
              "      border-radius: 50%;\n",
              "      cursor: pointer;\n",
              "      display: none;\n",
              "      fill: #1967D2;\n",
              "      height: 32px;\n",
              "      padding: 0 0 0 0;\n",
              "      width: 32px;\n",
              "    }\n",
              "\n",
              "    .colab-df-convert:hover {\n",
              "      background-color: #E2EBFA;\n",
              "      box-shadow: 0px 1px 2px rgba(60, 64, 67, 0.3), 0px 1px 3px 1px rgba(60, 64, 67, 0.15);\n",
              "      fill: #174EA6;\n",
              "    }\n",
              "\n",
              "    .colab-df-buttons div {\n",
              "      margin-bottom: 4px;\n",
              "    }\n",
              "\n",
              "    [theme=dark] .colab-df-convert {\n",
              "      background-color: #3B4455;\n",
              "      fill: #D2E3FC;\n",
              "    }\n",
              "\n",
              "    [theme=dark] .colab-df-convert:hover {\n",
              "      background-color: #434B5C;\n",
              "      box-shadow: 0px 1px 3px 1px rgba(0, 0, 0, 0.15);\n",
              "      filter: drop-shadow(0px 1px 2px rgba(0, 0, 0, 0.3));\n",
              "      fill: #FFFFFF;\n",
              "    }\n",
              "  </style>\n",
              "\n",
              "    <script>\n",
              "      const buttonEl =\n",
              "        document.querySelector('#df-003211b9-2878-4d96-ad54-44152a331f27 button.colab-df-convert');\n",
              "      buttonEl.style.display =\n",
              "        google.colab.kernel.accessAllowed ? 'block' : 'none';\n",
              "\n",
              "      async function convertToInteractive(key) {\n",
              "        const element = document.querySelector('#df-003211b9-2878-4d96-ad54-44152a331f27');\n",
              "        const dataTable =\n",
              "          await google.colab.kernel.invokeFunction('convertToInteractive',\n",
              "                                                    [key], {});\n",
              "        if (!dataTable) return;\n",
              "\n",
              "        const docLinkHtml = 'Like what you see? Visit the ' +\n",
              "          '<a target=\"_blank\" href=https://colab.research.google.com/notebooks/data_table.ipynb>data table notebook</a>'\n",
              "          + ' to learn more about interactive tables.';\n",
              "        element.innerHTML = '';\n",
              "        dataTable['output_type'] = 'display_data';\n",
              "        await google.colab.output.renderOutput(dataTable, element);\n",
              "        const docLink = document.createElement('div');\n",
              "        docLink.innerHTML = docLinkHtml;\n",
              "        element.appendChild(docLink);\n",
              "      }\n",
              "    </script>\n",
              "  </div>\n",
              "\n",
              "\n",
              "<div id=\"df-6d4a58e9-7484-43e2-9fa2-eb28439d05a9\">\n",
              "  <button class=\"colab-df-quickchart\" onclick=\"quickchart('df-6d4a58e9-7484-43e2-9fa2-eb28439d05a9')\"\n",
              "            title=\"Suggest charts\"\n",
              "            style=\"display:none;\">\n",
              "\n",
              "<svg xmlns=\"http://www.w3.org/2000/svg\" height=\"24px\"viewBox=\"0 0 24 24\"\n",
              "     width=\"24px\">\n",
              "    <g>\n",
              "        <path d=\"M19 3H5c-1.1 0-2 .9-2 2v14c0 1.1.9 2 2 2h14c1.1 0 2-.9 2-2V5c0-1.1-.9-2-2-2zM9 17H7v-7h2v7zm4 0h-2V7h2v10zm4 0h-2v-4h2v4z\"/>\n",
              "    </g>\n",
              "</svg>\n",
              "  </button>\n",
              "\n",
              "<style>\n",
              "  .colab-df-quickchart {\n",
              "      --bg-color: #E8F0FE;\n",
              "      --fill-color: #1967D2;\n",
              "      --hover-bg-color: #E2EBFA;\n",
              "      --hover-fill-color: #174EA6;\n",
              "      --disabled-fill-color: #AAA;\n",
              "      --disabled-bg-color: #DDD;\n",
              "  }\n",
              "\n",
              "  [theme=dark] .colab-df-quickchart {\n",
              "      --bg-color: #3B4455;\n",
              "      --fill-color: #D2E3FC;\n",
              "      --hover-bg-color: #434B5C;\n",
              "      --hover-fill-color: #FFFFFF;\n",
              "      --disabled-bg-color: #3B4455;\n",
              "      --disabled-fill-color: #666;\n",
              "  }\n",
              "\n",
              "  .colab-df-quickchart {\n",
              "    background-color: var(--bg-color);\n",
              "    border: none;\n",
              "    border-radius: 50%;\n",
              "    cursor: pointer;\n",
              "    display: none;\n",
              "    fill: var(--fill-color);\n",
              "    height: 32px;\n",
              "    padding: 0;\n",
              "    width: 32px;\n",
              "  }\n",
              "\n",
              "  .colab-df-quickchart:hover {\n",
              "    background-color: var(--hover-bg-color);\n",
              "    box-shadow: 0 1px 2px rgba(60, 64, 67, 0.3), 0 1px 3px 1px rgba(60, 64, 67, 0.15);\n",
              "    fill: var(--button-hover-fill-color);\n",
              "  }\n",
              "\n",
              "  .colab-df-quickchart-complete:disabled,\n",
              "  .colab-df-quickchart-complete:disabled:hover {\n",
              "    background-color: var(--disabled-bg-color);\n",
              "    fill: var(--disabled-fill-color);\n",
              "    box-shadow: none;\n",
              "  }\n",
              "\n",
              "  .colab-df-spinner {\n",
              "    border: 2px solid var(--fill-color);\n",
              "    border-color: transparent;\n",
              "    border-bottom-color: var(--fill-color);\n",
              "    animation:\n",
              "      spin 1s steps(1) infinite;\n",
              "  }\n",
              "\n",
              "  @keyframes spin {\n",
              "    0% {\n",
              "      border-color: transparent;\n",
              "      border-bottom-color: var(--fill-color);\n",
              "      border-left-color: var(--fill-color);\n",
              "    }\n",
              "    20% {\n",
              "      border-color: transparent;\n",
              "      border-left-color: var(--fill-color);\n",
              "      border-top-color: var(--fill-color);\n",
              "    }\n",
              "    30% {\n",
              "      border-color: transparent;\n",
              "      border-left-color: var(--fill-color);\n",
              "      border-top-color: var(--fill-color);\n",
              "      border-right-color: var(--fill-color);\n",
              "    }\n",
              "    40% {\n",
              "      border-color: transparent;\n",
              "      border-right-color: var(--fill-color);\n",
              "      border-top-color: var(--fill-color);\n",
              "    }\n",
              "    60% {\n",
              "      border-color: transparent;\n",
              "      border-right-color: var(--fill-color);\n",
              "    }\n",
              "    80% {\n",
              "      border-color: transparent;\n",
              "      border-right-color: var(--fill-color);\n",
              "      border-bottom-color: var(--fill-color);\n",
              "    }\n",
              "    90% {\n",
              "      border-color: transparent;\n",
              "      border-bottom-color: var(--fill-color);\n",
              "    }\n",
              "  }\n",
              "</style>\n",
              "\n",
              "  <script>\n",
              "    async function quickchart(key) {\n",
              "      const quickchartButtonEl =\n",
              "        document.querySelector('#' + key + ' button');\n",
              "      quickchartButtonEl.disabled = true;  // To prevent multiple clicks.\n",
              "      quickchartButtonEl.classList.add('colab-df-spinner');\n",
              "      try {\n",
              "        const charts = await google.colab.kernel.invokeFunction(\n",
              "            'suggestCharts', [key], {});\n",
              "      } catch (error) {\n",
              "        console.error('Error during call to suggestCharts:', error);\n",
              "      }\n",
              "      quickchartButtonEl.classList.remove('colab-df-spinner');\n",
              "      quickchartButtonEl.classList.add('colab-df-quickchart-complete');\n",
              "    }\n",
              "    (() => {\n",
              "      let quickchartButtonEl =\n",
              "        document.querySelector('#df-6d4a58e9-7484-43e2-9fa2-eb28439d05a9 button');\n",
              "      quickchartButtonEl.style.display =\n",
              "        google.colab.kernel.accessAllowed ? 'block' : 'none';\n",
              "    })();\n",
              "  </script>\n",
              "</div>\n",
              "\n",
              "    </div>\n",
              "  </div>\n"
            ],
            "application/vnd.google.colaboratory.intrinsic+json": {
              "type": "dataframe",
              "variable_name": "Dataset_Encoded"
            }
          },
          "metadata": {},
          "execution_count": 244
        }
      ],
      "source": [
        "#Realizando o Label Encoder nas colunas CPU e Gpu,\n",
        "label_encoder = preprocessing.LabelEncoder()\n",
        "\n",
        "Dataset_Encoded[\"CPU\"]= label_encoder.fit_transform(Dataset_Encoded[\"CPU\"])\n",
        "\n",
        "label_encoder = preprocessing.LabelEncoder()\n",
        "\n",
        "Dataset_Encoded[\"Gpu\"]= label_encoder.fit_transform(Dataset_Encoded[\"Gpu\"])\n",
        "\n",
        "#Exibindo as 5 primeiras linhas do dataset\n",
        "Dataset_Encoded.head()"
      ]
    },
    {
      "cell_type": "markdown",
      "metadata": {
        "id": "KBtpOKbGGBcH"
      },
      "source": [
        "Nesta etapa todos os atributos tiveram seus dados transformados em numéricos de forma que fosse possível seguir com o treinamento do modelo, a ser realizado na próxima etapa."
      ]
    },
    {
      "cell_type": "markdown",
      "metadata": {
        "id": "c-yvEZMw2vuB"
      },
      "source": [
        "#5 Preparação dos Dados"
      ]
    },
    {
      "cell_type": "markdown",
      "metadata": {
        "id": "ujf1iTko89Xt"
      },
      "source": [
        "##5.1 Ajuste da variável Target"
      ]
    },
    {
      "cell_type": "markdown",
      "metadata": {
        "id": "VnDzaLp68Pq4"
      },
      "source": [
        "Nesta etapa foi necessário realizar o drop da variavel preço que é o nosso target e reinserí-lo ao final do dataset para facilitar a divisão dos dados."
      ]
    },
    {
      "cell_type": "code",
      "execution_count": 245,
      "metadata": {
        "id": "CNKALDHC6FaF"
      },
      "outputs": [],
      "source": [
        "# Armazenando a coluna \"Preço\"\n",
        "df_preco = Dataset_Encoded['Preço']\n",
        "\n",
        "# Removendo a coluna \"Preço\" do DataFrame\n",
        "Dataset_Encoded.drop(columns=['Preço'], inplace=True)\n",
        "\n",
        "# Adicionando a coluna \"Preço\" de volta como a última coluna\n",
        "Dataset_Encoded['Target'] = df_preco"
      ]
    },
    {
      "cell_type": "markdown",
      "metadata": {
        "id": "UeOkgFYEDdNQ"
      },
      "source": [
        "##5.2 Separação do Modelo em bases de Treino e Teste"
      ]
    },
    {
      "cell_type": "code",
      "execution_count": 246,
      "metadata": {
        "id": "UR7l1WQUgtm_"
      },
      "outputs": [],
      "source": [
        "# Separação em bases de treino e teste (holdout)\n",
        "array = Dataset_Encoded.values\n",
        "X = array[:,0:41]\n",
        "y = array[:,41]\n",
        "\n",
        "X_train, X_test, y_train, y_test = train_test_split(X, y, test_size=0.20, random_state=24) # faz a divisão"
      ]
    },
    {
      "cell_type": "code",
      "execution_count": 247,
      "metadata": {
        "id": "2E-XD6vVg1kB"
      },
      "outputs": [],
      "source": [
        "# Criando os folds para a validação cruzada\n",
        "num_particoes = 10 # número de folds da validação cruzada\n",
        "kfold = KFold(n_splits=num_particoes, shuffle=True, random_state=24) # faz o particionamento em 10 folds"
      ]
    },
    {
      "cell_type": "markdown",
      "metadata": {
        "id": "KEaO8SIhENGB"
      },
      "source": [
        "Neste passo, foi realizado um estudo utilizando a validação cruzada com 3,5, 7 e 10 folds e posteriormente fazendo a análise dos resultados, dos 4 testes executados, o que teve o melhor desempenho foi a divisão de 10 folds, portanto seguiremos com essa divisão nas próximas etapas."
      ]
    },
    {
      "cell_type": "markdown",
      "metadata": {
        "id": "c6IAqbCHDk-t"
      },
      "source": [
        "##5.3 Modelagem inicial"
      ]
    },
    {
      "cell_type": "markdown",
      "metadata": {
        "id": "JZiFYwjSCp_J"
      },
      "source": [
        "A seguir foi realizada a modelagem inicial utilizando os algoritmos de ML: Regressão Linear com regressão de Lasso e Ridge, Kneighbors, árvore de decisão e Support Vector Machine, utilizando a validação cruzada realizada acima."
      ]
    },
    {
      "cell_type": "code",
      "execution_count": 248,
      "metadata": {
        "colab": {
          "base_uri": "https://localhost:8080/",
          "height": 1000
        },
        "id": "dHmAFYiog4-L",
        "outputId": "7baf4020-10fa-484d-bc79-ac90b396f2b3"
      },
      "outputs": [
        {
          "output_type": "stream",
          "name": "stdout",
          "text": [
            "LR: MSE 405714281.89 (104920243.59) - RMSE 20142.35\n",
            "Ridge: MSE 402994324.14 (103479639.50) - RMSE 20074.72\n",
            "Lasso: MSE 405424005.24 (104723959.39) - RMSE 20135.14\n",
            "KMN: MSE 433218400.08 (110543035.17) - RMSE 20813.90\n",
            "Cart: MSE 405247164.40 (96699410.80) - RMSE 20130.75\n",
            "SVM: MSE 1406002945.13 (358066232.95) - RMSE 37496.71\n"
          ]
        },
        {
          "output_type": "display_data",
          "data": {
            "text/plain": [
              "<Figure size 1500x1000 with 1 Axes>"
            ],
            "image/png": "[encoded data removed]"
          },
          "metadata": {}
        }
      ],
      "source": [
        "#Definindo uma seed global para esta célula de código\n",
        "np.random.seed(24)\n",
        "\n",
        "#Listas para armazenar os modelos, os resultados e os nomes dos modelos\n",
        "models = []\n",
        "results = []\n",
        "names = []\n",
        "\n",
        "models.append((\"LR\", LinearRegression(fit_intercept=True)))\n",
        "models.append((\"Ridge\", Ridge()))\n",
        "models.append((\"Lasso\", Lasso()))\n",
        "models.append((\"KMN\", KNeighborsRegressor()))\n",
        "models.append((\"Cart\", DecisionTreeRegressor()))\n",
        "models.append((\"SVM\", SVR ()))\n",
        "\n",
        "#Avaliando um modelo por vez\n",
        "for name, model in models:\n",
        "  cv_results = cross_val_score(model, X_train, y_train, cv=kfold, scoring=\"neg_mean_squared_error\")\n",
        "  results.append(cv_results)\n",
        "  names.append(name)\n",
        "\n",
        "  #Imprime MSE, Desvio Padrão e RMSE dos 10 resultados da validação cruzada\n",
        "  msg = \"%s: MSE %0.2f (%0.2f) - RMSE %0.2f\" % (name, abs(cv_results.mean()), cv_results.std(), np.sqrt(abs(cv_results.mean())))\n",
        "  print (msg)\n",
        "\n",
        "   # BoxPlot de comparação dos modelos\n",
        "fig = plt.figure(figsize=(15, 10))\n",
        "fig.suptitle(\"Comparação do MSE dos modelos\")\n",
        "ax = fig.add_subplot(111)\n",
        "plt.boxplot(results)\n",
        "ax.set_xticklabels(names)\n",
        "plt.show()"
      ]
    },
    {
      "cell_type": "markdown",
      "metadata": {
        "id": "0bn-V6CkUM5R"
      },
      "source": [
        "Após a realização desta modelagem, foi possível verificar que o erro do modelo foi inferior no modelo de Regressão Linear com regularização de Ridge, o que indica um melhor desempenho neste.\n",
        "\n",
        "Posteriormente serão realizadas etapas para melhorar o modelo com a utilização de Ensembles, Feature Selection e Transformação nos dados.\n",
        "Este modelo será avaliado utilizando a base de teste:"
      ]
    },
    {
      "cell_type": "markdown",
      "metadata": {
        "id": "6zrKbNfk22i6"
      },
      "source": [
        "#6 Pré-Processamento de dados"
      ]
    },
    {
      "cell_type": "markdown",
      "metadata": {
        "id": "QNgvuzvFfBuS"
      },
      "source": [
        "##6.1 Feature Selection"
      ]
    },
    {
      "cell_type": "markdown",
      "metadata": {
        "id": "5fIt3Pkumvgg"
      },
      "source": [
        "A seguir será realizada a seleção de recursos integrada com a Regressão Linear com regularização de Ridge para reduzir a dimensionalidade do dataset e tentar obter um melhor desempenho no modelo."
      ]
    },
    {
      "cell_type": "code",
      "execution_count": 249,
      "metadata": {
        "colab": {
          "base_uri": "https://localhost:8080/"
        },
        "id": "kYRvczI9fe1U",
        "outputId": "be814dec-8728-49bf-fa89-ffacc20e0ec2"
      },
      "outputs": [
        {
          "output_type": "stream",
          "name": "stdout",
          "text": [
            "Recursos selecionados:\n",
            "['Tam_tela', 'Config_Tela', 'CPU', 'Ram', 'Gpu', 'Peso', 'Marca_Acer', 'Marca_Razer', 'Tipo_Notebook', 'Tipo_Ultrabook', 'Tipo_Workstation', 'OP_Sys_No OS', 'OP_Sys_Windows 7']\n"
          ]
        }
      ],
      "source": [
        "#inicializando e treinando o modelo de Ridge\n",
        "ridge = RidgeCV(cv=10)\n",
        "ridge.fit(X, y)\n",
        "\n",
        "#Padronizando os dados\n",
        "scaler = StandardScaler()\n",
        "X_train_standardized = scaler.fit_transform(X_train)\n",
        "X_test_standardized = scaler.transform(X_test)\n",
        "\n",
        "#Aplicando a Seleção dos recursos\n",
        "selector = SelectFromModel(ridge)\n",
        "X_train_selecionado_padronizado = selector.fit_transform(X_train_standardized, y_train)\n",
        "X_test_selecionado_padronizado = selector.transform(X_test_standardized)  # Aplicar a mesma seleção aos dados de teste\n",
        "\n",
        "#Obtendo os índices das features selecionadas nos dados padronizados\n",
        "selected_feature_indices = selector.get_support(indices=True)\n",
        "\n",
        "#Obtendo os nomes das features selecionadas\n",
        "selected_feature_names = [Dataset_Encoded.columns[i] for i in selected_feature_indices]\n",
        "\n",
        "print(\"Recursos selecionados:\")\n",
        "print(selected_feature_names)\n",
        "\n",
        "#Aplicando a seleção de recursos aos dados originais\n",
        "X_train_selecionado = X_train[:, selected_feature_indices]\n",
        "X_test_selecionado = X_test[:, selected_feature_indices]"
      ]
    },
    {
      "cell_type": "markdown",
      "metadata": {
        "id": "WmyoN_WVUeFa"
      },
      "source": [
        "Portanto, os atributos com maiores importâncias foram a 'Tam_tela', 'Config_Tela', 'CPU', 'Ram', 'Gpu', 'Peso', 'Marca_Acer', 'Marca_Razer', 'Tipo_Notebook', 'Tipo_Ultrabook', 'Tipo_Workstation', 'OP_Sys_No OS', 'OP_Sys_Windows 7'.\n",
        "\n",
        "Para a realização do Feature Selection, foi necessário realizar a padronização e normalização dos dados antes de executar o código para evitar possíveis problemas que poderiam ocorrer. Entretanto, vamos seguir com o código sem a padronização com a finalidade de análisar como o modelo irá proceder com seus valores originais e somente depois realizar a normalização e padronização e comparar seus resultados."
      ]
    },
    {
      "cell_type": "markdown",
      "metadata": {
        "id": "PMD_LAw0hh2a"
      },
      "source": [
        "Abaixo será realizado o treinamento do novo modelo com a finalidade de verificar se houve melhora no desempenho após a seleção de atributos."
      ]
    },
    {
      "cell_type": "code",
      "execution_count": 250,
      "metadata": {
        "colab": {
          "base_uri": "https://localhost:8080/",
          "height": 1000
        },
        "id": "ofkxSpcbzxX-",
        "outputId": "527021ba-40ce-4dc3-a323-c65a92c4d1f2"
      },
      "outputs": [
        {
          "output_type": "stream",
          "name": "stdout",
          "text": [
            "LR: MSE 420252207.18 (110742110.32) - RMSE 20500.05\n",
            "Ridge: MSE 417996552.51 (109609123.18) - RMSE 20444.96\n",
            "Lasso: MSE 420238619.47 (110734071.63) - RMSE 20499.72\n",
            "KMN: MSE 421131690.76 (107763751.11) - RMSE 20521.49\n",
            "Cart: MSE 434307964.11 (163227011.54) - RMSE 20840.06\n",
            "SVM: MSE 1405696877.44 (358034899.10) - RMSE 37492.62\n"
          ]
        },
        {
          "output_type": "display_data",
          "data": {
            "text/plain": [
              "<Figure size 1500x1000 with 1 Axes>"
            ],
            "image/png": "[encoded data removed]"
          },
          "metadata": {}
        }
      ],
      "source": [
        "#Definindo uma seed global para esta célula de código\n",
        "np.random.seed(24)\n",
        "\n",
        "#Listas para armazenar os modelos, os resultados e os nomes dos modelos\n",
        "models = []\n",
        "results = []\n",
        "names = []\n",
        "\n",
        "models.append((\"LR\", LinearRegression()))\n",
        "models.append((\"Ridge\", Ridge()))\n",
        "models.append((\"Lasso\", Lasso()))\n",
        "models.append((\"KMN\", KNeighborsRegressor()))\n",
        "models.append((\"Cart\", DecisionTreeRegressor()))\n",
        "models.append((\"SVM\", SVR ()))\n",
        "\n",
        "#Avaliando um modelo por vez\n",
        "for name, model in models:\n",
        "  cv_results = cross_val_score(model, X_train_selecionado, y_train, cv=kfold, scoring=\"neg_mean_squared_error\")\n",
        "  results.append(cv_results)\n",
        "  names.append(name)\n",
        "    #Imprime MSE, Desvio Padrão e RMSE dos 10 resultados da validação cruzada\n",
        "  msg = \"%s: MSE %0.2f (%0.2f) - RMSE %0.2f\" % (name, abs(cv_results.mean()), cv_results.std(), np.sqrt(abs(cv_results.mean())))\n",
        "  print (msg)\n",
        "\n",
        "# BoxPlot de comparação dos modelos\n",
        "fig = plt.figure(figsize=(15, 10))\n",
        "fig.suptitle(\"Comparação do MSE dos modelos\")\n",
        "ax = fig.add_subplot(111)\n",
        "plt.boxplot(results)\n",
        "ax.set_xticklabels(names)\n",
        "plt.show()\n"
      ]
    },
    {
      "cell_type": "markdown",
      "metadata": {
        "id": "QC_sel78iR6Y"
      },
      "source": [
        "Após o treinamento, foi possível observar uma piora no desempenho, porém os valores de MSE e RMSE foram próximos em relação ao treinamento sem a Feature Selection, e o modelo que teve o melhor desempenho se manteve a Regressão Linear com Regularização de Ridge."
      ]
    },
    {
      "cell_type": "markdown",
      "metadata": {
        "id": "CmT9a2sWjP40"
      },
      "source": [
        "##6.2 Modelagem utilizando os Ensembles"
      ]
    },
    {
      "cell_type": "markdown",
      "metadata": {
        "id": "kSRDBPCxxGjO"
      },
      "source": [
        "A seguir será realizada uma etapa de modelagem e inferência utilizando a configuração padrão dos hiperparâmetros e os métodos Ensembles. Neste momento, iremos realizar o treinamento com os atributos obtidos no Feature Selection para verificar o desempenho do modelo e posteriormente iremos realizar outro treinamento sem o FS para realizar a comparação entre os dois.\n"
      ]
    },
    {
      "cell_type": "code",
      "execution_count": 251,
      "metadata": {
        "colab": {
          "base_uri": "https://localhost:8080/",
          "height": 1000
        },
        "id": "dw8kSMQ3oZGv",
        "outputId": "b301a557-165b-4bad-ac7a-eb0ff74b501c"
      },
      "outputs": [
        {
          "output_type": "stream",
          "name": "stdout",
          "text": [
            "LR: MSE 420252207.18 (110742110.32) - RMSE 20500.05\n",
            "Ridge: MSE 417996552.51 (109609123.18) - RMSE 20444.96\n",
            "Lasso: MSE 420238619.47 (110734071.63) - RMSE 20499.72\n",
            "KMN: MSE 421131690.76 (107763751.11) - RMSE 20521.49\n",
            "Cart: MSE 434307964.11 (163227011.54) - RMSE 20840.06\n",
            "SVM: MSE 1405696877.44 (358034899.10) - RMSE 37492.62\n",
            "Bagging: MSE 243993770.38 (76751636.92) - RMSE 15620.30\n",
            "RF: MSE 230081547.34 (84739593.02) - RMSE 15168.44\n",
            "ET: MSE 236028626.38 (83334543.29) - RMSE 15363.22\n",
            "Ada: MSE 531033145.54 (139832802.71) - RMSE 23044.16\n",
            "GB: MSE 224842845.80 (57520594.88) - RMSE 14994.76\n",
            "Votting: MSE 416047508.47 (106044074.08) - RMSE 20397.24\n"
          ]
        },
        {
          "output_type": "display_data",
          "data": {
            "text/plain": [
              "<Figure size 1500x1000 with 1 Axes>"
            ],
            "image/png": "[encoded data removed]"
          },
          "metadata": {}
        }
      ],
      "source": [
        "#Definindo uma seed global para esta célula de código\n",
        "np.random.seed(24)\n",
        "\n",
        "#Listas para armazenar os modelos, os resultados e os nomes dos modelos\n",
        "models = []\n",
        "results = []\n",
        "names = []\n",
        "\n",
        "models.append((\"LR\", LinearRegression(fit_intercept=True)))\n",
        "models.append((\"Ridge\", Ridge()))\n",
        "models.append((\"Lasso\", Lasso()))\n",
        "models.append((\"KMN\", KNeighborsRegressor()))\n",
        "models.append((\"Cart\", DecisionTreeRegressor()))\n",
        "models.append((\"SVM\", SVR ()))\n",
        "\n",
        "#Definindo os parametros do classificador base para o BaggingRegressor\n",
        "base = DecisionTreeRegressor()\n",
        "num_trees = 100\n",
        "max_features = 5\n",
        "\n",
        "#Criando os modelos para o VottingRegressor\n",
        "bases = []\n",
        "model1 = LinearRegression(fit_intercept=True)\n",
        "bases.append((\"Linear\", model1))\n",
        "model2 = DecisionTreeRegressor()\n",
        "bases.append((\"Cart\", model2))\n",
        "model3 = SVR()\n",
        "bases.append((\"svr\", model3))\n",
        "\n",
        "#Criando os ensembles e adicionando-os na lista de modelos\n",
        "models.append((\"Bagging\", BaggingRegressor(base_estimator=base, n_estimators=num_trees)))\n",
        "models.append((\"RF\", RandomForestRegressor(n_estimators=num_trees, max_features=max_features)))\n",
        "models.append((\"ET\", ExtraTreesRegressor(n_estimators=num_trees, max_features=max_features)))\n",
        "models.append((\"Ada\", AdaBoostRegressor(n_estimators=num_trees)))\n",
        "models.append((\"GB\", GradientBoostingRegressor(n_estimators=num_trees)))\n",
        "models.append((\"Votting\", VotingRegressor(bases)))\n",
        "\n",
        "#Lista para armazenar os resultados\n",
        "results = []\n",
        "names = []\n",
        "\n",
        "#Avaliação dos modelos\n",
        "for name, model in models:\n",
        "  cv_results = cross_val_score(model, X_train_selecionado, y_train, cv=kfold, scoring=\"neg_mean_squared_error\")\n",
        "  results.append(cv_results)\n",
        "  names.append(name)\n",
        "#Imprime MSE, Desvio Padrão e RMSE dos 10 resultados da validação cruzada\n",
        "  msg = \"%s: MSE %0.2f (%0.2f) - RMSE %0.2f\" % (name, abs(cv_results.mean()), cv_results.std(), np.sqrt(abs(cv_results.mean())))\n",
        "  print (msg)\n",
        "\n",
        "#BoxPlot de comparação dos modelos\n",
        "fig = plt.figure(figsize=(15, 10))\n",
        "fig.suptitle(\"Comparação do MSE dos modelos\")\n",
        "ax = fig.add_subplot(111)\n",
        "plt.boxplot(results)\n",
        "ax.set_xticklabels(names)\n",
        "plt.show()\n",
        "\n"
      ]
    },
    {
      "cell_type": "markdown",
      "metadata": {
        "id": "i7Fn4_rBtjA0"
      },
      "source": [
        "Nesta etapa, foi realizado o treinamento do modelo com a configuração padrão de hiperparâmetros e foi possível obter um ganho no desempenho comparado aos treinamentos anteriores com a utilização dos Ensembles os três melhores modelos foram o Gradient Boosting, Extra Trees Regressor e Random Forest que obtiveram o melhor desempenho dos modelos testados."
      ]
    },
    {
      "cell_type": "markdown",
      "metadata": {
        "id": "ZgIbf1HfpsWV"
      },
      "source": [
        "##6.3 Pipelines e Transformação nos dados"
      ]
    },
    {
      "cell_type": "markdown",
      "metadata": {
        "id": "q6tcibMOxi1F"
      },
      "source": [
        "A seguir, iremos repetir o processo utilizando a biblioteca Pipeline para criar e avaliar os modelos através da validação cruzada com os dados originais, normalizados e padronizados, somente com os melhores modelos obtidos na etapa anterior. (RF, ET e GB)"
      ]
    },
    {
      "cell_type": "code",
      "execution_count": 252,
      "metadata": {
        "colab": {
          "base_uri": "https://localhost:8080/",
          "height": 631
        },
        "id": "LSwfXCjQJDiG",
        "outputId": "9fcf977c-5523-44d5-d81c-73767187d7f3"
      },
      "outputs": [
        {
          "output_type": "stream",
          "name": "stdout",
          "text": [
            "RF-orig: MSE 233532613.82 (86763473.21) - RMSE 15281.77\n",
            "ET-orig: MSE 230709622.55 (85225340.87) - RMSE 15189.13\n",
            "GB-orig: MSE 223368293.16 (54023553.60) - RMSE 14945.51\n",
            "RF-padr: MSE 241160839.02 (87755448.51) - RMSE 15529.35\n",
            "ET-padr: MSE 240628233.49 (90650342.31) - RMSE 15512.20\n",
            "GB-padr: MSE 226214484.78 (59833971.25) - RMSE 15040.43\n",
            "RF-norm: MSE 230506499.17 (81093935.80) - RMSE 15182.44\n",
            "ET-norm: MSE 234244060.49 (85911485.00) - RMSE 15305.03\n",
            "GB-norm: MSE 223567291.66 (54472143.28) - RMSE 14952.17\n"
          ]
        },
        {
          "output_type": "display_data",
          "data": {
            "text/plain": [
              "<Figure size 2500x600 with 1 Axes>"
            ],
            "image/png": "[encoded data removed]"
          },
          "metadata": {}
        }
      ],
      "source": [
        "#Definindo uma seed global para esta célula de código\n",
        "np.random.seed(24)\n",
        "\n",
        "#Listas para armazenar os modelos, os resultados e os nomes dos modelos\n",
        "pipelines = []\n",
        "results = []\n",
        "names = []\n",
        "\n",
        "random_forest = (\"RF\", RandomForestRegressor(n_estimators=num_trees, max_features=max_features))\n",
        "extra_trees = (\"ET\", ExtraTreesRegressor(n_estimators=num_trees, max_features=max_features))\n",
        "g_boosting = (\"GB\", GradientBoostingRegressor(n_estimators=num_trees))\n",
        "\n",
        "#Transformações utilizadas\n",
        "standard_scaler = (\"StantdardScaler\", StandardScaler())\n",
        "min_max_scaler = (\"MinMaxScaler\", MinMaxScaler())\n",
        "\n",
        "#dataset original\n",
        "\n",
        "pipelines.append((\"RF-orig\", Pipeline([random_forest])))\n",
        "pipelines.append((\"ET-orig\", Pipeline([extra_trees])))\n",
        "pipelines.append((\"GB-orig\", Pipeline([g_boosting])))\n",
        "\n",
        "#dataset padronizado\n",
        "\n",
        "pipelines.append((\"RF-padr\", Pipeline([standard_scaler, random_forest])))\n",
        "pipelines.append((\"ET-padr\", Pipeline([standard_scaler, extra_trees])))\n",
        "pipelines.append((\"GB-padr\", Pipeline([standard_scaler, g_boosting])))\n",
        "\n",
        "#dataset normalizado\n",
        "pipelines.append((\"RF-norm\", Pipeline([min_max_scaler, random_forest])))\n",
        "pipelines.append((\"ET-norm\", Pipeline([min_max_scaler, extra_trees])))\n",
        "pipelines.append((\"GB-norm\", Pipeline([min_max_scaler, g_boosting])))\n",
        "\n",
        "#Avaliação dos modelos\n",
        "for name, model in pipelines:\n",
        "  cv_results = cross_val_score(model, X_train_selecionado, y_train, cv=kfold, scoring=\"neg_mean_squared_error\")\n",
        "  results.append(cv_results)\n",
        "  names.append(name)\n",
        "    #Imprime MSE, Desvio Padrão e RMSE dos 10 resultados da validação cruzada\n",
        "  msg = \"%s: MSE %0.2f (%0.2f) - RMSE %0.2f\" % (name, abs(cv_results.mean()), cv_results.std(), np.sqrt(abs(cv_results.mean())))\n",
        "  print (msg)\n",
        "\n",
        "# BoxPlot de comparação dos modelos\n",
        "fig = plt.figure(figsize=(25, 6))\n",
        "fig.suptitle(\"Comparação do MSE dos modelos\")\n",
        "ax = fig.add_subplot(111)\n",
        "plt.boxplot(results)\n",
        "ax.set_xticklabels(names, rotation=90)\n",
        "plt.show()\n"
      ]
    },
    {
      "cell_type": "markdown",
      "metadata": {
        "id": "RN6W-mqgqPMh"
      },
      "source": [
        "A partir dos valores obtidos e dos gráficos, foi possível verificar que o Gradient Boosting com os dados originais, portanto, a seguir será realizado um estudo com a finalidade de verificar se utilizando o Grid Search conseguiremos resultados superiores, ainda mantendo os três Ensembles acima."
      ]
    },
    {
      "cell_type": "markdown",
      "metadata": {
        "id": "4C5usNkMq7RN"
      },
      "source": [
        "##6.4 Grid Search"
      ]
    },
    {
      "cell_type": "markdown",
      "metadata": {
        "id": "Y2tfIxOhnfyM"
      },
      "source": [
        "###6.4.1 Random Forest"
      ]
    },
    {
      "cell_type": "code",
      "execution_count": 253,
      "metadata": {
        "colab": {
          "base_uri": "https://localhost:8080/"
        },
        "id": "uWq5OLEvnjhD",
        "outputId": "de50af69-3e24-4eea-90b1-f62ae3dd21ec"
      },
      "outputs": [
        {
          "output_type": "stream",
          "name": "stdout",
          "text": [
            "Fitting 10 folds for each of 27 candidates, totalling 270 fits\n",
            "Melhores parâmetros: {'RF__max_depth': 40, 'RF__max_features': 1, 'RF__n_estimators': 275}\n",
            "Melhor modelo: Pipeline(steps=[('scaler', MinMaxScaler()),\n",
            "                ('RF',\n",
            "                 RandomForestRegressor(max_depth=40, max_features=1,\n",
            "                                       n_estimators=275))])\n",
            "MSE do melhor modelo: 221347488.3656481\n",
            "RMSE do melhor modelo: 14877.751455298885\n"
          ]
        }
      ],
      "source": [
        "#Definindo os parâmetros do GridSearch\n",
        "param_grid = {\n",
        "    'RF__n_estimators': [225, 275, 300],\n",
        "    'RF__max_depth': [30, 40, 50],\n",
        "    'RF__max_features': [1, 2, 3],\n",
        "}\n",
        "\n",
        "#preparando o pipeline\n",
        "random_forest = RandomForestRegressor()\n",
        "random_forest_pipeline = Pipeline([('scaler', MinMaxScaler()), ('RF', random_forest)])\n",
        "\n",
        "#Prepara e executa o GridSearch\n",
        "grid_search = GridSearchCV(estimator=random_forest_pipeline, param_grid=param_grid, cv=kfold, scoring='neg_mean_squared_error', verbose=1, n_jobs=-1)\n",
        "grid_search.fit(X_train_selecionado, y_train)\n",
        "\n",
        "#Imprimindo os Melhores parâmetros e melhor modelo\n",
        "print(\"Melhores parâmetros:\", grid_search.best_params_)\n",
        "\n",
        "best_model = grid_search.best_estimator_\n",
        "print(\"Melhor modelo:\", best_model)\n",
        "\n",
        "# Calcula o MSE e RMSE do melhor modelo\n",
        "best_model_mse = -grid_search.best_score_\n",
        "best_model_rmse = np.sqrt(best_model_mse)\n",
        "\n",
        "print(\"MSE do melhor modelo:\", best_model_mse)\n",
        "print(\"RMSE do melhor modelo:\", best_model_rmse)"
      ]
    },
    {
      "cell_type": "markdown",
      "metadata": {
        "id": "5E2qCbzYE2f7"
      },
      "source": [
        "### 6.4.2 Extra Tree Regressor"
      ]
    },
    {
      "cell_type": "code",
      "execution_count": 254,
      "metadata": {
        "colab": {
          "base_uri": "https://localhost:8080/"
        },
        "id": "BByhp6ANrSdn",
        "outputId": "91d0bee1-d9cd-48a1-c032-8f30564a69c9"
      },
      "outputs": [
        {
          "output_type": "stream",
          "name": "stdout",
          "text": [
            "Fitting 10 folds for each of 27 candidates, totalling 270 fits\n",
            "Melhores parâmetros: {'max_depth': 40, 'max_features': 1, 'n_estimators': 200}\n",
            "Melhor modelo: ExtraTreesRegressor(max_depth=40, max_features=1, n_estimators=200,\n",
            "                    random_state=24)\n",
            "MSE do melhor modelo: 223674303.5176757\n",
            "RMSE do melhor modelo: 14955.744833263092\n"
          ]
        }
      ],
      "source": [
        "#Definindo os parâmetros do GridSearch\n",
        "param_grid = {\n",
        "    'n_estimators': [100, 200, 300],\n",
        "    'max_depth': [30, 40, 50],\n",
        "    'max_features': [1, 2, 3],\n",
        "   }\n",
        "\n",
        "#Inicializando o modelo\n",
        "extra_trees = ExtraTreesRegressor(random_state=24)\n",
        "\n",
        "#Preparando e executando o GridSearch\n",
        "grid_search = GridSearchCV(estimator=extra_trees, param_grid=param_grid, cv=kfold, scoring='neg_mean_squared_error', verbose=1, n_jobs=-1)\n",
        "grid_search.fit(X_train_selecionado, y_train)\n",
        "\n",
        "#Imprimindo os Melhores parâmetros e melhor modelo\n",
        "print(\"Melhores parâmetros:\", grid_search.best_params_)\n",
        "best_model = grid_search.best_estimator_\n",
        "print(\"Melhor modelo:\", best_model)\n",
        "\n",
        "# Calcula e imprime o MSE e RMSE do melhor modelo\n",
        "best_model_mse = -grid_search.best_score_\n",
        "best_model_rmse = np.sqrt(best_model_mse)\n",
        "\n",
        "print(\"MSE do melhor modelo:\", best_model_mse)\n",
        "print(\"RMSE do melhor modelo:\", best_model_rmse)"
      ]
    },
    {
      "cell_type": "markdown",
      "metadata": {
        "id": "cx7AIIxEE-bM"
      },
      "source": [
        "### 6.4.3 Gradient Boosting"
      ]
    },
    {
      "cell_type": "code",
      "execution_count": 255,
      "metadata": {
        "id": "lbZMtllrWeXp",
        "colab": {
          "base_uri": "https://localhost:8080/"
        },
        "outputId": "93151f9a-6cfa-41d4-c98b-41abf2e54f66"
      },
      "outputs": [
        {
          "output_type": "stream",
          "name": "stdout",
          "text": [
            "Fitting 10 folds for each of 243 candidates, totalling 2430 fits\n",
            "Melhores parâmetros: {'learning_rate': 0.25, 'max_depth': 3, 'min_samples_leaf': 1, 'min_samples_split': 2, 'n_estimators': 125}\n",
            "Melhor modelo: GradientBoostingRegressor(learning_rate=0.25, n_estimators=125)\n",
            "MSE do melhor modelo: 209684182.48051557\n",
            "RMSE do melhor modelo: 14480.475906561758\n"
          ]
        }
      ],
      "source": [
        "#Definindo os parâmetros do GridSearch\n",
        "param_grid = {\n",
        "    'n_estimators': [75, 100, 125],\n",
        "    'learning_rate': [0.02, 0.1, 0.25],\n",
        "    'max_depth': [3, 5, 7],\n",
        "    'min_samples_split': [2, 5, 10],\n",
        "    'min_samples_leaf': [1, 2, 3]\n",
        "}\n",
        "\n",
        "#Inicializando o modelo\n",
        "gb_model = GradientBoostingRegressor()\n",
        "\n",
        "#Preparando e executando o GridSearch\n",
        "grid_search = GridSearchCV(estimator=gb_model, param_grid=param_grid, cv=kfold, scoring='neg_mean_squared_error', verbose=1)\n",
        "grid_search.fit(X_train_selecionado, y_train)\n",
        "\n",
        "#Exibindo o melhor modelo e os melhores parâmetros encontrados\n",
        "print(\"Melhores parâmetros:\", grid_search.best_params_)\n",
        "best_model = grid_search.best_estimator_\n",
        "print(\"Melhor modelo:\", best_model)\n",
        "\n",
        "#Calculando e imprimindo o MSE e RMSE do melhor modelo\n",
        "best_model_mse = -grid_search.best_score_\n",
        "best_model_rmse = np.sqrt(best_model_mse)\n",
        "\n",
        "print(\"MSE do melhor modelo:\", best_model_mse)\n",
        "print(\"RMSE do melhor modelo:\", best_model_rmse)"
      ]
    },
    {
      "cell_type": "markdown",
      "metadata": {
        "id": "9TU3ajtoFK_H"
      },
      "source": [
        "Após esse treinamento, foi possível verificar que todos os algoritmos melhoraram seu desempenho após o Grid Search, que foi realizado diversas combinações até chegar as melhores combinações que podem ser vistas acima. O modelo que teve melhor desempenho após o GridSearch foi o Gradient Boosting."
      ]
    },
    {
      "cell_type": "markdown",
      "metadata": {
        "id": "KRDwe2tfqfe9"
      },
      "source": [
        "##6.5 Modelagem com a divisão inicial do Dataset sem o FS"
      ]
    },
    {
      "cell_type": "markdown",
      "metadata": {
        "id": "loaK15dcV7wD"
      },
      "source": [
        "Abaixo será realizado o treinamento do modelo utilizando os algoritimos iniciais de regressão linear para facilitar a comparação, junto aos Ensembles utilizando o Dataset original sem a utilização do Feature Selection, ou seja, com todos os atributos originais."
      ]
    },
    {
      "cell_type": "code",
      "execution_count": 256,
      "metadata": {
        "colab": {
          "base_uri": "https://localhost:8080/",
          "height": 1000
        },
        "id": "krpSasUyV8Ia",
        "outputId": "349c2557-4cd3-4d23-ee2b-35f62f71a5e6"
      },
      "outputs": [
        {
          "output_type": "stream",
          "name": "stdout",
          "text": [
            "LR: MSE 405714281.89 (104920243.59) - RMSE 20142.35\n",
            "Ridge: MSE 402994324.14 (103479639.50) - RMSE 20074.72\n",
            "Lasso: MSE 405424005.24 (104723959.39) - RMSE 20135.14\n",
            "KMN: MSE 433218400.08 (110543035.17) - RMSE 20813.90\n",
            "Cart: MSE 405247164.40 (96699410.80) - RMSE 20130.75\n",
            "SVM: MSE 1406002945.13 (358066232.95) - RMSE 37496.71\n",
            "Bagging: MSE 237905069.39 (73224619.06) - RMSE 15424.17\n",
            "RF: MSE 215729683.89 (85034784.06) - RMSE 14687.74\n",
            "ET: MSE 201634071.09 (78988690.45) - RMSE 14199.79\n",
            "Ada: MSE 552089547.84 (108214091.80) - RMSE 23496.59\n",
            "GB: MSE 221992733.47 (54244911.06) - RMSE 14899.42\n",
            "Votting: MSE 430096385.48 (131326010.47) - RMSE 20738.77\n"
          ]
        },
        {
          "output_type": "display_data",
          "data": {
            "text/plain": [
              "<Figure size 1500x1000 with 1 Axes>"
            ],
            "image/png": "[encoded data removed]"
          },
          "metadata": {}
        }
      ],
      "source": [
        "#Definindo uma seed global para esta célula de código\n",
        "np.random.seed(24)\n",
        "\n",
        "#Listas para armazenar os modelos, os resultados e os nomes dos modelos\n",
        "models = []\n",
        "results = []\n",
        "names = []\n",
        "\n",
        "models.append((\"LR\", LinearRegression(fit_intercept=True)))\n",
        "models.append((\"Ridge\", Ridge()))\n",
        "models.append((\"Lasso\", Lasso()))\n",
        "models.append((\"KMN\", KNeighborsRegressor()))\n",
        "models.append((\"Cart\", DecisionTreeRegressor()))\n",
        "models.append((\"SVM\", SVR ()))\n",
        "\n",
        "#Definindo os parametros do classificador base para o BaggingRegressor\n",
        "base = DecisionTreeRegressor()\n",
        "num_trees = 100\n",
        "max_features = 5\n",
        "\n",
        "#Criando os modelos para o VottingRegressor\n",
        "bases = []\n",
        "model1 = LinearRegression(fit_intercept=True)\n",
        "bases.append((\"Linear\", model1))\n",
        "model2 = DecisionTreeRegressor()\n",
        "bases.append((\"Cart\", model2))\n",
        "model3 = SVR()\n",
        "bases.append((\"svr\", model3))\n",
        "\n",
        "#Criando os ensembles e adicionando-os na lista de modelos\n",
        "models.append((\"Bagging\", BaggingRegressor(base_estimator=base, n_estimators=num_trees)))\n",
        "models.append((\"RF\", RandomForestRegressor(n_estimators=num_trees, max_features=max_features)))\n",
        "models.append((\"ET\", ExtraTreesRegressor(n_estimators=num_trees, max_features=max_features)))\n",
        "models.append((\"Ada\", AdaBoostRegressor(n_estimators=num_trees)))\n",
        "models.append((\"GB\", GradientBoostingRegressor(n_estimators=num_trees)))\n",
        "models.append((\"Votting\", VotingRegressor(bases)))\n",
        "\n",
        "#Lista para armazenar os resultados\n",
        "results = []\n",
        "names = []\n",
        "\n",
        "#Avaliação dos modelos\n",
        "for name, model in models:\n",
        "  cv_results = cross_val_score(model, X_train, y_train, cv=kfold, scoring=\"neg_mean_squared_error\")\n",
        "  results.append(cv_results)\n",
        "  names.append(name)\n",
        "    #Imprime MSE, Desvio Padrão e RMSE dos 10 resultados da validação cruzada\n",
        "  msg = \"%s: MSE %0.2f (%0.2f) - RMSE %0.2f\" % (name, abs(cv_results.mean()), cv_results.std(), np.sqrt(abs(cv_results.mean())))\n",
        "  print (msg)\n",
        "\n",
        "# BoxPlot de comparação dos modelos\n",
        "fig = plt.figure(figsize=(15, 10))\n",
        "fig.suptitle(\"Comparação do MSE dos modelos\")\n",
        "ax = fig.add_subplot(111)\n",
        "plt.boxplot(results)\n",
        "ax.set_xticklabels(names)\n",
        "plt.show()\n"
      ]
    },
    {
      "cell_type": "markdown",
      "metadata": {
        "id": "-qGOPVzpWtBc"
      },
      "source": [
        "Houve um aumento de desempenho utilizando os Ensembles e o algoritimo com o melhor desempenho tendo sido o Extra Trees Regressor, seguido do Random Forest e do Gradient Boosting."
      ]
    },
    {
      "cell_type": "markdown",
      "metadata": {
        "id": "z_pGymZbFlSW"
      },
      "source": [
        "Uma nova modelagem será executada com a utilização dos Ensembles com melhor desempenho, utilizando os dados originais, dados normalizados e padronizados além da utilização do Pipeline."
      ]
    },
    {
      "cell_type": "code",
      "execution_count": 257,
      "metadata": {
        "id": "ZE14zQsUq4W_",
        "colab": {
          "base_uri": "https://localhost:8080/",
          "height": 631
        },
        "outputId": "5a31d239-164c-472b-d395-d199fa3fa006"
      },
      "outputs": [
        {
          "output_type": "stream",
          "name": "stdout",
          "text": [
            "RF-orig: MSE 217845515.86 (84885963.71) - RMSE 14759.59\n",
            "ET-orig: MSE 202328393.65 (74962903.26) - RMSE 14224.22\n",
            "GB-orig: MSE 218852117.66 (48771892.63) - RMSE 14793.65\n",
            "RF-padr: MSE 217207137.08 (85066931.17) - RMSE 14737.95\n",
            "ET-padr: MSE 204039608.73 (77844417.24) - RMSE 14284.24\n",
            "GB-padr: MSE 217061455.73 (49414231.55) - RMSE 14733.01\n",
            "RF-norm: MSE 217532105.89 (84470445.41) - RMSE 14748.97\n",
            "ET-norm: MSE 207073735.09 (76225463.76) - RMSE 14390.06\n",
            "GB-norm: MSE 221425652.88 (56864709.74) - RMSE 14880.38\n"
          ]
        },
        {
          "output_type": "display_data",
          "data": {
            "text/plain": [
              "<Figure size 2500x600 with 1 Axes>"
            ],
            "image/png": "[encoded data removed]"
          },
          "metadata": {}
        }
      ],
      "source": [
        "#Definindo uma seed global para esta célula de código\n",
        "np.random.seed(24)\n",
        "\n",
        "#Listas para armazenar os modelos, os resultados e os nomes dos modelos\n",
        "pipelines = []\n",
        "results = []\n",
        "names = []\n",
        "\n",
        "random_forest = (\"RF\", RandomForestRegressor(n_estimators=num_trees, max_features=max_features))\n",
        "extra_trees = (\"ET\", ExtraTreesRegressor(n_estimators=num_trees, max_features=max_features))\n",
        "g_boosting = (\"GB\", GradientBoostingRegressor(n_estimators=num_trees))\n",
        "\n",
        "#Transformações utilizadas\n",
        "standard_scaler = (\"StantdardScaler\", StandardScaler())\n",
        "min_max_scaler = (\"MinMaxScaler\", MinMaxScaler())\n",
        "\n",
        "#dataset original\n",
        "pipelines.append((\"RF-orig\", Pipeline([random_forest])))\n",
        "pipelines.append((\"ET-orig\", Pipeline([extra_trees])))\n",
        "pipelines.append((\"GB-orig\", Pipeline([g_boosting])))\n",
        "\n",
        "#dataset padronizado\n",
        "pipelines.append((\"RF-padr\", Pipeline([standard_scaler, random_forest])))\n",
        "pipelines.append((\"ET-padr\", Pipeline([standard_scaler, extra_trees])))\n",
        "pipelines.append((\"GB-padr\", Pipeline([standard_scaler, g_boosting])))\n",
        "\n",
        "#dataset normalizado\n",
        "pipelines.append((\"RF-norm\", Pipeline([min_max_scaler, random_forest])))\n",
        "pipelines.append((\"ET-norm\", Pipeline([min_max_scaler, extra_trees])))\n",
        "pipelines.append((\"GB-norm\", Pipeline([min_max_scaler, g_boosting])))\n",
        "\n",
        "#Avaliação dos modelos\n",
        "for name, model in pipelines:\n",
        "  cv_results = cross_val_score(model, X_train, y_train, cv=kfold, scoring=\"neg_mean_squared_error\")\n",
        "  results.append(cv_results)\n",
        "  names.append(name)\n",
        "    #Imprime MSE, Desvio Padrão e RMSE dos 10 resultados da validação cruzada\n",
        "  msg = \"%s: MSE %0.2f (%0.2f) - RMSE %0.2f\" % (name, abs(cv_results.mean()), cv_results.std(), np.sqrt(abs(cv_results.mean())))\n",
        "  print (msg)\n",
        "\n",
        "# BoxPlot de comparação dos modelos\n",
        "fig = plt.figure(figsize=(25, 6))\n",
        "fig.suptitle(\"Comparação do MSE dos modelos\")\n",
        "ax = fig.add_subplot(111)\n",
        "plt.boxplot(results)\n",
        "ax.set_xticklabels(names, rotation=90)\n",
        "plt.show()"
      ]
    },
    {
      "cell_type": "markdown",
      "metadata": {
        "id": "Ap6XAchXFyta"
      },
      "source": [
        "Acima é possível verificar uma melhora consideravel no desempenho dos modelos sem o Feature Selection, com o Ensemble Extra Trees Regressor sendo o mais eficaz utilizando o dataset original sem normalização ou padronização. Entretanto, os modelos de Random Forest e Gradient Boosting foram superiores com os dados padronizados."
      ]
    },
    {
      "cell_type": "markdown",
      "metadata": {
        "id": "BPW1Gp9FGNIV"
      },
      "source": [
        "### 6.6 Grid Search nos dados do Dataset sem o FS"
      ]
    },
    {
      "cell_type": "markdown",
      "metadata": {
        "id": "j-sjZJaCluyW"
      },
      "source": [
        "###6.6.1 Random Forest"
      ]
    },
    {
      "cell_type": "code",
      "execution_count": 258,
      "metadata": {
        "id": "mt8_1lH6lyxo",
        "colab": {
          "base_uri": "https://localhost:8080/"
        },
        "outputId": "9175c7c9-7af1-4986-fbaf-616382c21b1f"
      },
      "outputs": [
        {
          "output_type": "stream",
          "name": "stdout",
          "text": [
            "Fitting 10 folds for each of 27 candidates, totalling 270 fits\n",
            "Melhores parâmetros: {'RF__max_depth': 30, 'RF__max_features': 3, 'RF__n_estimators': 275}\n",
            "Melhor modelo: Pipeline(steps=[('scaler', StandardScaler()),\n",
            "                ('RF',\n",
            "                 RandomForestRegressor(max_depth=30, max_features=3,\n",
            "                                       n_estimators=275))])\n",
            "MSE do melhor modelo: 210869551.1406626\n",
            "RMSE do melhor modelo: 14521.348117191552\n"
          ]
        }
      ],
      "source": [
        "#Definindo os parâmetros do GridSearch\n",
        "param_grid = {\n",
        "    'RF__n_estimators': [225, 275, 300],\n",
        "    'RF__max_depth': [30, 40, 50],\n",
        "    'RF__max_features': [1, 2, 3],\n",
        "}\n",
        "\n",
        "#Iniciando o modelo\n",
        "random_forest = RandomForestRegressor()\n",
        "random_forest_pipeline = Pipeline([('scaler', StandardScaler()), ('RF', random_forest)])\n",
        "\n",
        "#Preparando e executando o GridSearchCV\n",
        "grid_search = GridSearchCV(estimator=random_forest_pipeline, param_grid=param_grid, cv=kfold, scoring='neg_mean_squared_error', verbose=1, n_jobs=-1)\n",
        "grid_search.fit(X_train, y_train)\n",
        "\n",
        "#Exibindo e imprimindo o melhor modelo e os melhores parâmetros encontrados\n",
        "print(\"Melhores parâmetros:\", grid_search.best_params_)\n",
        "best_model = grid_search.best_estimator_\n",
        "print(\"Melhor modelo:\", best_model)\n",
        "\n",
        "#Calculando o MSE e RMSE do melhor modelo\n",
        "best_model_mse = -grid_search.best_score_\n",
        "best_model_rmse = np.sqrt(best_model_mse)\n",
        "\n",
        "print(\"MSE do melhor modelo:\", best_model_mse)\n",
        "print(\"RMSE do melhor modelo:\", best_model_rmse)"
      ]
    },
    {
      "cell_type": "markdown",
      "metadata": {
        "id": "ZDqGI3ZuGYat"
      },
      "source": [
        "###6.6.2 Extra Trees Regressor"
      ]
    },
    {
      "cell_type": "code",
      "execution_count": 259,
      "metadata": {
        "colab": {
          "base_uri": "https://localhost:8080/"
        },
        "id": "aUEUmO7DsCia",
        "outputId": "18dce291-9168-4c3d-ae12-5450c908caeb"
      },
      "outputs": [
        {
          "output_type": "stream",
          "name": "stdout",
          "text": [
            "Fitting 10 folds for each of 27 candidates, totalling 270 fits\n",
            "Melhores parâmetros: {'max_depth': 30, 'max_features': 5, 'n_estimators': 100}\n",
            "Melhor modelo: ExtraTreesRegressor(max_depth=30, max_features=5, random_state=24)\n",
            "MSE do melhor modelo: 198894289.42561495\n",
            "RMSE do melhor modelo: 14102.988669981089\n"
          ]
        }
      ],
      "source": [
        "#Definindo os parâmetros do GridSearch\n",
        "param_grid = {\n",
        "    'n_estimators': [25, 50, 100],\n",
        "    'max_depth': [30, 50, 100],\n",
        "    'max_features': [3, 5, 10],\n",
        "   }\n",
        "\n",
        "#Inicializando o modelo\n",
        "extra_trees = ExtraTreesRegressor(random_state=24)\n",
        "\n",
        "#Preparando e executando o GridSearchCV\n",
        "grid_search = GridSearchCV(estimator=extra_trees, param_grid=param_grid, cv=kfold, scoring='neg_mean_squared_error', verbose=1, n_jobs=-1)\n",
        "grid_search.fit(X_train, y_train)\n",
        "\n",
        "#Exibindo e imprimindo o melhor modelo e os melhores parâmetros encontrados\n",
        "print(\"Melhores parâmetros:\", grid_search.best_params_)\n",
        "best_model = grid_search.best_estimator_\n",
        "print(\"Melhor modelo:\", best_model)\n",
        "\n",
        "# Calcula o MSE e RMSE do melhor modelo\n",
        "best_model_mse = -grid_search.best_score_\n",
        "best_model_rmse = np.sqrt(best_model_mse)\n",
        "\n",
        "print(\"MSE do melhor modelo:\", best_model_mse)\n",
        "print(\"RMSE do melhor modelo:\", best_model_rmse)\n"
      ]
    },
    {
      "cell_type": "markdown",
      "metadata": {
        "id": "T4FLSDJkGfVj"
      },
      "source": [
        "### 6.6.3 Gradient Boosting"
      ]
    },
    {
      "cell_type": "code",
      "execution_count": 260,
      "metadata": {
        "id": "cUPfVPYa_D9P",
        "colab": {
          "base_uri": "https://localhost:8080/"
        },
        "outputId": "135ea3fa-5a14-4401-983f-8de149c19cc4"
      },
      "outputs": [
        {
          "output_type": "stream",
          "name": "stdout",
          "text": [
            "Fitting 10 folds for each of 243 candidates, totalling 2430 fits\n",
            "Melhores parâmetros: {'gb_model__learning_rate': 0.25, 'gb_model__max_depth': 3, 'gb_model__min_samples_leaf': 1, 'gb_model__min_samples_split': 5, 'gb_model__n_estimators': 125}\n",
            "Melhor modelo: Pipeline(steps=[('scaler', StandardScaler()),\n",
            "                ('gb_model',\n",
            "                 GradientBoostingRegressor(learning_rate=0.25,\n",
            "                                           min_samples_split=5,\n",
            "                                           n_estimators=125))])\n",
            "MSE do melhor modelo: 187148969.52899733\n",
            "RMSE do melhor modelo: 13680.240112256704\n"
          ]
        }
      ],
      "source": [
        "#Definindo os parâmetros do GridSearch\n",
        "param_grid = {\n",
        "    'gb_model__n_estimators': [75, 100, 125],\n",
        "    'gb_model__learning_rate': [0.02, 0.1, 0.25],\n",
        "    'gb_model__max_depth': [3, 5, 7],\n",
        "    'gb_model__min_samples_split': [2, 5, 10],\n",
        "    'gb_model__min_samples_leaf': [1, 2, 3]\n",
        "}\n",
        "\n",
        "#Criando o modelo\n",
        "gb_model = GradientBoostingRegressor()\n",
        "\n",
        "#preparando a padronização\n",
        "scaler = StandardScaler()\n",
        "\n",
        "#Preparando o Pipeline\n",
        "pipeline = Pipeline([('scaler', scaler), ('gb_model', gb_model)])\n",
        "\n",
        "#Preparando e executando o GridSearchCV\n",
        "grid_search = GridSearchCV(estimator=pipeline, param_grid=param_grid, cv=kfold, scoring='neg_mean_squared_error', verbose=1)\n",
        "grid_search.fit(X_train, y_train)\n",
        "\n",
        "#Exibindo o melhor nodelo e os melhores parâmetros encontrados\n",
        "print(\"Melhores parâmetros:\", grid_search.best_params_)\n",
        "best_model = grid_search.best_estimator_\n",
        "print(\"Melhor modelo:\", best_model)\n",
        "\n",
        "# Calcula o MSE e RMSE do melhor modelo\n",
        "best_model_mse = -grid_search.best_score_\n",
        "best_model_rmse = np.sqrt(best_model_mse)\n",
        "\n",
        "print(\"MSE do melhor modelo:\", best_model_mse)\n",
        "print(\"RMSE do melhor modelo:\", best_model_rmse)"
      ]
    },
    {
      "cell_type": "markdown",
      "metadata": {
        "id": "njbVJ-sYhsI5"
      },
      "source": [
        "Após a realização do GridSearch dos algoritimos mais eficazes, obtivemos uma melhora consideravel no desempenho do modelo e embora o Extra Trees Regressor tenha tido um desempenho melhor na etapa anterior, com o GridSearch com os dados padronizados, o Gradient Boosting acabou se mostrando mais eficaz e portanto será o algoritimo escolhido para a produção do modelo."
      ]
    },
    {
      "cell_type": "markdown",
      "metadata": {
        "id": "VU2SZuAtyUsR"
      },
      "source": [
        "##6.7 Treinamento do modelo com todo o Dataset"
      ]
    },
    {
      "cell_type": "markdown",
      "metadata": {
        "id": "IabyJ4K8GtyU"
      },
      "source": [
        "###6.7.1 Avaliação do modelo com o conjunto de teste"
      ]
    },
    {
      "cell_type": "markdown",
      "metadata": {
        "id": "Qa6tVM8Iim_4"
      },
      "source": [
        "Abaixo será realizado o treinamento do modelo com todo o conjunto de dados para avaliação do modelo, cabe ressaltar, que o feature selection não foi muito eficaz para o modelo, portanto iremos realizar o teste com o conjunto de dados do dataset original e portanto nao foi necessário aplicar a Feature selection nos dados de teste."
      ]
    },
    {
      "cell_type": "code",
      "execution_count": 261,
      "metadata": {
        "id": "eg4uzLDIyMxO",
        "colab": {
          "base_uri": "https://localhost:8080/"
        },
        "outputId": "e40818d8-9529-4ed3-8b2e-fd2d56390ceb"
      },
      "outputs": [
        {
          "output_type": "stream",
          "name": "stdout",
          "text": [
            "MSE: 135832928.3571118\n",
            "RMSE: 11654.738450823845\n"
          ]
        }
      ],
      "source": [
        "#Preparando a Padronização\n",
        "scaler = StandardScaler()\n",
        "\n",
        "#Padronizando os conjuntos de treino e teste\n",
        "X_train_scaled = scaler.fit_transform(X_train)\n",
        "X_test_scaled = scaler.transform(X_test)\n",
        "\n",
        "#Avaliando o modelo com o conjunto de treinamento padronizado\n",
        "model = GradientBoostingRegressor(max_depth=3, min_samples_leaf=1, min_samples_split=2, n_estimators=125, learning_rate=0.25)\n",
        "model.fit(X_train_scaled, y_train)\n",
        "\n",
        "#Realizando as previsões no conjunto de teste padronizado\n",
        "predictions = model.predict(X_test_scaled)\n",
        "\n",
        "mse = mean_squared_error(y_test, predictions)\n",
        "print(\"MSE:\", mse)\n",
        "print(\"RMSE:\", np.sqrt(mse))"
      ]
    },
    {
      "cell_type": "markdown",
      "metadata": {
        "id": "dgi35eElojIT"
      },
      "source": [
        "Obtivemos um aumento no desempenho ao realizar o treinamento com todo o dataset e o modelo encontra-se pronto para colocar em produção."
      ]
    },
    {
      "cell_type": "code",
      "execution_count": 262,
      "metadata": {
        "id": "w4HVgdhjZ3JU",
        "colab": {
          "base_uri": "https://localhost:8080/",
          "height": 472
        },
        "outputId": "08f3b60d-7f67-4a06-99f3-2e80b9459306"
      },
      "outputs": [
        {
          "output_type": "display_data",
          "data": {
            "text/plain": [
              "<Figure size 640x480 with 1 Axes>"
            ],
            "image/png": "[encoded data removed]"
          },
          "metadata": {}
        }
      ],
      "source": [
        "#Preparando o gráfico de dispersão\n",
        "plt.scatter(predictions, y_test, color='blue')\n",
        "plt.plot(predictions, predictions, color='red', linestyle='--')  # Linha de referência para comparação\n",
        "plt.xlabel('Valores Previstos')\n",
        "plt.ylabel('Valores Reais')\n",
        "plt.title('Comparação entre Valores Previstos e Reais')\n",
        "\n",
        "#Exibindo o gráfico\n",
        "plt.grid(True)\n",
        "plt.show()"
      ]
    },
    {
      "cell_type": "markdown",
      "metadata": {
        "id": "0riBMiudHzxy"
      },
      "source": [
        "Por fim, observamos um resultado superior se comparado com o modelo de treinamento, porém, com resultados próximos, o que indica que não há um overfitting ou underfitting.\n",
        "\n",
        "Pelo gráfico dispersão, podemos observar que os valores previstos estão próximos aos valores reais, principalmente quando os valores previstos vão até o valor da média do notebook, o aumento gradativo dos valores reais a partir deste valor ocasiona em um aumento na dispersão. Isso pode estar ocorrendo pelo numero inferior de amostras com valores muito acima da média.\n",
        "\n",
        "Com um Dataset mais robusto e com amostras mais balanceadas poderiamos ter um melhor desempenho com os valores superiores dos dados."
      ]
    },
    {
      "cell_type": "markdown",
      "metadata": {
        "id": "M20_Q_vdG7-6"
      },
      "source": [
        "###6.7.2 Avaliação do modelo com o conjunto de teste utilizando o R-Quadrado"
      ]
    },
    {
      "cell_type": "code",
      "execution_count": 263,
      "metadata": {
        "id": "7KqSaUCdUiIl",
        "colab": {
          "base_uri": "https://localhost:8080/"
        },
        "outputId": "a1d19f5f-bfc0-4b1e-c028-1f0a3fd6d00c"
      },
      "outputs": [
        {
          "output_type": "stream",
          "name": "stdout",
          "text": [
            "0.9116574257679334\n"
          ]
        }
      ],
      "source": [
        "#Calculando o coeficiente de determinação (R²) para avaliar o desempenho do modelo\n",
        "R2 = r2_score(y_test,predictions)\n",
        "print(R2)"
      ]
    },
    {
      "cell_type": "markdown",
      "metadata": {
        "id": "Ph6YMYE2HcSS"
      },
      "source": [
        "Com esse método, foi possível avaliar a porcentagem da variança que pôde ser prevista pelo modelo de regressão, chegando a 91,16%."
      ]
    },
    {
      "cell_type": "markdown",
      "metadata": {
        "id": "iCjG8V-2HJRa"
      },
      "source": [
        "###6.7.3 Avaliação do modelo com o conjunto de teste utilizando o R-Quadrado ajustado"
      ]
    },
    {
      "cell_type": "code",
      "execution_count": 264,
      "metadata": {
        "id": "eNe9UJLmU4EP",
        "colab": {
          "base_uri": "https://localhost:8080/"
        },
        "outputId": "063c95ee-d5c1-4305-f73d-152c4f087f18"
      },
      "outputs": [
        {
          "output_type": "execute_result",
          "data": {
            "text/plain": [
              "0.8951184050212908"
            ]
          },
          "metadata": {},
          "execution_count": 264
        }
      ],
      "source": [
        "#Calculando o coeficiente de determinação ajustado (R² ajustado)\n",
        "def adjusted_r2(y_test, y_pred,X_train):\n",
        "\n",
        "  from sklearn.metrics import r2_score\n",
        "\n",
        "  adj_r2 = (1 - ((1 - r2_score(y_test, y_pred)) * (len(y_test) - 1)) /\n",
        "          (len(y_test) - X_train.shape[1] - 1))\n",
        "\n",
        "  return adj_r2\n",
        "\n",
        "adjusted_r2(y_test,predictions,X_train)"
      ]
    },
    {
      "cell_type": "markdown",
      "metadata": {
        "id": "gGkvvDjJHpXv"
      },
      "source": [
        "Com esse método, foi possível avaliar a porcentagem da variança que pode ser contemplada pelo modelo de regressão, sem o viés que o método acima continha e portanto foi calculado em 89,51%."
      ]
    },
    {
      "cell_type": "markdown",
      "metadata": {
        "id": "kfh1olbVzxqY"
      },
      "source": [
        "A partir do conjunto de teste, foi obtida um erro ainda menor com os dados não vistos, porém próximo aos dados de treinamento. O que demonstra que o modelo não teve Overfitting e nem underfitting."
      ]
    },
    {
      "cell_type": "markdown",
      "metadata": {
        "id": "PV1JAPuh2E8e"
      },
      "source": [
        "Por fim, será realizado um treinamento com todo o Dataset para preparar o modelo para utilização em produção."
      ]
    },
    {
      "cell_type": "code",
      "execution_count": 265,
      "metadata": {
        "id": "8HWN4eXp0X8G",
        "colab": {
          "base_uri": "https://localhost:8080/",
          "height": 75
        },
        "outputId": "74a0810c-f1c3-400f-bec3-3fd3dffbe23c"
      },
      "outputs": [
        {
          "output_type": "execute_result",
          "data": {
            "text/plain": [
              "GradientBoostingRegressor(learning_rate=0.25, n_estimators=125)"
            ],
            "text/html": [
              "<style>#sk-container-id-6 {color: black;background-color: white;}#sk-container-id-6 pre{padding: 0;}#sk-container-id-6 div.sk-toggleable {background-color: white;}#sk-container-id-6 label.sk-toggleable__label {cursor: pointer;display: block;width: 100%;margin-bottom: 0;padding: 0.3em;box-sizing: border-box;text-align: center;}#sk-container-id-6 label.sk-toggleable__label-arrow:before {content: \"▸\";float: left;margin-right: 0.25em;color: #696969;}#sk-container-id-6 label.sk-toggleable__label-arrow:hover:before {color: black;}#sk-container-id-6 div.sk-estimator:hover label.sk-toggleable__label-arrow:before {color: black;}#sk-container-id-6 div.sk-toggleable__content {max-height: 0;max-width: 0;overflow: hidden;text-align: left;background-color: #f0f8ff;}#sk-container-id-6 div.sk-toggleable__content pre {margin: 0.2em;color: black;border-radius: 0.25em;background-color: #f0f8ff;}#sk-container-id-6 input.sk-toggleable__control:checked~div.sk-toggleable__content {max-height: 200px;max-width: 100%;overflow: auto;}#sk-container-id-6 input.sk-toggleable__control:checked~label.sk-toggleable__label-arrow:before {content: \"▾\";}#sk-container-id-6 div.sk-estimator input.sk-toggleable__control:checked~label.sk-toggleable__label {background-color: #d4ebff;}#sk-container-id-6 div.sk-label input.sk-toggleable__control:checked~label.sk-toggleable__label {background-color: #d4ebff;}#sk-container-id-6 input.sk-hidden--visually {border: 0;clip: rect(1px 1px 1px 1px);clip: rect(1px, 1px, 1px, 1px);height: 1px;margin: -1px;overflow: hidden;padding: 0;position: absolute;width: 1px;}#sk-container-id-6 div.sk-estimator {font-family: monospace;background-color: #f0f8ff;border: 1px dotted black;border-radius: 0.25em;box-sizing: border-box;margin-bottom: 0.5em;}#sk-container-id-6 div.sk-estimator:hover {background-color: #d4ebff;}#sk-container-id-6 div.sk-parallel-item::after {content: \"\";width: 100%;border-bottom: 1px solid gray;flex-grow: 1;}#sk-container-id-6 div.sk-label:hover label.sk-toggleable__label {background-color: #d4ebff;}#sk-container-id-6 div.sk-serial::before {content: \"\";position: absolute;border-left: 1px solid gray;box-sizing: border-box;top: 0;bottom: 0;left: 50%;z-index: 0;}#sk-container-id-6 div.sk-serial {display: flex;flex-direction: column;align-items: center;background-color: white;padding-right: 0.2em;padding-left: 0.2em;position: relative;}#sk-container-id-6 div.sk-item {position: relative;z-index: 1;}#sk-container-id-6 div.sk-parallel {display: flex;align-items: stretch;justify-content: center;background-color: white;position: relative;}#sk-container-id-6 div.sk-item::before, #sk-container-id-6 div.sk-parallel-item::before {content: \"\";position: absolute;border-left: 1px solid gray;box-sizing: border-box;top: 0;bottom: 0;left: 50%;z-index: -1;}#sk-container-id-6 div.sk-parallel-item {display: flex;flex-direction: column;z-index: 1;position: relative;background-color: white;}#sk-container-id-6 div.sk-parallel-item:first-child::after {align-self: flex-end;width: 50%;}#sk-container-id-6 div.sk-parallel-item:last-child::after {align-self: flex-start;width: 50%;}#sk-container-id-6 div.sk-parallel-item:only-child::after {width: 0;}#sk-container-id-6 div.sk-dashed-wrapped {border: 1px dashed gray;margin: 0 0.4em 0.5em 0.4em;box-sizing: border-box;padding-bottom: 0.4em;background-color: white;}#sk-container-id-6 div.sk-label label {font-family: monospace;font-weight: bold;display: inline-block;line-height: 1.2em;}#sk-container-id-6 div.sk-label-container {text-align: center;}#sk-container-id-6 div.sk-container {/* jupyter's `normalize.less` sets `[hidden] { display: none; }` but bootstrap.min.css set `[hidden] { display: none !important; }` so we also need the `!important` here to be able to override the default hidden behavior on the sphinx rendered scikit-learn.org. See: https://github.com/scikit-learn/scikit-learn/issues/21755 */display: inline-block !important;position: relative;}#sk-container-id-6 div.sk-text-repr-fallback {display: none;}</style><div id=\"sk-container-id-6\" class=\"sk-top-container\"><div class=\"sk-text-repr-fallback\"><pre>GradientBoostingRegressor(learning_rate=0.25, n_estimators=125)</pre><b>In a Jupyter environment, please rerun this cell to show the HTML representation or trust the notebook. <br />On GitHub, the HTML representation is unable to render, please try loading this page with nbviewer.org.</b></div><div class=\"sk-container\" hidden><div class=\"sk-item\"><div class=\"sk-estimator sk-toggleable\"><input class=\"sk-toggleable__control sk-hidden--visually\" id=\"sk-estimator-id-6\" type=\"checkbox\" checked><label for=\"sk-estimator-id-6\" class=\"sk-toggleable__label sk-toggleable__label-arrow\">GradientBoostingRegressor</label><div class=\"sk-toggleable__content\"><pre>GradientBoostingRegressor(learning_rate=0.25, n_estimators=125)</pre></div></div></div></div></div>"
            ]
          },
          "metadata": {},
          "execution_count": 265
        }
      ],
      "source": [
        "model = GradientBoostingRegressor(max_depth=3, min_samples_leaf=1, min_samples_split=2, n_estimators=125, learning_rate=0.25)\n",
        "\n",
        "#Preparando a Padronização\n",
        "scaler = StandardScaler().fit(X)\n",
        "X_scaled = scaler.transform(X)\n",
        "model.fit(X_scaled, y)"
      ]
    },
    {
      "cell_type": "markdown",
      "metadata": {
        "id": "NDbp4FffrAk9"
      },
      "source": [
        "#7 Conclusão\n"
      ]
    },
    {
      "cell_type": "markdown",
      "metadata": {
        "id": "G-eX8UFWQ4xn"
      },
      "source": [
        "Após realizar a finalização dos treinamentos do Modelo de Regressão, foi possível observar que os algoritimos utilizando os Ensembles tiveram um desempenho superior, principalmente após a realização do Grid Search, entretanto, verificou-se que a melhora no desempenho depois de tentar diversas combinações no Grid Search acabou não sendo relevante além de ocasionar em um aumento de tempo relevante no treinamento do modelo.\n",
        "\n",
        "Foi possível verificar que alguns algoritimos de Ensembles não tiveram uma melhora desempenho após a realização da normalização e da padronização, o que indica que esses algoritimos não são muito afetados pela escala dos dados.\n",
        "\n",
        "O Feature Selection impactou em uma melhora de desempenho dos modelos treinados inicialmente, porém, acabou não sendo superior comparado ao treinamento com o Dataset original, portanto, optou-se por não utilizar a Feature Selection para o modelo final.\n",
        "\n",
        "Através do Gráfico de dispersão foi possível observar que o modelo tem um desempenho superior com as amostras com valores inferiores ou mais próximos da média, conforme os valores das amostras foram aumentando, houve uma maior dispersão, isto ocorreu pelas amostras não estarem balanceadas.\n",
        "\n",
        "Por fim, é possível concluir que o melhor algoritimo foi o Gradient Boosting Regresso e que não houve overfitting ou underfitting.\n",
        "\n",
        "Como sugestão de melhoria neste trabalho, vislumbro, posteriormente, poder realizar o treinamento com outros modelos e realizar novos tratamentos nos dados, realizar outros tipos de feature selection, além de realizar alguns ajustes de hiperparâmetros em outros algoritimos e por fim, buscar novas amostras de modo a balancear melhor o Dataset e buscar novos dados para realizar o teste com dados não vistos e verificar como o modelo irá responder a estes dados."
      ]
    }
  ],
  "metadata": {
    "colab": {
      "toc_visible": true,
      "provenance": [],
      "authorship_tag": "ABX9TyMQMQibrpctK9pSs1pt4Q4z",
      "include_colab_link": true
    },
    "kernelspec": {
      "display_name": "Python 3",
      "name": "python3"
    },
    "language_info": {
      "name": "python"
    }
  },
  "nbformat": 4,
  "nbformat_minor": 0
}